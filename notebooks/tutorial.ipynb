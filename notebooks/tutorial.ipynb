{
 "cells": [
  {
   "cell_type": "markdown",
   "metadata": {},
   "source": [
    "# SickleScope Tutorial: Comprehensive Genetic Variant Analysis\n",
    "\n",
    "Welcome to the SickleScope tutorial. This notebook will guide you through the complete workflow for analysing genetic variants related to sickle cell disease using the SickleScope Python package.\n",
    "\n",
    "## Learning Objectives\n",
    "\n",
    "By the end of this tutorial, you will be able to:\n",
    "1. **Load and validate genetic variant data**\n",
    "2. **Perform comprehensive variant classification**\n",
    "3. **Calculate risk scores using weighted algorithms**\n",
    "4. **Generate interactive visualisations**\n",
    "5. **Interpret clinical implications and management recommendations**\n",
    "6. **Create comprehensive analysis reports**\n",
    "\n",
    "## Tutorial Overview\n",
    "\n",
    "- **Level**: Beginner to Intermediate\n",
    "- **Prerequisites**: Basic Python knowledge and understanding of genetics concepts\n",
    "\n",
    "---"
   ]
  },
  {
   "cell_type": "markdown",
   "metadata": {},
   "source": [
    "## 1. Setup and Package Installation\n",
    "\n",
    "Let's start by importing the necessary libraries and initialising our analysis environment."
   ]
  },
  {
   "cell_type": "code",
   "execution_count": 1,
   "metadata": {},
   "outputs": [
    {
     "name": "stdout",
     "output_type": "stream",
     "text": [
      "Libraries imported successfully\n",
      "Python version: 3.13.7\n",
      "Working directory: C:\\Users\\Talhah Zubayer\\Documents\\SickleScope Genomics Project\\sickle-scope\\notebooks\n"
     ]
    }
   ],
   "source": [
    "# Import required libraries\n",
    "import sys\n",
    "import os\n",
    "import pandas as pd\n",
    "import numpy as np\n",
    "import matplotlib.pyplot as plt\n",
    "import seaborn as sns\n",
    "from pathlib import Path\n",
    "import warnings\n",
    "warnings.filterwarnings('ignore')\n",
    "\n",
    "# Set up plotting parameters\n",
    "plt.rcParams['figure.figsize'] = (12, 8)\n",
    "plt.rcParams['font.size'] = 12\n",
    "sns.set_style(\"whitegrid\")\n",
    "\n",
    "print(\"Libraries imported successfully\")\n",
    "print(f\"Python version: {sys.version[:6]}\")\n",
    "print(f\"Working directory: {os.getcwd()}\")"
   ]
  },
  {
   "cell_type": "code",
   "execution_count": 2,
   "metadata": {},
   "outputs": [
    {
     "name": "stdout",
     "output_type": "stream",
     "text": [
      "SickleScope modules imported successfully\n",
      "Ready to begin genetic variant analysis!\n"
     ]
    }
   ],
   "source": [
    "# Import SickleScope modules\n",
    "# Adjust the import path based on your installation method\n",
    "sys.path.append('../')\n",
    "\n",
    "try:\n",
    "    from sickle_scope.analyser import SickleAnalyser\n",
    "    from sickle_scope.visualiser import SickleVisualiser\n",
    "    print(\"SickleScope modules imported successfully\")\n",
    "    print(\"Ready to begin genetic variant analysis!\")\n",
    "except ImportError as e:\n",
    "    print(f\"Import error: {e}\")\n",
    "    print(\"Make sure you're running this notebook from the notebooks/ directory\")\n",
    "    print(\"Or install SickleScope with: pip install -e ../\")"
   ]
  },
  {
   "cell_type": "markdown",
   "metadata": {},
   "source": [
    "## 2. Understanding the Data Format\n",
    "\n",
    "Before we begin analysis, let's understand the structure and requirements of genetic variant data for SickleScope.\n",
    "\n",
    "### Required Data Columns:\n",
    "- **chromosome**: Chromosome identifier (example: '11', 'chr11')\n",
    "- **position**: Genomic position (integer)\n",
    "- **ref_allele**: Reference nucleotide (A, T, G, C)\n",
    "- **alt_allele**: Alternate nucleotide (A, T, G, C)\n",
    "- **genotype**: Zygosity information (0/0, 0/1, 1/1)"
   ]
  },
  {
   "cell_type": "code",
   "execution_count": 3,
   "metadata": {},
   "outputs": [
    {
     "name": "stdout",
     "output_type": "stream",
     "text": [
      "Loaded HBB database: 7 pathogenic variants, 5 modifiers\n",
      "Initialised random_forest predictor\n",
      "Creating training dataset...\n",
      "Created training dataset with 73 samples\n",
      "Severity distribution: {'normal': 50, 'mild': 15, 'severe': 6, 'moderate': 2}\n",
      "Training random_forest model...\n",
      "Model training completed:\n",
      "  Training accuracy: 0.983\n",
      "  Test accuracy: 0.867\n",
      "  CV accuracy: 0.920 +/- 0.078\n",
      "  Top features:\n",
      "    genotype_type: 0.307\n",
      "    severity_score: 0.282\n",
      "    population_frequency: 0.204\n",
      "ML model trained with 0.920 CV accuracy\n",
      "SickleAnalyser initialised successfully\n",
      "Machine learning severity predictor ready\n",
      "\n",
      " Required Data Columns:\n",
      "  1. chromosome\n",
      "  2. position\n",
      "  3. ref_allele\n",
      "  4. alt_allele\n",
      "  5. genotype\n",
      "\n",
      "HBB Gene Region (Chromosome 11):\n",
      "Start position: 5,200,000\n",
      "End position: 5,280,000\n",
      "Region size: 80,000 bp\n",
      "\n",
      "Analysis Focus:\n",
      "Pathogenic HBB variants (sickle cell, thalassemia)\n",
      "Protective modifier variants (BCL11A, HBS1L-MYB)\n",
      "Risk scoring based on clinical evidence\n"
     ]
    }
   ],
   "source": [
    "# Initialise the SickleScope analyser with verbose output\n",
    "analyser = SickleAnalyser(verbose=True)\n",
    "\n",
    "print(\"\\n Required Data Columns:\")\n",
    "for i, col in enumerate(analyser.required_columns, 1):\n",
    "    print(f\"  {i}. {col}\")\n",
    "\n",
    "print(\"\\nHBB Gene Region (Chromosome 11):\")\n",
    "print(f\"Start position: {analyser.hbb_region['start']:,}\")\n",
    "print(f\"End position: {analyser.hbb_region['end']:,}\")\n",
    "print(f\"Region size: {analyser.hbb_region['end'] - analyser.hbb_region['start']:,} bp\")\n",
    "\n",
    "print(\"\\nAnalysis Focus:\")\n",
    "print(\"Pathogenic HBB variants (sickle cell, thalassemia)\")\n",
    "print(\"Protective modifier variants (BCL11A, HBS1L-MYB)\")\n",
    "print(\"Risk scoring based on clinical evidence\")"
   ]
  },
  {
   "cell_type": "markdown",
   "metadata": {},
   "source": [
    "### Sample Data Exploration\n",
    "\n",
    "Let's examine our sample dataset to understand the expected data format."
   ]
  },
  {
   "cell_type": "code",
   "execution_count": 4,
   "metadata": {},
   "outputs": [
    {
     "name": "stdout",
     "output_type": "stream",
     "text": [
      "Sample Data Structure:\n",
      "Shape: 100 variants × 11 columns\n",
      "Columns: ['variant_id', 'chromosome', 'position', 'ref_allele', 'alt_allele', 'genotype', 'gene', 'clinical_significance', 'population_frequency', 'amino_acid_change', 'phenotype']\n",
      "\n",
      "First few rows:\n"
     ]
    },
    {
     "data": {
      "text/html": [
       "<div>\n",
       "<style scoped>\n",
       "    .dataframe tbody tr th:only-of-type {\n",
       "        vertical-align: middle;\n",
       "    }\n",
       "\n",
       "    .dataframe tbody tr th {\n",
       "        vertical-align: top;\n",
       "    }\n",
       "\n",
       "    .dataframe thead th {\n",
       "        text-align: right;\n",
       "    }\n",
       "</style>\n",
       "<table border=\"1\" class=\"dataframe\">\n",
       "  <thead>\n",
       "    <tr style=\"text-align: right;\">\n",
       "      <th></th>\n",
       "      <th>variant_id</th>\n",
       "      <th>chromosome</th>\n",
       "      <th>position</th>\n",
       "      <th>ref_allele</th>\n",
       "      <th>alt_allele</th>\n",
       "      <th>genotype</th>\n",
       "      <th>gene</th>\n",
       "      <th>clinical_significance</th>\n",
       "      <th>population_frequency</th>\n",
       "      <th>amino_acid_change</th>\n",
       "      <th>phenotype</th>\n",
       "    </tr>\n",
       "  </thead>\n",
       "  <tbody>\n",
       "    <tr>\n",
       "      <th>0</th>\n",
       "      <td>rs334</td>\n",
       "      <td>11</td>\n",
       "      <td>5227002</td>\n",
       "      <td>T</td>\n",
       "      <td>A</td>\n",
       "      <td>1/1</td>\n",
       "      <td>HBB</td>\n",
       "      <td>pathogenic</td>\n",
       "      <td>0.04490</td>\n",
       "      <td>p.Glu6Val</td>\n",
       "      <td>sickle_cell_disease</td>\n",
       "    </tr>\n",
       "    <tr>\n",
       "      <th>1</th>\n",
       "      <td>rs33930165</td>\n",
       "      <td>11</td>\n",
       "      <td>5226977</td>\n",
       "      <td>G</td>\n",
       "      <td>A</td>\n",
       "      <td>0/1</td>\n",
       "      <td>HBB</td>\n",
       "      <td>pathogenic</td>\n",
       "      <td>0.01200</td>\n",
       "      <td>p.Glu6Lys</td>\n",
       "      <td>hemoglobin_C</td>\n",
       "    </tr>\n",
       "    <tr>\n",
       "      <th>2</th>\n",
       "      <td>rs33950507</td>\n",
       "      <td>11</td>\n",
       "      <td>5226847</td>\n",
       "      <td>G</td>\n",
       "      <td>A</td>\n",
       "      <td>0/1</td>\n",
       "      <td>HBB</td>\n",
       "      <td>pathogenic</td>\n",
       "      <td>0.00041</td>\n",
       "      <td>p.Glu26Lys</td>\n",
       "      <td>hemoglobin_E</td>\n",
       "    </tr>\n",
       "    <tr>\n",
       "      <th>3</th>\n",
       "      <td>rs1427407</td>\n",
       "      <td>2</td>\n",
       "      <td>60494113</td>\n",
       "      <td>G</td>\n",
       "      <td>T</td>\n",
       "      <td>1/1</td>\n",
       "      <td>BCL11A</td>\n",
       "      <td>protective</td>\n",
       "      <td>0.24000</td>\n",
       "      <td>NaN</td>\n",
       "      <td>modifier_effect</td>\n",
       "    </tr>\n",
       "    <tr>\n",
       "      <th>4</th>\n",
       "      <td>rs9399137</td>\n",
       "      <td>6</td>\n",
       "      <td>135460698</td>\n",
       "      <td>T</td>\n",
       "      <td>C</td>\n",
       "      <td>0/1</td>\n",
       "      <td>HBS1L-MYB</td>\n",
       "      <td>protective</td>\n",
       "      <td>0.15000</td>\n",
       "      <td>NaN</td>\n",
       "      <td>modifier_effect</td>\n",
       "    </tr>\n",
       "  </tbody>\n",
       "</table>\n",
       "</div>"
      ],
      "text/plain": [
       "   variant_id  chromosome   position ref_allele alt_allele genotype  \\\n",
       "0       rs334          11    5227002          T          A      1/1   \n",
       "1  rs33930165          11    5226977          G          A      0/1   \n",
       "2  rs33950507          11    5226847          G          A      0/1   \n",
       "3   rs1427407           2   60494113          G          T      1/1   \n",
       "4   rs9399137           6  135460698          T          C      0/1   \n",
       "\n",
       "        gene clinical_significance  population_frequency amino_acid_change  \\\n",
       "0        HBB            pathogenic               0.04490         p.Glu6Val   \n",
       "1        HBB            pathogenic               0.01200         p.Glu6Lys   \n",
       "2        HBB            pathogenic               0.00041        p.Glu26Lys   \n",
       "3     BCL11A            protective               0.24000               NaN   \n",
       "4  HBS1L-MYB            protective               0.15000               NaN   \n",
       "\n",
       "             phenotype  \n",
       "0  sickle_cell_disease  \n",
       "1         hemoglobin_C  \n",
       "2         hemoglobin_E  \n",
       "3      modifier_effect  \n",
       "4      modifier_effect  "
      ]
     },
     "metadata": {},
     "output_type": "display_data"
    },
    {
     "name": "stdout",
     "output_type": "stream",
     "text": [
      "\n",
      "Data Summary:\n",
      "Unique chromosomes: [2, 6, 11, 16]\n",
      "Position range: 172,876 - 135,460,698\n",
      "Genotypes present: ['0/0', '0/1', '1/1']\n"
     ]
    }
   ],
   "source": [
    "# Load sample data to understand the format\n",
    "sample_data_path = '../tests/sample_data/hbb_variants.csv'\n",
    "\n",
    "if os.path.exists(sample_data_path):\n",
    "    sample_df = pd.read_csv(sample_data_path)\n",
    "    print(\"Sample Data Structure:\")\n",
    "    print(f\"Shape: {sample_df.shape[0]} variants × {sample_df.shape[1]} columns\")\n",
    "    print(f\"Columns: {list(sample_df.columns)}\")\n",
    "    \n",
    "    print(\"\\nFirst few rows:\")\n",
    "    display(sample_df.head())\n",
    "    \n",
    "    print(\"\\nData Summary:\")\n",
    "    print(f\"Unique chromosomes: {sorted(sample_df['chromosome'].unique().tolist())}\")\n",
    "    print(f\"Position range: {sample_df['position'].min():,} - {sample_df['position'].max():,}\")\n",
    "    print(f\"Genotypes present: {sorted(sample_df['genotype'].unique())}\")\n",
    "    \n",
    "else:\n",
    "    print(\"Sample data file not found. Let's create example data for demonstration...\")\n",
    "    \n",
    "    # Create realistic example data based on known HBB variants\n",
    "    example_data = {\n",
    "        'chromosome': ['11', '11', '11', '11', '11'],\n",
    "        'position': [5227002, 5226980, 5226918, 5248000, 5249000],  # Known HBB positions\n",
    "        'ref_allele': ['T', 'G', 'G', 'C', 'T'],\n",
    "        'alt_allele': ['A', 'A', 'A', 'G', 'A'],\n",
    "        'genotype': ['1/1', '0/1', '1/1', '0/1', '0/0']\n",
    "    }\n",
    "    sample_df = pd.DataFrame(example_data)\n",
    "    \n",
    "    print(\"Created Example Data:\")\n",
    "    display(sample_df)\n",
    "    \n",
    "    # Save example data for analysis\n",
    "    sample_data_path = 'example_variants.csv'\n",
    "    sample_df.to_csv(sample_data_path, index=False)\n",
    "    print(f\" Saved example data as: {sample_data_path}\")"
   ]
  },
  {
   "cell_type": "markdown",
   "metadata": {},
   "source": [
    "### Understanding Genotype Formats\n",
    "\n",
    "SickleScope supports multiple genotype notation formats."
   ]
  },
  {
   "cell_type": "code",
   "execution_count": 5,
   "metadata": {},
   "outputs": [
    {
     "name": "stdout",
     "output_type": "stream",
     "text": [
      " Genotype Format Guide:\n",
      "==================================================================================\n",
      "  0/0  → Homozygous reference (wild-type)    | No risk contribution\n",
      "  0/1  → Heterozygous (carrier)              | Moderate risk (50% of full impact)\n",
      "  1/1  → Homozygous alternate (affected)     | Full risk contribution\n",
      "  0|0  → Phased homozygous reference         | No risk contribution\n",
      "  0|1  → Phased heterozygous                 | Moderate risk (50% of full impact)\n",
      "  1|1  → Phased homozygous alternate         | Full risk contribution\n",
      "\n",
      " Genotype Distribution in Sample Data:\n",
      "============================================================\n",
      "  1/1: 44 variants (44.0%) - Homozygous alternate (affected)\n",
      "  0/1: 32 variants (32.0%) - Heterozygous (carrier)\n",
      "  0/0: 24 variants (24.0%) - Homozygous reference (wild-type)\n"
     ]
    }
   ],
   "source": [
    "# Demonstrate genotype format understanding\n",
    "# Slash format (eg: 0/1): Unphased genotypes\n",
    "# Pipe format (eg: 0|1): Phased genotypes\n",
    "\n",
    "genotype_guide = {\n",
    "    '0/0': {'description': 'Homozygous reference (wild-type)', 'impact': 'No risk contribution'},\n",
    "    '0/1': {'description': 'Heterozygous (carrier)', 'impact': 'Moderate risk (50% of full impact)'},\n",
    "    '1/1': {'description': 'Homozygous alternate (affected)', 'impact': 'Full risk contribution'},\n",
    "    '0|0': {'description': 'Phased homozygous reference', 'impact': 'No risk contribution'},\n",
    "    '0|1': {'description': 'Phased heterozygous', 'impact': 'Moderate risk (50% of full impact)'},\n",
    "    '1|1': {'description': 'Phased homozygous alternate', 'impact': 'Full risk contribution'}\n",
    "}\n",
    "\n",
    "print(\" Genotype Format Guide:\")\n",
    "print(\"=\" * 82)\n",
    "for genotype, info in genotype_guide.items():\n",
    "    print(f\"  {genotype:<4} → {info['description']:<35} | {info['impact']}\")\n",
    "\n",
    "print(\"\\n Genotype Distribution in Sample Data:\")\n",
    "print(\"=\" * 60)\n",
    "genotype_counts = sample_df['genotype'].value_counts()\n",
    "total_variants = len(sample_df)\n",
    "\n",
    "for genotype, count in genotype_counts.items():\n",
    "    percentage = (count / total_variants) * 100\n",
    "    description = genotype_guide.get(genotype, {}).get('description', 'Unknown format')\n",
    "    print(f\"  {genotype}: {count} variants ({percentage:.1f}%) - {description}\")"
   ]
  },
  {
   "cell_type": "markdown",
   "metadata": {},
   "source": [
    "## 3. Data Validation and Quality Control\n",
    "\n",
    "Before analysis, we need to validate our data to ensure it meets SickleScope's requirements."
   ]
  },
  {
   "cell_type": "code",
   "execution_count": 6,
   "metadata": {},
   "outputs": [
    {
     "name": "stdout",
     "output_type": "stream",
     "text": [
      "Validating input data...\n",
      "Data validation PASSED!\n",
      "Your data is ready for analysis.\n",
      "\n",
      "Data Quality Summary:\n",
      "Total variants: 100\n",
      "Required columns present: True\n",
      "Unique chromosomes: [11, 2, 6, 16]\n",
      "Genotype formats found: ['1/1', '0/1', '0/0']\n",
      "Position range: 172,876 to 135,460,698\n"
     ]
    }
   ],
   "source": [
    "# Validate the sample data\n",
    "print(\"Validating input data...\")\n",
    "\n",
    "is_valid, validation_messages = analyser.validate_input(sample_data_path)\n",
    "\n",
    "if is_valid:\n",
    "    print(\"Data validation PASSED!\")\n",
    "    print(\"Your data is ready for analysis.\")\n",
    "else:\n",
    "    print(\"Data validation FAILED:\")\n",
    "    for i, message in enumerate(validation_messages, 1):\n",
    "        print(f\"  {i}. {message}\")\n",
    "    print(\"\\nPlease fix these issues before proceeding with analysis.\")\n",
    "\n",
    "print(\"\\nData Quality Summary:\")\n",
    "print(f\"Total variants: {len(sample_df)}\")\n",
    "print(f\"Required columns present: {set(analyser.required_columns).issubset(sample_df.columns)}\")\n",
    "print(f\"Unique chromosomes: {sample_df['chromosome'].unique().tolist()}\")\n",
    "print(f\"Genotype formats found: {list(sample_df['genotype'].unique())}\")\n",
    "print(f\"Position range: {sample_df['position'].min():,} to {sample_df['position'].max():,}\")"
   ]
  },
  {
   "cell_type": "markdown",
   "metadata": {},
   "source": [
    "## 4. Comprehensive Variant Analysis\n",
    "\n",
    "Now we will perform the core analysis - classifying variants and assessing their clinical significance using SickleScope's evidence-based algorithms."
   ]
  },
  {
   "cell_type": "code",
   "execution_count": 7,
   "metadata": {},
   "outputs": [
    {
     "name": "stderr",
     "output_type": "stream",
     "text": [
      "2025-09-10 14:53:12,921 - sickle_scope.utils - INFO - DataFrame optimised: 78.7% memory reduction (0.0MB -> 0.0MB)\n"
     ]
    },
    {
     "name": "stdout",
     "output_type": "stream",
     "text": [
      "Starting Comprehensive Variant Analysis...\n",
      "This may take a few moments...\n",
      "Reading data from: ../tests/sample_data/hbb_variants.csv\n",
      "Found 97 variants in HBB region\n",
      "Total variants for analysis: 100\n",
      "Added ML severity predictions\n",
      "Identified 1 potentially pathogenic variants\n",
      "\n",
      "Analysis COMPLETED successfully!\n",
      "Results shape: 100 variants × 25 columns\n",
      "New analysis columns added: 14\n",
      "\n",
      "Analysis Pipeline Steps Completed:\n",
      "Step 1: Data standardisation and validation\n",
      "Step 2: Variant classification against HBB database\n",
      "Step 3: Risk score calculation using weighted algorithms\n",
      "Step 4: Clinical severity assessment\n",
      "Step 5: Management recommendations generation\n"
     ]
    }
   ],
   "source": [
    "# Perform comprehensive variant analysis\n",
    "print(\"Starting Comprehensive Variant Analysis...\")\n",
    "print(\"This may take a few moments...\")\n",
    "\n",
    "# Run the analysis\n",
    "results = analyser.analyse_file(sample_data_path)\n",
    "\n",
    "print(\"\\nAnalysis COMPLETED successfully!\")\n",
    "print(f\"Results shape: {results.shape[0]} variants × {results.shape[1]} columns\")\n",
    "print(f\"New analysis columns added: {results.shape[1] - sample_df.shape[1]}\")\n",
    "\n",
    "print(\"\\nAnalysis Pipeline Steps Completed:\")\n",
    "analysis_steps = [\n",
    "    \"Data standardisation and validation\",\n",
    "    \"Variant classification against HBB database\",\n",
    "    \"Risk score calculation using weighted algorithms\",\n",
    "    \"Clinical severity assessment\",\n",
    "    \"Management recommendations generation\"\n",
    "]\n",
    "\n",
    "for i, step in enumerate(analysis_steps, 1):\n",
    "    print(f\"Step {i}: {step}\")"
   ]
  },
  {
   "cell_type": "code",
   "execution_count": 8,
   "metadata": {},
   "outputs": [
    {
     "name": "stdout",
     "output_type": "stream",
     "text": [
      "Analysis Results Overview\n",
      "=========================\n",
      "New Analysis Columns:\n",
      "variant_classification\n",
      "variant_id\n",
      "variant_name\n",
      "is_pathogenic\n",
      "is_modifier\n",
      "risk_score\n",
      "severity_category\n",
      "severity_description\n",
      "clinical_management\n",
      "\n",
      "Analysis Results Sample:\n"
     ]
    },
    {
     "data": {
      "text/html": [
       "<div>\n",
       "<style scoped>\n",
       "    .dataframe tbody tr th:only-of-type {\n",
       "        vertical-align: middle;\n",
       "    }\n",
       "\n",
       "    .dataframe tbody tr th {\n",
       "        vertical-align: top;\n",
       "    }\n",
       "\n",
       "    .dataframe thead th {\n",
       "        text-align: right;\n",
       "    }\n",
       "</style>\n",
       "<table border=\"1\" class=\"dataframe\">\n",
       "  <thead>\n",
       "    <tr style=\"text-align: right;\">\n",
       "      <th></th>\n",
       "      <th>chromosome</th>\n",
       "      <th>position</th>\n",
       "      <th>genotype</th>\n",
       "      <th>variant_classification</th>\n",
       "      <th>variant_name</th>\n",
       "      <th>risk_score</th>\n",
       "      <th>severity_category</th>\n",
       "    </tr>\n",
       "  </thead>\n",
       "  <tbody>\n",
       "    <tr>\n",
       "      <th>0</th>\n",
       "      <td>11</td>\n",
       "      <td>5227002</td>\n",
       "      <td>1/1</td>\n",
       "      <td>pathogenic</td>\n",
       "      <td>HbS - Sickle Cell Variant</td>\n",
       "      <td>6.0</td>\n",
       "      <td>minimal_risk</td>\n",
       "    </tr>\n",
       "    <tr>\n",
       "      <th>1</th>\n",
       "      <td>11</td>\n",
       "      <td>5226977</td>\n",
       "      <td>0/1</td>\n",
       "      <td>uncertain</td>\n",
       "      <td>novel_variant</td>\n",
       "      <td>0.6</td>\n",
       "      <td>minimal_risk</td>\n",
       "    </tr>\n",
       "    <tr>\n",
       "      <th>2</th>\n",
       "      <td>11</td>\n",
       "      <td>5226847</td>\n",
       "      <td>0/1</td>\n",
       "      <td>uncertain</td>\n",
       "      <td>novel_variant</td>\n",
       "      <td>0.6</td>\n",
       "      <td>minimal_risk</td>\n",
       "    </tr>\n",
       "    <tr>\n",
       "      <th>3</th>\n",
       "      <td>2</td>\n",
       "      <td>60494113</td>\n",
       "      <td>1/1</td>\n",
       "      <td>uncertain</td>\n",
       "      <td>novel_variant</td>\n",
       "      <td>1.2</td>\n",
       "      <td>minimal_risk</td>\n",
       "    </tr>\n",
       "    <tr>\n",
       "      <th>4</th>\n",
       "      <td>6</td>\n",
       "      <td>135460698</td>\n",
       "      <td>0/1</td>\n",
       "      <td>uncertain</td>\n",
       "      <td>novel_variant</td>\n",
       "      <td>0.6</td>\n",
       "      <td>minimal_risk</td>\n",
       "    </tr>\n",
       "  </tbody>\n",
       "</table>\n",
       "</div>"
      ],
      "text/plain": [
       "  chromosome   position genotype variant_classification  \\\n",
       "0         11    5227002      1/1             pathogenic   \n",
       "1         11    5226977      0/1              uncertain   \n",
       "2         11    5226847      0/1              uncertain   \n",
       "3          2   60494113      1/1              uncertain   \n",
       "4          6  135460698      0/1              uncertain   \n",
       "\n",
       "                variant_name  risk_score severity_category  \n",
       "0  HbS - Sickle Cell Variant         6.0      minimal_risk  \n",
       "1              novel_variant         0.6      minimal_risk  \n",
       "2              novel_variant         0.6      minimal_risk  \n",
       "3              novel_variant         1.2      minimal_risk  \n",
       "4              novel_variant         0.6      minimal_risk  "
      ]
     },
     "metadata": {},
     "output_type": "display_data"
    },
    {
     "name": "stdout",
     "output_type": "stream",
     "text": [
      "\n",
      "Analysis completed for 100 variants\n"
     ]
    }
   ],
   "source": [
    "# Examine the analysis results in detail\n",
    "print(\"Analysis Results Overview\")\n",
    "print(\"=\" * 25)\n",
    "\n",
    "# Show the new columns added by analysis\n",
    "new_columns = [\n",
    "    'variant_classification', 'variant_id', 'variant_name', \n",
    "    'is_pathogenic', 'is_modifier', 'risk_score', \n",
    "    'severity_category', 'severity_description', 'clinical_management'\n",
    "]\n",
    "\n",
    "print(\"New Analysis Columns:\")\n",
    "for col in new_columns:\n",
    "    if col in results.columns:\n",
    "        print(f\"{col}\")\n",
    "    else:\n",
    "        print(f\"{col} (missing - check analysis)\")\n",
    "\n",
    "# Display sample results\n",
    "print(\"\\nAnalysis Results Sample:\")\n",
    "key_columns = ['chromosome', 'position', 'genotype', 'variant_classification', \n",
    "               'variant_name', 'risk_score', 'severity_category']\n",
    "display_columns = [col for col in key_columns if col in results.columns]\n",
    "\n",
    "if display_columns:\n",
    "    display(results[display_columns].head())\n",
    "else:\n",
    "    display(results.head())\n",
    "\n",
    "print(f\"\\nAnalysis completed for {len(results)} variants\")"
   ]
  },
  {
   "cell_type": "markdown",
   "metadata": {},
   "source": [
    "### Variant Classification Summary\n",
    "\n",
    "Let's examine how our variants were classified."
   ]
  },
  {
   "cell_type": "code",
   "execution_count": 9,
   "metadata": {},
   "outputs": [
    {
     "name": "stdout",
     "output_type": "stream",
     "text": [
      "Variant Classification Analysis\n",
      "===================================\n",
      "Classification Distribution:\n",
      "Uncertain   : 75 variants ( 75.0%)\n",
      "Benign      : 24 variants ( 24.0%)\n",
      "Pathogenic  :  1 variants (  1.0%)\n",
      "\n",
      "Pathogenic Variants (High Clinical Significance):\n",
      "  1. HbS - Sickle Cell Variant (Chr 11:5227002)\n",
      "       Genotype: 1/1 | Risk Score: 6.00\n",
      "       Clinical Impact: No sickle cell disease\n",
      "\n",
      "\n",
      "Protective Modifier Variants:\n",
      "No protective modifier variants found in this dataset\n"
     ]
    }
   ],
   "source": [
    "# Generate comprehensive classification summary\n",
    "print(\"Variant Classification Analysis\")\n",
    "print(\"=\" * 35)\n",
    "\n",
    "# Overall classification distribution\n",
    "if 'variant_classification' in results.columns:\n",
    "    classification_summary = results['variant_classification'].value_counts()\n",
    "    total_variants = len(results)\n",
    "    \n",
    "    print(\"Classification Distribution:\")\n",
    "    for classification, count in classification_summary.items():\n",
    "        percentage = (count / total_variants) * 100\n",
    "        print(f\"{classification.title():<12}: {count:>2} variants ({percentage:>5.1f}%)\")\n",
    "\n",
    "# Pathogenic variant details\n",
    "print(\"\\nPathogenic Variants (High Clinical Significance):\")\n",
    "if 'is_pathogenic' in results.columns:\n",
    "    pathogenic_variants = results[results['is_pathogenic'] == True]\n",
    "    if len(pathogenic_variants) > 0:\n",
    "        # Display pathogenic variants\n",
    "        for idx, (_, variant) in enumerate(pathogenic_variants.iterrows(), 1):\n",
    "            print(f\"  {idx}. {variant['variant_name']} (Chr {variant['chromosome']}:{variant['position']})\")\n",
    "            print(f\"       Genotype: {variant['genotype']} | Risk Score: {variant['risk_score']:.2f}\")\n",
    "            if 'severity_description' in variant:\n",
    "                print(f\"       Clinical Impact: {variant['severity_description']}\")\n",
    "            print() #Add blank line after each variant for readability\n",
    "    else:\n",
    "        # No pathogenic variants found\n",
    "        print(\"No pathogenic variants found in this dataset\")\n",
    "        print(\"This suggests a lower genetic risk profile.\")\n",
    "else:\n",
    "    # Classification column missing entirely\n",
    "    print(\"Classification data not available\")\n",
    "\n",
    "# Modifier/protective variants\n",
    "print(\"\\nProtective Modifier Variants:\")\n",
    "if 'is_modifier' in results.columns:\n",
    "    modifier_variants = results[results['is_modifier'] == True]\n",
    "    \n",
    "    if len(modifier_variants) > 0:\n",
    "        for idx, (_, variant) in enumerate(modifier_variants.iterrows(), 1):\n",
    "            print(f\"  {idx}. {variant['variant_name']} (Chr {variant['chromosome']}:{variant['position']})\")\n",
    "            print(f\"      Effect: Protective | Risk Score: {variant['risk_score']:.2f}\")\n",
    "    else:\n",
    "        print(\"No protective modifier variants found in this dataset\")\n",
    "else:\n",
    "    print(\"Modifier classification data not available\")"
   ]
  },
  {
   "cell_type": "markdown",
   "metadata": {},
   "source": [
    "## 5. Risk Assessment and Scoring Deep Dive\n",
    "\n",
    "Let's explore SickleScope's sophisticated risk scoring algorithm in detail."
   ]
  },
  {
   "cell_type": "code",
   "execution_count": 10,
   "metadata": {},
   "outputs": [
    {
     "name": "stdout",
     "output_type": "stream",
     "text": [
      "Risk Score Analysis\n",
      "=========================\n",
      "Statistical Summary:\n",
      "Mean risk score: 0.77\n",
      "Median risk score: 0.60\n",
      "Standard deviation: 0.71\n",
      "Range: 0.00 to 6.00\n",
      "Non-zero scores: 76/100\n",
      "\n",
      "Risk Stratification:\n",
      "Protective Factors:  0 variants (  0.0%)\n",
      "Minimal Risk      : 100 variants (100.0%)\n",
      "Carrier Status    :  0 variants (  0.0%)\n",
      "Moderate Risk     :  0 variants (  0.0%)\n",
      "High Risk         :  0 variants (  0.0%)\n"
     ]
    }
   ],
   "source": [
    "# Comprehensive risk score analysis\n",
    "print(\"Risk Score Analysis\")\n",
    "print(\"=\" * 25)\n",
    "\n",
    "if 'risk_score' in results.columns:\n",
    "    risk_scores = results['risk_score']\n",
    "    \n",
    "    print(\"Statistical Summary:\")\n",
    "    print(f\"Mean risk score: {risk_scores.mean():.2f}\")\n",
    "    print(f\"Median risk score: {risk_scores.median():.2f}\")\n",
    "    print(f\"Standard deviation: {risk_scores.std():.2f}\")\n",
    "    print(f\"Range: {risk_scores.min():.2f} to {risk_scores.max():.2f}\")\n",
    "    print(f\"Non-zero scores: {len(risk_scores[risk_scores != 0])}/{len(risk_scores)}\")\n",
    "    \n",
    "    print(\"\\nRisk Stratification:\")\n",
    "    score_ranges = [\n",
    "    (-20, 0, 'Protective Factors', 'PROTECTIVE'),\n",
    "    (0, 20, 'Minimal Risk', 'MINIMAL'),\n",
    "    (20, 40, 'Carrier Status', 'CARRIER'),\n",
    "    (40, 70, 'Moderate Risk', 'MODERATE'),\n",
    "    (70, 100, 'High Risk', 'HIGH')\n",
    "    ]\n",
    "    total_variants = len(results)\n",
    "    for min_score, max_score, category, emoji in score_ranges:\n",
    "        if min_score < 0:\n",
    "            count = len(results[results['risk_score'] < 0])\n",
    "        else:\n",
    "            count = len(results[(results['risk_score'] >= min_score) & (results['risk_score'] < max_score)])\n",
    "        \n",
    "        percentage = (count / total_variants) * 100\n",
    "        print(f\"{category:<18}: {count:>2} variants ({percentage:>5.1f}%)\")\n",
    "\n",
    "else:\n",
    "    print(\"Risk score data not available\")"
   ]
  },
  {
   "cell_type": "code",
   "execution_count": 11,
   "metadata": {},
   "outputs": [
    {
     "name": "stdout",
     "output_type": "stream",
     "text": [
      "\n",
      "Clinical Severity Assessment\n",
      "==============================\n",
      "Severity Distribution:\n",
      "[MINIMAL] Minimal Risk: 100 variants (100.0%)\n",
      "\n",
      "Clinical Management Recommendations:\n",
      "1. No intervention needed: 100 variant(s)\n"
     ]
    }
   ],
   "source": [
    "# Clinical severity and management analysis\n",
    "print(\"\\nClinical Severity Assessment\")\n",
    "print(\"=\" * 30)\n",
    "\n",
    "if 'severity_category' in results.columns:\n",
    "    severity_summary = results['severity_category'].value_counts()\n",
    "\n",
    "    print(\"Severity Distribution:\")\n",
    "    severity_indicators = {\n",
    "        'minimal_risk': 'MINIMAL',\n",
    "        'carrier_status': 'CARRIER', \n",
    "        'moderate_risk': 'MODERATE',\n",
    "        'high_risk': 'HIGH',\n",
    "        'protective_factors': 'PROTECTIVE'\n",
    "    }\n",
    "\n",
    "    for severity, count in severity_summary.items():\n",
    "        percentage = (count / len(results)) * 100\n",
    "        indicator = severity_indicators.get(severity, 'UNKNOWN')\n",
    "        clean_name = severity.replace('_', ' ').title()\n",
    "        print(f\"[{indicator}] {clean_name}: {count:>2} variants ({percentage:>5.1f}%)\")\n",
    "else:\n",
    "    print(\"Severity category data not available\")\n",
    "\n",
    "if 'clinical_management' in results.columns:\n",
    "    print(\"\\nClinical Management Recommendations:\")\n",
    "    management_summary = results['clinical_management'].value_counts()\n",
    "    \n",
    "    for i, (management, count) in enumerate(management_summary.items(), 1):\n",
    "        print(f\"{i}. {management}: {count} variant(s)\")\n",
    "else:\n",
    "    print(\"\\nClinical management data not available\")"
   ]
  },
  {
   "cell_type": "markdown",
   "metadata": {},
   "source": [
    "### Understanding the SickleScope Scoring Algorithm\n",
    "\n",
    "SickleScope uses a sophisticated, evidence-based scoring system:"
   ]
  },
  {
   "cell_type": "code",
   "execution_count": 12,
   "metadata": {},
   "outputs": [
    {
     "name": "stdout",
     "output_type": "stream",
     "text": [
      "SickleScope Risk Scoring Algorithm\n",
      "==================================================================================\n",
      "Component Weighting System:\n",
      "Primary HBB Mutations : 60%  - Pathogenic variants in the beta-globin gene\n",
      "BCL11A Modifiers      : 20%  - Variants affecting fetal haemoglobin production\n",
      "HBS1L-MYB Modifiers   : 10%  - Additional HbF-inducing variants\n",
      "Other Modifiers       : 10%  - Miscellaneous protective variants\n",
      "\n",
      "Genotype Impact Multipliers:\n",
      "1/1 (Homozygous)  : 1.0× - Full genetic impact       (Risk: Highest)\n",
      "0/1 (Heterozygous): 0.5× - Reduced genetic impact    (Risk: Moderate)\n",
      "0/0 (Wild-type)   : 0.0× - No genetic impact         (Risk: None)\n",
      "\n",
      "Score Interpretation Guide:\n",
      "Negative scores: Protective genetic factors present - may reduce disease severity\n",
      "0-20 points    : Minimal genetic risk - likely normal or carrier with no symptoms\n",
      "20-40 points   : Carrier status or mild risk - genetic counselling recommended\n",
      "40-70 points   : Moderate disease risk - regular monitoring and preventive care\n",
      "70-100 points  : High risk profile - comprehensive medical management required\n",
      "\n",
      "Clinical Evidence Basis:\n",
      "1. ClinVar pathogenic variant database\n",
      "2. OMIM disease associations\n",
      "3. Population genetic studies (1000 Genomes, gnomAD)\n",
      "4. Clinical literature and case studies\n",
      "5. Genome-wide association studies (GWAS)\n"
     ]
    }
   ],
   "source": [
    "# Explain the scoring algorithm in detail\n",
    "print(\"SickleScope Risk Scoring Algorithm\")\n",
    "print(\"=\" * 82)\n",
    "\n",
    "print(\"Component Weighting System:\")\n",
    "weights = {\n",
    "    'Primary HBB Mutations': {'weight': '60%', 'description': 'Pathogenic variants in the beta-globin gene'},\n",
    "    'BCL11A Modifiers': {'weight': '20%', 'description': 'Variants affecting fetal haemoglobin production'},\n",
    "    'HBS1L-MYB Modifiers': {'weight': '10%', 'description': 'Additional HbF-inducing variants'},\n",
    "    'Other Modifiers': {'weight': '10%', 'description': 'Miscellaneous protective variants'}\n",
    "}\n",
    "\n",
    "for component, info in weights.items():\n",
    "    print(f\"{component:<22}: {info['weight']:<4} - {info['description']}\")\n",
    "\n",
    "print(\"\\nGenotype Impact Multipliers:\")\n",
    "multipliers = {\n",
    "    '1/1 (Homozygous)': {'multiplier': '1.0×', 'impact': 'Full genetic impact', 'risk': 'Highest'},\n",
    "    '0/1 (Heterozygous)': {'multiplier': '0.5×', 'impact': 'Reduced genetic impact', 'risk': 'Moderate'},\n",
    "    '0/0 (Wild-type)': {'multiplier': '0.0×', 'impact': 'No genetic impact', 'risk': 'None'}\n",
    "}\n",
    "\n",
    "for genotype, info in multipliers.items():\n",
    "    print(f\"{genotype:<18}: {info['multiplier']:<4} - {info['impact']:<25} (Risk: {info['risk']})\")\n",
    "\n",
    "print(\"\\nScore Interpretation Guide:\")\n",
    "interpretations = {\n",
    "    'Negative scores': 'Protective genetic factors present - may reduce disease severity',\n",
    "    '0-20 points': 'Minimal genetic risk - likely normal or carrier with no symptoms',\n",
    "    '20-40 points': 'Carrier status or mild risk - genetic counselling recommended',\n",
    "    '40-70 points': 'Moderate disease risk - regular monitoring and preventive care',\n",
    "    '70-100 points': 'High risk profile - comprehensive medical management required'\n",
    "}\n",
    "\n",
    "for score_range, interpretation in interpretations.items():\n",
    "    print(f\"{score_range:<15}: {interpretation}\")\n",
    "\n",
    "print(\"\\nClinical Evidence Basis:\")\n",
    "evidence_sources = [\n",
    "    \"ClinVar pathogenic variant database\",\n",
    "    \"OMIM disease associations\",\n",
    "    \"Population genetic studies (1000 Genomes, gnomAD)\",\n",
    "    \"Clinical literature and case studies\",\n",
    "    \"Genome-wide association studies (GWAS)\"\n",
    "]\n",
    "\n",
    "for i, source in enumerate(evidence_sources, 1):\n",
    "    print(f\"{i}. {source}\")"
   ]
  },
  {
   "cell_type": "markdown",
   "metadata": {},
   "source": [
    "## 6. Data Visualisation and Pattern Recognition\n",
    "\n",
    "Now let's create comprehensive visualisations to better understand our genetic risk patterns."
   ]
  },
  {
   "cell_type": "code",
   "execution_count": 13,
   "metadata": {},
   "outputs": [
    {
     "name": "stdout",
     "output_type": "stream",
     "text": [
      "Initialising SickleScope Visualiser...\n",
      "Visualiser initialised successfully\n",
      "Ready to create comprehensive genetic risk visualisations\n",
      "\n",
      "Visualisation Plan:\n",
      "1. Risk score distribution histogram\n",
      "2. Variant classification pie chart\n",
      "3. Severity category breakdown\n",
      "4. Genotype vs risk score analysis\n",
      "5. Individual risk gauge displays\n"
     ]
    }
   ],
   "source": [
    "# Initialise the visualiser and prepare for plotting\n",
    "print(\"Initialising SickleScope Visualiser...\")\n",
    "\n",
    "try:\n",
    "    visualiser = SickleVisualiser()\n",
    "    print(\"Visualiser initialised successfully\")\n",
    "    print(\"Ready to create comprehensive genetic risk visualisations\")\n",
    "except Exception as e:\n",
    "    print(f\"Visualiser initialisation issue: {e}\")\n",
    "    print(\"Will create basic matplotlib visualisations instead\")\n",
    "    visualiser = None\n",
    "\n",
    "print(\"\\nVisualisation Plan:\")\n",
    "visual_plan = [\n",
    "    \"Risk score distribution histogram\",\n",
    "    \"Variant classification pie chart\", \n",
    "    \"Severity category breakdown\",\n",
    "    \"Genotype vs risk score analysis\",\n",
    "    \"Individual risk gauge displays\"\n",
    "]\n",
    "\n",
    "for i, vis in enumerate(visual_plan, 1):\n",
    "    print(f\"{i}. {vis}\")"
   ]
  },
  {
   "cell_type": "markdown",
   "metadata": {},
   "source": [
    "### Comprehensive Analysis Dashboard"
   ]
  },
  {
   "cell_type": "code",
   "execution_count": 14,
   "metadata": {},
   "outputs": [
    {
     "name": "stdout",
     "output_type": "stream",
     "text": [
      "Creating Comprehensive Analysis Dashboard...\n",
      "Dashboard created successfully!\n"
     ]
    }
   ],
   "source": [
    "#Create a comprehensive analysis dashboard\n",
    "print(\"Creating Comprehensive Analysis Dashboard...\")\n",
    "\n",
    "# Set up the figure with subplots\n",
    "fig, ((ax1, ax2), (ax3, ax4)) = plt.subplots(2, 2, figsize=(16, 12))\n",
    "fig.suptitle('SickleScope Genetic Risk Analysis Dashboard', fontsize=16, fontweight='bold')\n",
    "\n",
    "# 1. Risk Score Distribution (Top Left)\n",
    "if 'risk_score' in results.columns and len(results['risk_score']) > 0:\n",
    "    risk_scores = results['risk_score']\n",
    "    ax1.hist(risk_scores, bins=max(10, len(risk_scores)//2), alpha=0.7, \n",
    "             color='skyblue', edgecolor='black', linewidth=1.2)\n",
    "    ax1.axvline(risk_scores.mean(), color='red', linestyle='--', linewidth=2,\n",
    "               label=f'Mean: {risk_scores.mean():.2f}')\n",
    "    ax1.axvline(risk_scores.median(), color='orange', linestyle='--', linewidth=2,\n",
    "               label=f'Median: {risk_scores.median():.2f}')\n",
    "    ax1.set_xlabel('Risk Score', fontsize=12)\n",
    "    ax1.set_ylabel('Number of Variants', fontsize=12)\n",
    "    ax1.set_title('Risk Score Distribution', fontsize=14, fontweight='bold')\n",
    "    ax1.legend()\n",
    "    ax1.grid(True, alpha=0.3)\n",
    "else:\n",
    "    ax1.text(0.5, 0.5, 'Risk score data\\nnot available', ha='center', va='center',\n",
    "             transform=ax1.transAxes, fontsize=14)\n",
    "    ax1.set_title('Risk Score Distribution', fontsize=14, fontweight='bold')\n",
    "\n",
    "# 2. Variant Classification (Top Right)\n",
    "if 'variant_classification' in results.columns:\n",
    "    classification_counts = results['variant_classification'].value_counts()\n",
    "    colors = ['#e74c3c', '#3498db', '#2ecc71', '#f39c12', '#95a5a6']\n",
    "    wedges, texts, autotexts = ax2.pie(classification_counts.values, \n",
    "                                       labels=classification_counts.index, \n",
    "                                       autopct='%1.1f%%', \n",
    "                                       colors=colors[:len(classification_counts)], \n",
    "                                       startangle=90)\n",
    "    ax2.set_title('Variant Classifications', fontsize=14, fontweight='bold')\n",
    "    \n",
    "    # Make percentage text more readable\n",
    "    for autotext in autotexts:\n",
    "        autotext.set_color('white')\n",
    "        autotext.set_fontweight('bold')\n",
    "else:\n",
    "    ax2.text(0.5, 0.5, 'Classification data\\nnot available', ha='center', va='center',\n",
    "             transform=ax2.transAxes, fontsize=14)\n",
    "    ax2.set_title('Variant Classifications', fontsize=14, fontweight='bold')\n",
    "\n",
    "# 3. Severity Categories (Bottom Left)\n",
    "if 'severity_category' in results.columns:\n",
    "    severity_counts = results['severity_category'].value_counts()\n",
    "    severity_colors = ['#2ecc71', '#f39c12', '#e74c3c', '#8e44ad', '#3498db']\n",
    "    \n",
    "    bars = ax3.bar(range(len(severity_counts)), severity_counts.values, \n",
    "                   color=severity_colors[:len(severity_counts)], alpha=0.8)\n",
    "    ax3.set_xticks(range(len(severity_counts)))\n",
    "    ax3.set_xticklabels([cat.replace('_', ' ').title() for cat in severity_counts.index], \n",
    "                        rotation=45, ha='right')\n",
    "    ax3.set_ylabel('Number of Variants', fontsize=12)\n",
    "    ax3.set_title('Clinical Severity Categories', fontsize=14, fontweight='bold')\n",
    "    \n",
    "    # Add value labels on bars\n",
    "    for bar, value in zip(bars, severity_counts.values):\n",
    "        ax3.text(bar.get_x() + bar.get_width()/2, bar.get_height() + 0.05,\n",
    "                str(value), ha='center', va='bottom', fontweight='bold')\n",
    "    ax3.grid(True, alpha=0.3)\n",
    "else:\n",
    "    ax3.text(0.5, 0.5, 'Severity data\\nnot available', ha='center', va='center',\n",
    "             transform=ax3.transAxes, fontsize=14)\n",
    "    ax3.set_title('Clinical Severity Categories', fontsize=14, fontweight='bold')\n",
    "\n",
    "# 4. Risk Score vs Genotype (Bottom Right)\n",
    "if 'risk_score' in results.columns and 'genotype' in results.columns:\n",
    "    genotype_order = sorted(results['genotype'].unique())\n",
    "    colors_genotype = ['#2ecc71', '#f39c12', '#e74c3c']\n",
    "    \n",
    "    for i, genotype in enumerate(genotype_order):\n",
    "        genotype_data = results[results['genotype'] == genotype]['risk_score']\n",
    "        if len(genotype_data) > 0:\n",
    "            # Add some jitter for better visualisation\n",
    "            x_positions = [i + np.random.normal(0, 0.05) for _ in range(len(genotype_data))]\n",
    "            ax4.scatter(x_positions, genotype_data, \n",
    "                       alpha=0.7, s=100, \n",
    "                       color=colors_genotype[i % len(colors_genotype)], \n",
    "                       label=f'{genotype} (n={len(genotype_data)})',\n",
    "                       edgecolors='black', linewidth=0.5)\n",
    "    \n",
    "    ax4.set_xticks(range(len(genotype_order)))\n",
    "    ax4.set_xticklabels(genotype_order)\n",
    "    ax4.set_ylabel('Risk Score', fontsize=12)\n",
    "    ax4.set_xlabel('Genotype', fontsize=12)\n",
    "    ax4.set_title('Risk Score by Genotype', fontsize=14, fontweight='bold')\n",
    "    ax4.legend(bbox_to_anchor=(1.05, 1), loc='upper left')\n",
    "    ax4.grid(True, alpha=0.3)\n",
    "else:\n",
    "    ax4.text(0.5, 0.5, 'Genotype/Risk data\\nnot available', ha='center', va='center',\n",
    "             transform=ax4.transAxes, fontsize=14)\n",
    "    ax4.set_title('Risk Score by Genotype', fontsize=14, fontweight='bold')\n",
    "\n",
    "plt.tight_layout()\n",
    "plt.show()\n",
    "\n",
    "print(\"Dashboard created successfully!\")"
   ]
  },
  {
   "cell_type": "markdown",
   "metadata": {},
   "source": [
    "### Individual Risk Assessment Gauges\n",
    "\n",
    "For variants with significant risk scores, let's create individual risk gauge visualisations:"
   ]
  },
  {
   "cell_type": "code",
   "execution_count": 15,
   "metadata": {},
   "outputs": [
    {
     "name": "stdout",
     "output_type": "stream",
     "text": [
      "Creating Individual Risk Assessment Gauges...\n",
      "Creating gauges for 3 notable variants...\n",
      "Risk gauges created successfully!\n"
     ]
    }
   ],
   "source": [
    "# Create individual risk gauges for notable variants\n",
    "print(\"Creating Individual Risk Assessment Gauges...\")\n",
    "\n",
    "if 'risk_score' in results.columns:\n",
    "    # Find variants with notable risk scores\n",
    "    notable_threshold = 20  # Adjust based on your data\n",
    "    notable_variants = results[\n",
    "        (results['risk_score'] > notable_threshold) | \n",
    "        (results['risk_score'] < 0)\n",
    "    ]\n",
    "    \n",
    "    if len(notable_variants) == 0:\n",
    "        # If no notable variants, show the top scoring variants\n",
    "        notable_variants = results.nlargest(min(3, len(results)), 'risk_score')\n",
    "    \n",
    "    if len(notable_variants) > 0:\n",
    "        print(f\"Creating gauges for {len(notable_variants)} notable variants...\")\n",
    "        \n",
    "        # Limit to top 3 for visualisation clarity\n",
    "        top_variants = notable_variants.head(3)\n",
    "        \n",
    "        # Create risk gauges\n",
    "        n_variants = len(top_variants)\n",
    "        fig, axes = plt.subplots(1, n_variants, figsize=(6*n_variants, 6), \n",
    "                                subplot_kw={'projection': 'polar'})\n",
    "        \n",
    "        if n_variants == 1:\n",
    "            axes = [axes]\n",
    "        \n",
    "        for idx, (_, variant) in enumerate(top_variants.iterrows()):\n",
    "            ax = axes[idx]\n",
    "            \n",
    "            # Extract variant information\n",
    "            risk_score = variant['risk_score']\n",
    "            variant_name = variant.get('variant_name', f\"Variant {idx+1}\")\n",
    "            genotype = variant['genotype']\n",
    "            \n",
    "            # Create simplified risk gauge\n",
    "            theta_max = np.pi  # Semi-circle\n",
    "            score_normalised = min(abs(risk_score) / 100, 1.0)\n",
    "            \n",
    "            # Background semicircle\n",
    "            theta_bg = np.linspace(0, theta_max, 100)\n",
    "            ax.fill_between(theta_bg, 0.7, 1, alpha=0.2, color='lightgray')\n",
    "            \n",
    "            # Colour-coded segments\n",
    "            segment_colors = ['#2ecc71', '#f39c12', '#e74c3c', '#8e44ad']  # Green, Orange, Red, Purple\n",
    "            segment_boundaries = [0, 0.2, 0.4, 0.7, 1.0]  # 0-20, 20-40, 40-70, 70-100\n",
    "            \n",
    "            for i in range(len(segment_colors)):\n",
    "                theta_start = segment_boundaries[i] * theta_max\n",
    "                theta_end = segment_boundaries[i+1] * theta_max\n",
    "                theta_segment = np.linspace(theta_start, theta_end, 25)\n",
    "                ax.fill_between(theta_segment, 0.7, 1, alpha=0.6, color=segment_colors[i])\n",
    "            \n",
    "            # Risk score indicator\n",
    "            score_theta = score_normalised * theta_max\n",
    "            \n",
    "            # Choose colour based on risk level\n",
    "            if risk_score < 0:\n",
    "                indicator_color = '#3498db'  # Blue for protective\n",
    "            elif risk_score < 20:\n",
    "                indicator_color = '#2ecc71'  # Green\n",
    "            elif risk_score < 40:\n",
    "                indicator_color = '#f39c12'  # Orange\n",
    "            elif risk_score < 70:\n",
    "                indicator_color = '#e74c3c'  # Red\n",
    "            else:\n",
    "                indicator_color = '#8e44ad'  # Purple\n",
    "            \n",
    "            # Draw indicator needle\n",
    "            ax.plot([score_theta, score_theta], [0, 0.9], linewidth=8, color='black')\n",
    "            ax.plot(score_theta, 0.9, marker='o', markersize=20, \n",
    "                   color=indicator_color, markeredgecolor='black', markeredgewidth=2)\n",
    "            \n",
    "            # Formatting\n",
    "            ax.set_theta_zero_location('W')\n",
    "            ax.set_theta_direction(1)\n",
    "            ax.set_rlim(0, 1)\n",
    "            ax.set_rticks([])\n",
    "            ax.set_thetagrids(np.arange(0, 181, 45), ['0', '25', '50', '75', '100'])\n",
    "            ax.grid(True, alpha=0.3)\n",
    "            \n",
    "            # Title and labels\n",
    "            risk_category = \"Protective\" if risk_score < 0 else \"Minimal\" if risk_score < 20 else \"Carrier\" if risk_score < 40 else \"Moderate\" if risk_score < 70 else \"High\"\n",
    "            \n",
    "            ax.set_title(f'{variant_name}\\nScore: {risk_score:.1f} | {risk_category} Risk\\nGenotype: {genotype}', \n",
    "                        fontsize=12, fontweight='bold', pad=25)\n",
    "        \n",
    "        plt.tight_layout()\n",
    "        plt.show()\n",
    "        \n",
    "        print(\"Risk gauges created successfully!\")\n",
    "    else:\n",
    "        print(\"No variants found for individual risk gauge visualisation\")\n",
    "else:\n",
    "    print(\"Risk score data not available for gauge creation\")"
   ]
  },
  {
   "cell_type": "markdown",
   "metadata": {},
   "source": [
    "### Advanced Visualisation: Correlation Heatmap"
   ]
  },
  {
   "cell_type": "code",
   "execution_count": 16,
   "metadata": {},
   "outputs": [
    {
     "name": "stdout",
     "output_type": "stream",
     "text": [
      "Creating Correlation Analysis Heatmap...\n",
      "Key Correlations with Risk Score:\n",
      "Genotype            :  0.743 (Strong Positive)\n",
      "Pathogenic Status   :  0.740 (Strong Positive)\n",
      "Genomic Position    :  0.003 (Weak Positive)\n",
      "Modifier Status     :    nan (Weak Negative)\n",
      "\n",
      "Advanced visualisations completed!\n"
     ]
    }
   ],
   "source": [
    "# Create correlation analysis visualisation\n",
    "print(\"Creating Correlation Analysis Heatmap...\")\n",
    "\n",
    "# Prepare numerical data for correlation analysis\n",
    "numeric_data = results.copy()\n",
    "\n",
    "# Encode categorical variables numerically\n",
    "if 'genotype' in numeric_data.columns:\n",
    "    genotype_mapping = {'0/0': 0, '0/1': 1, '1/1': 2}\n",
    "    numeric_data['genotype_numeric'] = numeric_data['genotype'].map(genotype_mapping)\n",
    "\n",
    "if 'is_pathogenic' in numeric_data.columns:\n",
    "    numeric_data['is_pathogenic_numeric'] = numeric_data['is_pathogenic'].astype(int)\n",
    "\n",
    "if 'is_modifier' in numeric_data.columns:\n",
    "    numeric_data['is_modifier_numeric'] = numeric_data['is_modifier'].astype(int)\n",
    "\n",
    "# Select relevant columns for correlation\n",
    "correlation_columns = []\n",
    "potential_columns = [\n",
    "    'risk_score', 'genotype_numeric', 'position',\n",
    "    'is_pathogenic_numeric', 'is_modifier_numeric'\n",
    "]\n",
    "\n",
    "for col in potential_columns:\n",
    "    if col in numeric_data.columns:\n",
    "        correlation_columns.append(col)\n",
    "\n",
    "if len(correlation_columns) >= 2:\n",
    "    # Calculate correlation matrix\n",
    "    correlation_matrix = numeric_data[correlation_columns].corr()\n",
    "    \n",
    "    # Create heatmap\n",
    "    plt.figure(figsize=(10, 8))\n",
    "    sns.heatmap(correlation_matrix, annot=True, cmap='RdYlBu_r', center=0, \n",
    "               square=True, linewidths=0.5, cbar_kws={'shrink': 0.8})\n",
    "    plt.title('Correlation Matrix: Genetic Risk Factors', fontsize=16, fontweight='bold', pad=20)\n",
    "    \n",
    "    # Improve labels\n",
    "    labels = {\n",
    "        'risk_score': 'Risk Score',\n",
    "        'genotype_numeric': 'Genotype',\n",
    "        'position': 'Genomic Position',\n",
    "        'is_pathogenic_numeric': 'Pathogenic Status',\n",
    "        'is_modifier_numeric': 'Modifier Status'\n",
    "    }\n",
    "    \n",
    "    current_labels = [labels.get(col, col) for col in correlation_columns]\n",
    "    plt.gca().set_xticklabels(current_labels, rotation=45, ha='right')\n",
    "    plt.gca().set_yticklabels(current_labels, rotation=0)\n",
    "    \n",
    "    plt.tight_layout()\n",
    "    plt.show()\n",
    "    \n",
    "    # Print key correlations\n",
    "    if 'risk_score' in correlation_matrix.columns:\n",
    "        print(\"Key Correlations with Risk Score:\")\n",
    "        risk_correlations = correlation_matrix['risk_score'].drop('risk_score').sort_values(key=abs, ascending=False)\n",
    "        \n",
    "        for variable, correlation in risk_correlations.items():\n",
    "            strength = \"Strong\" if abs(correlation) > 0.7 else \"Moderate\" if abs(correlation) > 0.4 else \"Weak\"\n",
    "            direction = \"Positive\" if correlation > 0 else \"Negative\"\n",
    "            clean_name = labels.get(variable, variable)\n",
    "            print(f\"{clean_name:<20}: {correlation:>6.3f} ({strength} {direction})\")\n",
    "else:\n",
    "    print(\"Insufficient numerical data for correlation analysis\")\n",
    "\n",
    "print(\"\\nAdvanced visualisations completed!\")"
   ]
  },
  {
   "cell_type": "markdown",
   "metadata": {},
   "source": [
    "## 6.1: Interactive Plotly Visualisations\n",
    "\n",
    "SickleScope includes interactive Plotly visualisations perfect for Jupyter notebooks - these provide enhanced interactivity and are ideal for exploratory analysis."
   ]
  },
  {
   "cell_type": "code",
   "execution_count": 17,
   "metadata": {},
   "outputs": [
    {
     "name": "stdout",
     "output_type": "stream",
     "text": [
      "==================================================\n",
      "Creating Ultimate Interactive Dashboard\n",
      "==================================================\n",
      "\n",
      "This combines multiple visualisation types into one interface\n"
     ]
    },
    {
     "data": {
      "application/vnd.plotly.v1+json": {
       "config": {
        "plotlyServerURL": "https://plot.ly"
       },
       "data": [
        {
         "marker": {
          "color": "skyblue"
         },
         "name": "Risk Scores",
         "nbinsx": 15,
         "opacity": 0.7,
         "type": "histogram",
         "x": {
          "bdata": "AADAQJqZGT+amRk/mpmZP5qZGT+amRk/mpkZP5qZmT+amZk/AAAAAJqZGT8AAAAAmpmZP5qZmT8AAAAAAAAAAJqZmT8AAAAAmpmZPwAAAAAAAAAAAAAAAJqZmT+amRk/mpmZP5qZmT8AAAAAmpkZP5qZmT+amZk/mpkZPwAAAACamRk/mpkZP5qZmT+amZk/mpmZPwAAAACamRk/mpmZP5qZmT+amZk/mpmZPwAAAACamZk/AAAAAJqZmT8AAAAAmpkZP5qZGT8AAAAAmpmZP5qZGT+amRk/mpkZP5qZmT8AAAAAmpkZP5qZmT+amRk/mpkZP5qZmT+amZk/mpkZP5qZGT+amZk/mpkZP5qZGT+amZk/mpkZP5qZmT+amZk/mpkZP5qZGT+amRk/mpkZP5qZmT+amZk/AAAAAJqZmT+amRk/mpmZPwAAAAAAAAAAAAAAAAAAAAAAAAAAmpmZP5qZmT8AAAAAmpmZP5qZGT+amZk/mpmZP5qZmT+amRk/mpmZP5qZmT8AAAAAmpmZPw==",
          "dtype": "f4"
         },
         "xaxis": "x",
         "yaxis": "y"
        },
        {
         "domain": {
          "x": [
           0.35555555555555557,
           0.6444444444444445
          ],
          "y": [
           0.7777777777777778,
           1
          ]
         },
         "labels": [
          "uncertain",
          "benign",
          "pathogenic"
         ],
         "name": "Classifications",
         "type": "pie",
         "values": {
          "bdata": "SxgB",
          "dtype": "i1"
         }
        },
        {
         "domain": {
          "x": [
           0.7111111111111111,
           1
          ],
          "y": [
           0.7777777777777778,
           1
          ]
         },
         "labels": [
          "normal",
          "mild"
         ],
         "name": "ML Predictions",
         "type": "pie",
         "values": {
          "bdata": "YwE=",
          "dtype": "i1"
         }
        },
        {
         "marker": {
          "color": {
           "bdata": "AADAQJqZGT+amRk/mpmZP5qZGT+amRk/mpkZP5qZmT+amZk/AAAAAJqZGT8AAAAAmpmZP5qZmT8AAAAAAAAAAJqZmT8AAAAAmpmZPwAAAAAAAAAAAAAAAJqZmT+amRk/mpmZP5qZmT8AAAAAmpkZP5qZmT+amZk/mpkZPwAAAACamRk/mpkZP5qZmT+amZk/mpmZPwAAAACamRk/mpmZP5qZmT+amZk/mpmZPwAAAACamZk/AAAAAJqZmT8AAAAAmpkZP5qZGT8AAAAAmpmZP5qZGT+amRk/mpkZP5qZmT8AAAAAmpkZP5qZmT+amRk/mpkZP5qZmT+amZk/mpkZP5qZGT+amZk/mpkZP5qZGT+amZk/mpkZP5qZmT+amZk/mpkZP5qZGT+amRk/mpkZP5qZmT+amZk/AAAAAJqZmT+amRk/mpmZPwAAAAAAAAAAAAAAAAAAAAAAAAAAmpmZP5qZmT8AAAAAmpmZP5qZGT+amZk/mpmZP5qZmT+amRk/mpmZP5qZmT8AAAAAmpmZPw==",
           "dtype": "f4"
          },
          "colorscale": [
           [
            0,
            "rgb(49,54,149)"
           ],
           [
            0.1,
            "rgb(69,117,180)"
           ],
           [
            0.2,
            "rgb(116,173,209)"
           ],
           [
            0.3,
            "rgb(171,217,233)"
           ],
           [
            0.4,
            "rgb(224,243,248)"
           ],
           [
            0.5,
            "rgb(255,255,191)"
           ],
           [
            0.6,
            "rgb(254,224,144)"
           ],
           [
            0.7,
            "rgb(253,174,97)"
           ],
           [
            0.8,
            "rgb(244,109,67)"
           ],
           [
            0.9,
            "rgb(215,48,39)"
           ],
           [
            1,
            "rgb(165,0,38)"
           ]
          ],
          "size": 6
         },
         "mode": "markers",
         "name": "Variants",
         "type": "scatter",
         "x": {
          "bdata": "+sFPAOHBTwBfwU8AIRGbA1r3EghMowIAZsVPACIaUAAN6U8A3udPAM3tTwCCElAAhvNPAOLaTwDRAlAAlrJPAHDATwCj1E8AeOpPAPMXUAD84E8AYeBPALLHTwCir08AU9hPAM7oTwC26E8AhdZPAFepTwBcEFAAFgBQAKXpTwC46U8AAstPAM7RTwD2CFAAxbJPAPToTwBYr08AWLRPAFQWUADAAlAAou5PAJDqTwAX6k8A6eJPABWoTwCjzE8AQRZQACsMUADnw08AasBPACLOTwCwF1AALwlQADkGUAAE308ABMFPABzcTwDnr08AHPlPAAAKUAADrU8APxBQAN7oTwDv+E8Ax8NPAFH4TwCG3E8AB9hPAHayTwDQ2k8ApsxPAMP3TwB3rE8ALrNPAGPpTwBTGFAAZrxPADkIUAAx2E8A8PBPAG75TwD0rk8An6xPAOUAUAB5sU8Amu5PAKm/TwBL0E8ACBlQAGe3TwCWGlAAxMZPABIFUACMsk8AprlPACTeTwBh/08Auq9PAA==",
          "dtype": "i4"
         },
         "xaxis": "x2",
         "y": {
          "bdata": "AADAQJqZGT+amRk/mpmZP5qZGT+amRk/mpkZP5qZmT+amZk/AAAAAJqZGT8AAAAAmpmZP5qZmT8AAAAAAAAAAJqZmT8AAAAAmpmZPwAAAAAAAAAAAAAAAJqZmT+amRk/mpmZP5qZmT8AAAAAmpkZP5qZmT+amZk/mpkZPwAAAACamRk/mpkZP5qZmT+amZk/mpmZPwAAAACamRk/mpmZP5qZmT+amZk/mpmZPwAAAACamZk/AAAAAJqZmT8AAAAAmpkZP5qZGT8AAAAAmpmZP5qZGT+amRk/mpkZP5qZmT8AAAAAmpkZP5qZmT+amRk/mpkZP5qZmT+amZk/mpkZP5qZGT+amZk/mpkZP5qZGT+amZk/mpkZP5qZmT+amZk/mpkZP5qZGT+amRk/mpkZP5qZmT+amZk/AAAAAJqZmT+amRk/mpmZPwAAAAAAAAAAAAAAAAAAAAAAAAAAmpmZP5qZmT8AAAAAmpmZP5qZGT+amZk/mpmZP5qZmT+amRk/mpmZP5qZmT8AAAAAmpmZPw==",
          "dtype": "f4"
         },
         "yaxis": "y2"
        },
        {
         "marker": {
          "color": "lightcoral"
         },
         "name": "Severity",
         "type": "bar",
         "x": [
          "minimal_risk"
         ],
         "xaxis": "x3",
         "y": {
          "bdata": "ZA==",
          "dtype": "i1"
         },
         "yaxis": "y3"
        },
        {
         "marker": {
          "color": "lightgreen"
         },
         "name": "Confidence",
         "nbinsx": 15,
         "opacity": 0.7,
         "type": "histogram",
         "x": {
          "bdata": "78pizc301z/m1Lnen63jP+bUud6freM/BFqlMFjM4D/m1Lnen63jP+bUud6freM/5tS53p+t4z8EWqUwWMzgPwRapTBYzOA/vXgqHKqE7z/m1Lnen63jP714KhyqhO8/BFqlMFjM4D8EWqUwWMzgP714KhyqhO8/vXgqHKqE7z8EWqUwWMzgP714KhyqhO8/BFqlMFjM4D+9eCocqoTvP714KhyqhO8/vXgqHKqE7z8EWqUwWMzgP+bUud6freM/BFqlMFjM4D8EWqUwWMzgP714KhyqhO8/5tS53p+t4z8EWqUwWMzgPwRapTBYzOA/5tS53p+t4z+9eCocqoTvP+bUud6freM/5tS53p+t4z8EWqUwWMzgPwRapTBYzOA/BFqlMFjM4D+9eCocqoTvP+bUud6freM/BFqlMFjM4D8EWqUwWMzgPwRapTBYzOA/BFqlMFjM4D+9eCocqoTvPwRapTBYzOA/vXgqHKqE7z8EWqUwWMzgP714KhyqhO8/5tS53p+t4z/m1Lnen63jP714KhyqhO8/BFqlMFjM4D/m1Lnen63jP+bUud6freM/5tS53p+t4z8EWqUwWMzgP714KhyqhO8/5tS53p+t4z8EWqUwWMzgP+bUud6freM/5tS53p+t4z8EWqUwWMzgPwRapTBYzOA/5tS53p+t4z/m1Lnen63jPwRapTBYzOA/5tS53p+t4z/m1Lnen63jPwRapTBYzOA/5tS53p+t4z8EWqUwWMzgPwRapTBYzOA/5tS53p+t4z/m1Lnen63jP+bUud6freM/5tS53p+t4z8EWqUwWMzgPwRapTBYzOA/vXgqHKqE7z8EWqUwWMzgP+bUud6freM/BFqlMFjM4D+9eCocqoTvP714KhyqhO8/vXgqHKqE7z+9eCocqoTvP714KhyqhO8/BFqlMFjM4D8EWqUwWMzgP714KhyqhO8/BFqlMFjM4D/m1Lnen63jPwRapTBYzOA/BFqlMFjM4D8EWqUwWMzgP+bUud6freM/BFqlMFjM4D8EWqUwWMzgP714KhyqhO8/BFqlMFjM4D8=",
          "dtype": "f8"
         },
         "xaxis": "x4",
         "yaxis": "y4"
        }
       ],
       "layout": {
        "annotations": [
         {
          "font": {
           "size": 16
          },
          "showarrow": false,
          "text": "Risk Score Overview",
          "x": 0.14444444444444446,
          "xanchor": "center",
          "xref": "paper",
          "y": 1,
          "yanchor": "bottom",
          "yref": "paper"
         },
         {
          "font": {
           "size": 16
          },
          "showarrow": false,
          "text": "Variant Classifications",
          "x": 0.5,
          "xanchor": "center",
          "xref": "paper",
          "y": 1,
          "yanchor": "bottom",
          "yref": "paper"
         },
         {
          "font": {
           "size": 16
          },
          "showarrow": false,
          "text": "ML Predictions",
          "x": 0.8555555555555556,
          "xanchor": "center",
          "xref": "paper",
          "y": 1,
          "yanchor": "bottom",
          "yref": "paper"
         },
         {
          "font": {
           "size": 16
          },
          "showarrow": false,
          "text": "Genomic Positions",
          "x": 0.14444444444444446,
          "xanchor": "center",
          "xref": "paper",
          "y": 0.6111111111111112,
          "yanchor": "bottom",
          "yref": "paper"
         },
         {
          "font": {
           "size": 16
          },
          "showarrow": false,
          "text": "Severity Distribution",
          "x": 0.5,
          "xanchor": "center",
          "xref": "paper",
          "y": 0.6111111111111112,
          "yanchor": "bottom",
          "yref": "paper"
         },
         {
          "font": {
           "size": 16
          },
          "showarrow": false,
          "text": "Confidence Scores",
          "x": 0.8555555555555556,
          "xanchor": "center",
          "xref": "paper",
          "y": 0.6111111111111112,
          "yanchor": "bottom",
          "yref": "paper"
         },
         {
          "font": {
           "size": 16
          },
          "showarrow": false,
          "text": "Population Analysis",
          "x": 0.14444444444444446,
          "xanchor": "center",
          "xref": "paper",
          "y": 0.22222222222222224,
          "yanchor": "bottom",
          "yref": "paper"
         },
         {
          "font": {
           "size": 16
          },
          "showarrow": false,
          "text": "Risk Heatmap",
          "x": 0.5,
          "xanchor": "center",
          "xref": "paper",
          "y": 0.22222222222222224,
          "yanchor": "bottom",
          "yref": "paper"
         },
         {
          "font": {
           "size": 16
          },
          "showarrow": false,
          "text": "Summary Statistics",
          "x": 0.8555555555555556,
          "xanchor": "center",
          "xref": "paper",
          "y": 0.22222222222222224,
          "yanchor": "bottom",
          "yref": "paper"
         },
         {
          "bgcolor": "rgba(255,255,255,0.8)",
          "bordercolor": "gray",
          "borderwidth": 1,
          "font": {
           "size": 12
          },
          "showarrow": false,
          "text": "\n        <b>Analysis Summary:</b><br>\n        Total Variants: 100<br>\n        Pathogenic: 1<br>\n        Mean Risk Score: 0.77<br>\n        High Risk Variants: 0<br>\n        Most Common Severity: minimal_risk\n        ",
          "x": 0.85,
          "xref": "paper",
          "y": 0.15,
          "yref": "paper"
         }
        ],
        "height": 1200,
        "showlegend": false,
        "template": {
         "data": {
          "bar": [
           {
            "error_x": {
             "color": "#2a3f5f"
            },
            "error_y": {
             "color": "#2a3f5f"
            },
            "marker": {
             "line": {
              "color": "white",
              "width": 0.5
             },
             "pattern": {
              "fillmode": "overlay",
              "size": 10,
              "solidity": 0.2
             }
            },
            "type": "bar"
           }
          ],
          "barpolar": [
           {
            "marker": {
             "line": {
              "color": "white",
              "width": 0.5
             },
             "pattern": {
              "fillmode": "overlay",
              "size": 10,
              "solidity": 0.2
             }
            },
            "type": "barpolar"
           }
          ],
          "carpet": [
           {
            "aaxis": {
             "endlinecolor": "#2a3f5f",
             "gridcolor": "#C8D4E3",
             "linecolor": "#C8D4E3",
             "minorgridcolor": "#C8D4E3",
             "startlinecolor": "#2a3f5f"
            },
            "baxis": {
             "endlinecolor": "#2a3f5f",
             "gridcolor": "#C8D4E3",
             "linecolor": "#C8D4E3",
             "minorgridcolor": "#C8D4E3",
             "startlinecolor": "#2a3f5f"
            },
            "type": "carpet"
           }
          ],
          "choropleth": [
           {
            "colorbar": {
             "outlinewidth": 0,
             "ticks": ""
            },
            "type": "choropleth"
           }
          ],
          "contour": [
           {
            "colorbar": {
             "outlinewidth": 0,
             "ticks": ""
            },
            "colorscale": [
             [
              0,
              "#0d0887"
             ],
             [
              0.1111111111111111,
              "#46039f"
             ],
             [
              0.2222222222222222,
              "#7201a8"
             ],
             [
              0.3333333333333333,
              "#9c179e"
             ],
             [
              0.4444444444444444,
              "#bd3786"
             ],
             [
              0.5555555555555556,
              "#d8576b"
             ],
             [
              0.6666666666666666,
              "#ed7953"
             ],
             [
              0.7777777777777778,
              "#fb9f3a"
             ],
             [
              0.8888888888888888,
              "#fdca26"
             ],
             [
              1,
              "#f0f921"
             ]
            ],
            "type": "contour"
           }
          ],
          "contourcarpet": [
           {
            "colorbar": {
             "outlinewidth": 0,
             "ticks": ""
            },
            "type": "contourcarpet"
           }
          ],
          "heatmap": [
           {
            "colorbar": {
             "outlinewidth": 0,
             "ticks": ""
            },
            "colorscale": [
             [
              0,
              "#0d0887"
             ],
             [
              0.1111111111111111,
              "#46039f"
             ],
             [
              0.2222222222222222,
              "#7201a8"
             ],
             [
              0.3333333333333333,
              "#9c179e"
             ],
             [
              0.4444444444444444,
              "#bd3786"
             ],
             [
              0.5555555555555556,
              "#d8576b"
             ],
             [
              0.6666666666666666,
              "#ed7953"
             ],
             [
              0.7777777777777778,
              "#fb9f3a"
             ],
             [
              0.8888888888888888,
              "#fdca26"
             ],
             [
              1,
              "#f0f921"
             ]
            ],
            "type": "heatmap"
           }
          ],
          "histogram": [
           {
            "marker": {
             "pattern": {
              "fillmode": "overlay",
              "size": 10,
              "solidity": 0.2
             }
            },
            "type": "histogram"
           }
          ],
          "histogram2d": [
           {
            "colorbar": {
             "outlinewidth": 0,
             "ticks": ""
            },
            "colorscale": [
             [
              0,
              "#0d0887"
             ],
             [
              0.1111111111111111,
              "#46039f"
             ],
             [
              0.2222222222222222,
              "#7201a8"
             ],
             [
              0.3333333333333333,
              "#9c179e"
             ],
             [
              0.4444444444444444,
              "#bd3786"
             ],
             [
              0.5555555555555556,
              "#d8576b"
             ],
             [
              0.6666666666666666,
              "#ed7953"
             ],
             [
              0.7777777777777778,
              "#fb9f3a"
             ],
             [
              0.8888888888888888,
              "#fdca26"
             ],
             [
              1,
              "#f0f921"
             ]
            ],
            "type": "histogram2d"
           }
          ],
          "histogram2dcontour": [
           {
            "colorbar": {
             "outlinewidth": 0,
             "ticks": ""
            },
            "colorscale": [
             [
              0,
              "#0d0887"
             ],
             [
              0.1111111111111111,
              "#46039f"
             ],
             [
              0.2222222222222222,
              "#7201a8"
             ],
             [
              0.3333333333333333,
              "#9c179e"
             ],
             [
              0.4444444444444444,
              "#bd3786"
             ],
             [
              0.5555555555555556,
              "#d8576b"
             ],
             [
              0.6666666666666666,
              "#ed7953"
             ],
             [
              0.7777777777777778,
              "#fb9f3a"
             ],
             [
              0.8888888888888888,
              "#fdca26"
             ],
             [
              1,
              "#f0f921"
             ]
            ],
            "type": "histogram2dcontour"
           }
          ],
          "mesh3d": [
           {
            "colorbar": {
             "outlinewidth": 0,
             "ticks": ""
            },
            "type": "mesh3d"
           }
          ],
          "parcoords": [
           {
            "line": {
             "colorbar": {
              "outlinewidth": 0,
              "ticks": ""
             }
            },
            "type": "parcoords"
           }
          ],
          "pie": [
           {
            "automargin": true,
            "type": "pie"
           }
          ],
          "scatter": [
           {
            "fillpattern": {
             "fillmode": "overlay",
             "size": 10,
             "solidity": 0.2
            },
            "type": "scatter"
           }
          ],
          "scatter3d": [
           {
            "line": {
             "colorbar": {
              "outlinewidth": 0,
              "ticks": ""
             }
            },
            "marker": {
             "colorbar": {
              "outlinewidth": 0,
              "ticks": ""
             }
            },
            "type": "scatter3d"
           }
          ],
          "scattercarpet": [
           {
            "marker": {
             "colorbar": {
              "outlinewidth": 0,
              "ticks": ""
             }
            },
            "type": "scattercarpet"
           }
          ],
          "scattergeo": [
           {
            "marker": {
             "colorbar": {
              "outlinewidth": 0,
              "ticks": ""
             }
            },
            "type": "scattergeo"
           }
          ],
          "scattergl": [
           {
            "marker": {
             "colorbar": {
              "outlinewidth": 0,
              "ticks": ""
             }
            },
            "type": "scattergl"
           }
          ],
          "scattermap": [
           {
            "marker": {
             "colorbar": {
              "outlinewidth": 0,
              "ticks": ""
             }
            },
            "type": "scattermap"
           }
          ],
          "scattermapbox": [
           {
            "marker": {
             "colorbar": {
              "outlinewidth": 0,
              "ticks": ""
             }
            },
            "type": "scattermapbox"
           }
          ],
          "scatterpolar": [
           {
            "marker": {
             "colorbar": {
              "outlinewidth": 0,
              "ticks": ""
             }
            },
            "type": "scatterpolar"
           }
          ],
          "scatterpolargl": [
           {
            "marker": {
             "colorbar": {
              "outlinewidth": 0,
              "ticks": ""
             }
            },
            "type": "scatterpolargl"
           }
          ],
          "scatterternary": [
           {
            "marker": {
             "colorbar": {
              "outlinewidth": 0,
              "ticks": ""
             }
            },
            "type": "scatterternary"
           }
          ],
          "surface": [
           {
            "colorbar": {
             "outlinewidth": 0,
             "ticks": ""
            },
            "colorscale": [
             [
              0,
              "#0d0887"
             ],
             [
              0.1111111111111111,
              "#46039f"
             ],
             [
              0.2222222222222222,
              "#7201a8"
             ],
             [
              0.3333333333333333,
              "#9c179e"
             ],
             [
              0.4444444444444444,
              "#bd3786"
             ],
             [
              0.5555555555555556,
              "#d8576b"
             ],
             [
              0.6666666666666666,
              "#ed7953"
             ],
             [
              0.7777777777777778,
              "#fb9f3a"
             ],
             [
              0.8888888888888888,
              "#fdca26"
             ],
             [
              1,
              "#f0f921"
             ]
            ],
            "type": "surface"
           }
          ],
          "table": [
           {
            "cells": {
             "fill": {
              "color": "#EBF0F8"
             },
             "line": {
              "color": "white"
             }
            },
            "header": {
             "fill": {
              "color": "#C8D4E3"
             },
             "line": {
              "color": "white"
             }
            },
            "type": "table"
           }
          ]
         },
         "layout": {
          "annotationdefaults": {
           "arrowcolor": "#2a3f5f",
           "arrowhead": 0,
           "arrowwidth": 1
          },
          "autotypenumbers": "strict",
          "coloraxis": {
           "colorbar": {
            "outlinewidth": 0,
            "ticks": ""
           }
          },
          "colorscale": {
           "diverging": [
            [
             0,
             "#8e0152"
            ],
            [
             0.1,
             "#c51b7d"
            ],
            [
             0.2,
             "#de77ae"
            ],
            [
             0.3,
             "#f1b6da"
            ],
            [
             0.4,
             "#fde0ef"
            ],
            [
             0.5,
             "#f7f7f7"
            ],
            [
             0.6,
             "#e6f5d0"
            ],
            [
             0.7,
             "#b8e186"
            ],
            [
             0.8,
             "#7fbc41"
            ],
            [
             0.9,
             "#4d9221"
            ],
            [
             1,
             "#276419"
            ]
           ],
           "sequential": [
            [
             0,
             "#0d0887"
            ],
            [
             0.1111111111111111,
             "#46039f"
            ],
            [
             0.2222222222222222,
             "#7201a8"
            ],
            [
             0.3333333333333333,
             "#9c179e"
            ],
            [
             0.4444444444444444,
             "#bd3786"
            ],
            [
             0.5555555555555556,
             "#d8576b"
            ],
            [
             0.6666666666666666,
             "#ed7953"
            ],
            [
             0.7777777777777778,
             "#fb9f3a"
            ],
            [
             0.8888888888888888,
             "#fdca26"
            ],
            [
             1,
             "#f0f921"
            ]
           ],
           "sequentialminus": [
            [
             0,
             "#0d0887"
            ],
            [
             0.1111111111111111,
             "#46039f"
            ],
            [
             0.2222222222222222,
             "#7201a8"
            ],
            [
             0.3333333333333333,
             "#9c179e"
            ],
            [
             0.4444444444444444,
             "#bd3786"
            ],
            [
             0.5555555555555556,
             "#d8576b"
            ],
            [
             0.6666666666666666,
             "#ed7953"
            ],
            [
             0.7777777777777778,
             "#fb9f3a"
            ],
            [
             0.8888888888888888,
             "#fdca26"
            ],
            [
             1,
             "#f0f921"
            ]
           ]
          },
          "colorway": [
           "#636efa",
           "#EF553B",
           "#00cc96",
           "#ab63fa",
           "#FFA15A",
           "#19d3f3",
           "#FF6692",
           "#B6E880",
           "#FF97FF",
           "#FECB52"
          ],
          "font": {
           "color": "#2a3f5f"
          },
          "geo": {
           "bgcolor": "white",
           "lakecolor": "white",
           "landcolor": "white",
           "showlakes": true,
           "showland": true,
           "subunitcolor": "#C8D4E3"
          },
          "hoverlabel": {
           "align": "left"
          },
          "hovermode": "closest",
          "mapbox": {
           "style": "light"
          },
          "paper_bgcolor": "white",
          "plot_bgcolor": "white",
          "polar": {
           "angularaxis": {
            "gridcolor": "#EBF0F8",
            "linecolor": "#EBF0F8",
            "ticks": ""
           },
           "bgcolor": "white",
           "radialaxis": {
            "gridcolor": "#EBF0F8",
            "linecolor": "#EBF0F8",
            "ticks": ""
           }
          },
          "scene": {
           "xaxis": {
            "backgroundcolor": "white",
            "gridcolor": "#DFE8F3",
            "gridwidth": 2,
            "linecolor": "#EBF0F8",
            "showbackground": true,
            "ticks": "",
            "zerolinecolor": "#EBF0F8"
           },
           "yaxis": {
            "backgroundcolor": "white",
            "gridcolor": "#DFE8F3",
            "gridwidth": 2,
            "linecolor": "#EBF0F8",
            "showbackground": true,
            "ticks": "",
            "zerolinecolor": "#EBF0F8"
           },
           "zaxis": {
            "backgroundcolor": "white",
            "gridcolor": "#DFE8F3",
            "gridwidth": 2,
            "linecolor": "#EBF0F8",
            "showbackground": true,
            "ticks": "",
            "zerolinecolor": "#EBF0F8"
           }
          },
          "shapedefaults": {
           "line": {
            "color": "#2a3f5f"
           }
          },
          "ternary": {
           "aaxis": {
            "gridcolor": "#DFE8F3",
            "linecolor": "#A2B1C6",
            "ticks": ""
           },
           "baxis": {
            "gridcolor": "#DFE8F3",
            "linecolor": "#A2B1C6",
            "ticks": ""
           },
           "bgcolor": "white",
           "caxis": {
            "gridcolor": "#DFE8F3",
            "linecolor": "#A2B1C6",
            "ticks": ""
           }
          },
          "title": {
           "x": 0.05
          },
          "xaxis": {
           "automargin": true,
           "gridcolor": "#EBF0F8",
           "linecolor": "#EBF0F8",
           "ticks": "",
           "title": {
            "standoff": 15
           },
           "zerolinecolor": "#EBF0F8",
           "zerolinewidth": 2
          },
          "yaxis": {
           "automargin": true,
           "gridcolor": "#EBF0F8",
           "linecolor": "#EBF0F8",
           "ticks": "",
           "title": {
            "standoff": 15
           },
           "zerolinecolor": "#EBF0F8",
           "zerolinewidth": 2
          }
         }
        },
        "title": {
         "text": "SickleScope Interactive Analysis Dashboard"
        },
        "xaxis": {
         "anchor": "y",
         "domain": [
          0,
          0.2888888888888889
         ]
        },
        "xaxis2": {
         "anchor": "y2",
         "domain": [
          0,
          0.2888888888888889
         ]
        },
        "xaxis3": {
         "anchor": "y3",
         "domain": [
          0.35555555555555557,
          0.6444444444444445
         ]
        },
        "xaxis4": {
         "anchor": "y4",
         "domain": [
          0.7111111111111111,
          1
         ]
        },
        "xaxis5": {
         "anchor": "y5",
         "domain": [
          0,
          0.2888888888888889
         ]
        },
        "xaxis6": {
         "anchor": "y6",
         "domain": [
          0.35555555555555557,
          0.6444444444444445
         ]
        },
        "xaxis7": {
         "anchor": "y7",
         "domain": [
          0.7111111111111111,
          1
         ]
        },
        "yaxis": {
         "anchor": "x",
         "domain": [
          0.7777777777777778,
          1
         ]
        },
        "yaxis2": {
         "anchor": "x2",
         "domain": [
          0.3888888888888889,
          0.6111111111111112
         ]
        },
        "yaxis3": {
         "anchor": "x3",
         "domain": [
          0.3888888888888889,
          0.6111111111111112
         ]
        },
        "yaxis4": {
         "anchor": "x4",
         "domain": [
          0.3888888888888889,
          0.6111111111111112
         ]
        },
        "yaxis5": {
         "anchor": "x5",
         "domain": [
          0,
          0.22222222222222224
         ]
        },
        "yaxis6": {
         "anchor": "x6",
         "domain": [
          0,
          0.22222222222222224
         ]
        },
        "yaxis7": {
         "anchor": "x7",
         "domain": [
          0,
          0.22222222222222224
         ]
        }
       }
      }
     },
     "metadata": {},
     "output_type": "display_data"
    },
    {
     "name": "stdout",
     "output_type": "stream",
     "text": [
      "\n",
      "──────────────────────────────────────────────────\n",
      "Comprehensive dashboard created successfully!\n",
      "──────────────────────────────────────────────────\n",
      "\n",
      "Dashboard Components:\n",
      "- Risk score overview with interactive histograms\n",
      "- Variant classifications with hover details\n",
      "- ML predictions (if available)\n",
      "- Genomic position scatter plots\n",
      "- Statistical summaries and insights\n",
      "- Real-time data exploration capabilities\n",
      "\n",
      "Interactive Features:\n",
      "- Hover for detailed information\n",
      "- Click and drag to zoom\n",
      "- Double-click to reset zoom\n",
      "- Toggle legend items on/off\n",
      "- Pan and explore the data\n",
      "\n",
      "==================================================\n",
      "Interactive dashboard demonstration complete!\n",
      "==================================================\n"
     ]
    }
   ],
   "source": [
    "# Create the ultimate comprehensive interactive dashboard\n",
    "print(\"=\" * 50)\n",
    "print(\"Creating Ultimate Interactive Dashboard\")\n",
    "print(\"=\" * 50)\n",
    "print(\"\\nThis combines multiple visualisation types into one interface\")\n",
    "\n",
    "# Create and display the dashboard\n",
    "dashboard_fig = visualiser.create_interactive_dashboard(results)\n",
    "dashboard_fig.show()\n",
    "\n",
    "# Display dashboard information\n",
    "print(\"\\n\" + \"─\" * 50)\n",
    "print(\"Comprehensive dashboard created successfully!\")\n",
    "print(\"─\" * 50)\n",
    "\n",
    "print(\"\\nDashboard Components:\")\n",
    "dashboard_features = [\n",
    "    \"- Risk score overview with interactive histograms\",\n",
    "    \"- Variant classifications with hover details\",\n",
    "    \"- ML predictions (if available)\",\n",
    "    \"- Genomic position scatter plots\",\n",
    "    \"- Statistical summaries and insights\",\n",
    "    \"- Real-time data exploration capabilities\"\n",
    "]\n",
    "for feature in dashboard_features:\n",
    "    print(f\"{feature}\")\n",
    "\n",
    "print(\"\\nInteractive Features:\")\n",
    "interactive_features = [\n",
    "    \"- Hover for detailed information\",\n",
    "    \"- Click and drag to zoom\",\n",
    "    \"- Double-click to reset zoom\",\n",
    "    \"- Toggle legend items on/off\",\n",
    "    \"- Pan and explore the data\"\n",
    "]\n",
    "for feature in interactive_features:\n",
    "    print(f\"{feature}\")\n",
    "\n",
    "print(\"\\n\" + \"=\" * 50)\n",
    "print(\"Interactive dashboard demonstration complete!\")\n",
    "print(\"=\" * 50)"
   ]
  },
  {
   "cell_type": "markdown",
   "metadata": {},
   "source": [
    "### The Ultimate Interactive Dashboard\n",
    "\n",
    "Finally, let's create the comprehensive interactive dashboard that combines all visualisation types into one powerful interface."
   ]
  },
  {
   "cell_type": "code",
   "execution_count": 18,
   "metadata": {},
   "outputs": [
    {
     "name": "stdout",
     "output_type": "stream",
     "text": [
      "Creating Advanced Interactive Visualisations...\n",
      "\n",
      "Advanced Statistical Analysis:\n"
     ]
    },
    {
     "data": {
      "application/vnd.plotly.v1+json": {
       "config": {
        "plotlyServerURL": "https://plot.ly"
       },
       "data": [
        {
         "hovertemplate": "Theoretical: %{x:.2f}<br>Observed: %{y:.2f}<extra></extra>",
         "marker": {
          "color": "blue",
          "opacity": 0.6,
          "size": 4
         },
         "mode": "markers",
         "name": "QQ Plot",
         "type": "scatter",
         "x": {
          "bdata": "IWPwXMEG7b9yDklUJUzmv3626qA6u+K/p+hnKQ6q379KY4kLFaDav4Si9mrI+tW/d/Uh0JK90r/k1laPTGfPvxlo4JY8Gcm/wKrHWTPTw79Zimg7QVC6v6aEFoBrB7C/8PSouTrDmr9auKhBN7F9P1tbbRYiv6U/mpWuKG8RsT+o+Yvb0ua4PwiBBtj1lL8/KlDb27s9wz9RPIY/x5TGPxSZKBIRiMk/W2z0sivszD+RG5c53gzQP3Vw4v6IxNE/IPvCy3X20j+rpkCJ4oDUP2eryKGlBdY/EeRfl6Mh1z/UXcNCBGnYP4kSUICcftk/SMur5Eqr2j8iH0SrkAXcP4GodS56Vt0//E8VIVl/3j+q5BQjfbffP0+r7BQVjuA/DTKObWow4T/2VexsiMPhP2OScKa9Y+I/k7Q4Gdvs4j9JbPkVwXDjPypSlyVpD+Q/NBBLzvGr5D/I8yoIIh/lP5WvU3pCtOU/xogf5C1C5j8T/IXtS8fmP3keqvhIVOc/rMy9ay7t5z8kk5YdTYXoP2E6eQSII+k/OYia5c276T8aAXQnGEfqP5keZg7W5eo/s9a4e45v6z9uL6fEDxXsP8o4SYmWquw/rD17m3Iw7T8oA4v+6cjtPypYG/FQZO4/UOHGuqbn7j/2XArsCH3vPyAooSKvCPA/ToZTFoFd8D/RZy/2HbbwPzkRIKnt/fA/jU9DSLlG8T9e4rXDhZPxP0CkwrKw2/E/hqvQi7Ux8j+tO+hHf4vyP+9iWOXU5fI/9kqwrg8/8z+Y3wMsOKHzP/wtpcWc8fM/sQ5g+n1N9D/320UlULf0PytEcTA2EvU/pYx8tTBt9T/zqdj8ftf1P+jZE0ruQfY/oeWLQSWq9j8rXWGc8A33P+Ggt82Ffvc/JvoEKAHx9z/5ZLkEMWj4PwRDr+Pr8Pg/spUndJNl+T+0hr4N0uf5P5pNFErYdfo/tWF/sRoU+z850XBzLc77P+US3n3CxPw/M3zEGdOn/T/Bz0dZVJv+P7Xx/r8Sdv8/SWEJA/deAEDdVxYWTTQBQFwCD3R+NQJA9E/f54qyA0A=",
          "dtype": "f8"
         },
         "xaxis": "x",
         "y": {
          "bdata": "AAAAAAAAAAAAAAAAAAAAAAAAAAAAAAAAAAAAAAAAAAAAAAAAAAAAAAAAAAAAAAAAAAAAAAAAAAAAAAAAAAAAAAAAAAAAAAAAAAAAAAAAAAAAAAAAAAAAAAAAAAAAAAAAmpkZP5qZGT+amRk/mpkZP5qZGT+amRk/mpkZP5qZGT+amRk/mpkZP5qZGT+amRk/mpkZP5qZGT+amRk/mpkZP5qZGT+amRk/mpkZP5qZGT+amRk/mpkZP5qZGT+amRk/mpkZP5qZGT+amRk/mpkZP5qZGT+amRk/mpkZP5qZGT+amZk/mpmZP5qZmT+amZk/mpmZP5qZmT+amZk/mpmZP5qZmT+amZk/mpmZP5qZmT+amZk/mpmZP5qZmT+amZk/mpmZP5qZmT+amZk/mpmZP5qZmT+amZk/mpmZP5qZmT+amZk/mpmZP5qZmT+amZk/mpmZP5qZmT+amZk/mpmZP5qZmT+amZk/mpmZP5qZmT+amZk/mpmZP5qZmT+amZk/mpmZP5qZmT+amZk/AADAQA==",
          "dtype": "f4"
         },
         "yaxis": "y"
        },
        {
         "line": {
          "color": "red",
          "dash": "dash"
         },
         "mode": "lines",
         "name": "Normal Reference",
         "showlegend": false,
         "type": "scatter",
         "x": [
          -0.9070746245589342,
          6
         ],
         "xaxis": "x",
         "y": [
          -0.9070746245589342,
          6
         ],
         "yaxis": "y"
        },
        {
         "box": {
          "visible": true
         },
         "hovertemplate": "Severity: minimal_risk<br>Risk Score: %{y}<extra></extra>",
         "meanline": {
          "visible": true
         },
         "name": "minimal_risk",
         "points": "outliers",
         "type": "violin",
         "xaxis": "x2",
         "y": {
          "bdata": "AADAQJqZGT+amRk/mpmZP5qZGT+amRk/mpkZP5qZmT+amZk/AAAAAJqZGT8AAAAAmpmZP5qZmT8AAAAAAAAAAJqZmT8AAAAAmpmZPwAAAAAAAAAAAAAAAJqZmT+amRk/mpmZP5qZmT8AAAAAmpkZP5qZmT+amZk/mpkZPwAAAACamRk/mpkZP5qZmT+amZk/mpmZPwAAAACamRk/mpmZP5qZmT+amZk/mpmZPwAAAACamZk/AAAAAJqZmT8AAAAAmpkZP5qZGT8AAAAAmpmZP5qZGT+amRk/mpkZP5qZmT8AAAAAmpkZP5qZmT+amRk/mpkZP5qZmT+amZk/mpkZP5qZGT+amZk/mpkZP5qZGT+amZk/mpkZP5qZmT+amZk/mpkZP5qZGT+amRk/mpkZP5qZmT+amZk/AAAAAJqZmT+amRk/mpmZPwAAAAAAAAAAAAAAAAAAAAAAAAAAmpmZP5qZmT8AAAAAmpmZP5qZGT+amZk/mpmZP5qZmT+amRk/mpmZP5qZmT8AAAAAmpmZPw==",
          "dtype": "f4"
         },
         "yaxis": "y2"
        },
        {
         "colorscale": [
          [
           0,
           "#440154"
          ],
          [
           0.1111111111111111,
           "#482878"
          ],
          [
           0.2222222222222222,
           "#3e4989"
          ],
          [
           0.3333333333333333,
           "#31688e"
          ],
          [
           0.4444444444444444,
           "#26828e"
          ],
          [
           0.5555555555555556,
           "#1f9e89"
          ],
          [
           0.6666666666666666,
           "#35b779"
          ],
          [
           0.7777777777777778,
           "#6ece58"
          ],
          [
           0.8888888888888888,
           "#b5de2b"
          ],
          [
           1,
           "#fde725"
          ]
         ],
         "hovertemplate": "Position: %{x}<br>Risk Score: %{y}<br>Count: %{z}<extra></extra>",
         "name": "Chr 11 Density",
         "nbinsx": 20,
         "nbinsy": 15,
         "type": "histogram2d",
         "x": {
          "bdata": "+sFPAOHBTwBfwU8AZsVPACIaUAAN6U8A3udPAM3tTwCCElAAhvNPAOLaTwDRAlAAlrJPAHDATwCj1E8AeOpPAPMXUAD84E8AYeBPALLHTwCir08AU9hPAM7oTwC26E8AhdZPAFepTwBcEFAAFgBQAKXpTwC46U8AAstPAM7RTwD2CFAAxbJPAPToTwBYr08AWLRPAFQWUADAAlAAou5PAJDqTwAX6k8A6eJPABWoTwCjzE8AQRZQACsMUADnw08AasBPACLOTwCwF1AALwlQADkGUAAE308ABMFPABzcTwDnr08AHPlPAAAKUAADrU8APxBQAN7oTwDv+E8Ax8NPAFH4TwCG3E8AB9hPAHayTwDQ2k8ApsxPAMP3TwB3rE8ALrNPAGPpTwBTGFAAZrxPADkIUAAx2E8A8PBPAG75TwD0rk8An6xPAOUAUAB5sU8Amu5PAKm/TwBL0E8ACBlQAGe3TwCWGlAAxMZPABIFUACMsk8AprlPACTeTwBh/08Auq9PAA==",
          "dtype": "i4"
         },
         "xaxis": "x3",
         "y": {
          "bdata": "AADAQJqZGT+amRk/mpkZP5qZmT+amZk/AAAAAJqZGT8AAAAAmpmZP5qZmT8AAAAAAAAAAJqZmT8AAAAAmpmZPwAAAAAAAAAAAAAAAJqZmT+amRk/mpmZP5qZmT8AAAAAmpkZP5qZmT+amZk/mpkZPwAAAACamRk/mpkZP5qZmT+amZk/mpmZPwAAAACamRk/mpmZP5qZmT+amZk/mpmZPwAAAACamZk/AAAAAJqZmT8AAAAAmpkZP5qZGT8AAAAAmpmZP5qZGT+amRk/mpkZP5qZmT8AAAAAmpkZP5qZmT+amRk/mpkZP5qZmT+amZk/mpkZP5qZGT+amZk/mpkZP5qZGT+amZk/mpkZP5qZmT+amZk/mpkZP5qZGT+amRk/mpkZP5qZmT+amZk/AAAAAJqZmT+amRk/mpmZPwAAAAAAAAAAAAAAAAAAAAAAAAAAmpmZP5qZmT8AAAAAmpmZP5qZGT+amZk/mpmZP5qZmT+amRk/mpmZP5qZmT8AAAAAmpmZPw==",
          "dtype": "f4"
         },
         "yaxis": "y3"
        },
        {
         "hovertemplate": "%{x}: %{y:.2f}<extra></extra>",
         "marker": {
          "color": "lightblue"
         },
         "name": "Statistics",
         "type": "bar",
         "x": [
          "Mean",
          "Median",
          "Q25",
          "Q75",
          "Min",
          "Max"
         ],
         "xaxis": "x4",
         "y": [
          0.7679998874664307,
          0.6000000238418579,
          0.6000000238418579,
          1.2000000476837158,
          0,
          6
         ],
         "yaxis": "y4"
        }
       ],
       "layout": {
        "annotations": [
         {
          "font": {
           "size": 16
          },
          "showarrow": false,
          "text": "Risk Score QQ Plot",
          "x": 0.225,
          "xanchor": "center",
          "xref": "paper",
          "y": 1,
          "yanchor": "bottom",
          "yref": "paper"
         },
         {
          "font": {
           "size": 16
          },
          "showarrow": false,
          "text": "Violin Plot by Severity",
          "x": 0.775,
          "xanchor": "center",
          "xref": "paper",
          "y": 1,
          "yanchor": "bottom",
          "yref": "paper"
         },
         {
          "font": {
           "size": 16
          },
          "showarrow": false,
          "text": "Position Density Plot",
          "x": 0.225,
          "xanchor": "center",
          "xref": "paper",
          "y": 0.375,
          "yanchor": "bottom",
          "yref": "paper"
         },
         {
          "font": {
           "size": 16
          },
          "showarrow": false,
          "text": "Statistical Summary",
          "x": 0.775,
          "xanchor": "center",
          "xref": "paper",
          "y": 0.375,
          "yanchor": "bottom",
          "yref": "paper"
         }
        ],
        "height": 800,
        "showlegend": true,
        "template": {
         "data": {
          "bar": [
           {
            "error_x": {
             "color": "#2a3f5f"
            },
            "error_y": {
             "color": "#2a3f5f"
            },
            "marker": {
             "line": {
              "color": "#E5ECF6",
              "width": 0.5
             },
             "pattern": {
              "fillmode": "overlay",
              "size": 10,
              "solidity": 0.2
             }
            },
            "type": "bar"
           }
          ],
          "barpolar": [
           {
            "marker": {
             "line": {
              "color": "#E5ECF6",
              "width": 0.5
             },
             "pattern": {
              "fillmode": "overlay",
              "size": 10,
              "solidity": 0.2
             }
            },
            "type": "barpolar"
           }
          ],
          "carpet": [
           {
            "aaxis": {
             "endlinecolor": "#2a3f5f",
             "gridcolor": "white",
             "linecolor": "white",
             "minorgridcolor": "white",
             "startlinecolor": "#2a3f5f"
            },
            "baxis": {
             "endlinecolor": "#2a3f5f",
             "gridcolor": "white",
             "linecolor": "white",
             "minorgridcolor": "white",
             "startlinecolor": "#2a3f5f"
            },
            "type": "carpet"
           }
          ],
          "choropleth": [
           {
            "colorbar": {
             "outlinewidth": 0,
             "ticks": ""
            },
            "type": "choropleth"
           }
          ],
          "contour": [
           {
            "colorbar": {
             "outlinewidth": 0,
             "ticks": ""
            },
            "colorscale": [
             [
              0,
              "#0d0887"
             ],
             [
              0.1111111111111111,
              "#46039f"
             ],
             [
              0.2222222222222222,
              "#7201a8"
             ],
             [
              0.3333333333333333,
              "#9c179e"
             ],
             [
              0.4444444444444444,
              "#bd3786"
             ],
             [
              0.5555555555555556,
              "#d8576b"
             ],
             [
              0.6666666666666666,
              "#ed7953"
             ],
             [
              0.7777777777777778,
              "#fb9f3a"
             ],
             [
              0.8888888888888888,
              "#fdca26"
             ],
             [
              1,
              "#f0f921"
             ]
            ],
            "type": "contour"
           }
          ],
          "contourcarpet": [
           {
            "colorbar": {
             "outlinewidth": 0,
             "ticks": ""
            },
            "type": "contourcarpet"
           }
          ],
          "heatmap": [
           {
            "colorbar": {
             "outlinewidth": 0,
             "ticks": ""
            },
            "colorscale": [
             [
              0,
              "#0d0887"
             ],
             [
              0.1111111111111111,
              "#46039f"
             ],
             [
              0.2222222222222222,
              "#7201a8"
             ],
             [
              0.3333333333333333,
              "#9c179e"
             ],
             [
              0.4444444444444444,
              "#bd3786"
             ],
             [
              0.5555555555555556,
              "#d8576b"
             ],
             [
              0.6666666666666666,
              "#ed7953"
             ],
             [
              0.7777777777777778,
              "#fb9f3a"
             ],
             [
              0.8888888888888888,
              "#fdca26"
             ],
             [
              1,
              "#f0f921"
             ]
            ],
            "type": "heatmap"
           }
          ],
          "histogram": [
           {
            "marker": {
             "pattern": {
              "fillmode": "overlay",
              "size": 10,
              "solidity": 0.2
             }
            },
            "type": "histogram"
           }
          ],
          "histogram2d": [
           {
            "colorbar": {
             "outlinewidth": 0,
             "ticks": ""
            },
            "colorscale": [
             [
              0,
              "#0d0887"
             ],
             [
              0.1111111111111111,
              "#46039f"
             ],
             [
              0.2222222222222222,
              "#7201a8"
             ],
             [
              0.3333333333333333,
              "#9c179e"
             ],
             [
              0.4444444444444444,
              "#bd3786"
             ],
             [
              0.5555555555555556,
              "#d8576b"
             ],
             [
              0.6666666666666666,
              "#ed7953"
             ],
             [
              0.7777777777777778,
              "#fb9f3a"
             ],
             [
              0.8888888888888888,
              "#fdca26"
             ],
             [
              1,
              "#f0f921"
             ]
            ],
            "type": "histogram2d"
           }
          ],
          "histogram2dcontour": [
           {
            "colorbar": {
             "outlinewidth": 0,
             "ticks": ""
            },
            "colorscale": [
             [
              0,
              "#0d0887"
             ],
             [
              0.1111111111111111,
              "#46039f"
             ],
             [
              0.2222222222222222,
              "#7201a8"
             ],
             [
              0.3333333333333333,
              "#9c179e"
             ],
             [
              0.4444444444444444,
              "#bd3786"
             ],
             [
              0.5555555555555556,
              "#d8576b"
             ],
             [
              0.6666666666666666,
              "#ed7953"
             ],
             [
              0.7777777777777778,
              "#fb9f3a"
             ],
             [
              0.8888888888888888,
              "#fdca26"
             ],
             [
              1,
              "#f0f921"
             ]
            ],
            "type": "histogram2dcontour"
           }
          ],
          "mesh3d": [
           {
            "colorbar": {
             "outlinewidth": 0,
             "ticks": ""
            },
            "type": "mesh3d"
           }
          ],
          "parcoords": [
           {
            "line": {
             "colorbar": {
              "outlinewidth": 0,
              "ticks": ""
             }
            },
            "type": "parcoords"
           }
          ],
          "pie": [
           {
            "automargin": true,
            "type": "pie"
           }
          ],
          "scatter": [
           {
            "fillpattern": {
             "fillmode": "overlay",
             "size": 10,
             "solidity": 0.2
            },
            "type": "scatter"
           }
          ],
          "scatter3d": [
           {
            "line": {
             "colorbar": {
              "outlinewidth": 0,
              "ticks": ""
             }
            },
            "marker": {
             "colorbar": {
              "outlinewidth": 0,
              "ticks": ""
             }
            },
            "type": "scatter3d"
           }
          ],
          "scattercarpet": [
           {
            "marker": {
             "colorbar": {
              "outlinewidth": 0,
              "ticks": ""
             }
            },
            "type": "scattercarpet"
           }
          ],
          "scattergeo": [
           {
            "marker": {
             "colorbar": {
              "outlinewidth": 0,
              "ticks": ""
             }
            },
            "type": "scattergeo"
           }
          ],
          "scattergl": [
           {
            "marker": {
             "colorbar": {
              "outlinewidth": 0,
              "ticks": ""
             }
            },
            "type": "scattergl"
           }
          ],
          "scattermap": [
           {
            "marker": {
             "colorbar": {
              "outlinewidth": 0,
              "ticks": ""
             }
            },
            "type": "scattermap"
           }
          ],
          "scattermapbox": [
           {
            "marker": {
             "colorbar": {
              "outlinewidth": 0,
              "ticks": ""
             }
            },
            "type": "scattermapbox"
           }
          ],
          "scatterpolar": [
           {
            "marker": {
             "colorbar": {
              "outlinewidth": 0,
              "ticks": ""
             }
            },
            "type": "scatterpolar"
           }
          ],
          "scatterpolargl": [
           {
            "marker": {
             "colorbar": {
              "outlinewidth": 0,
              "ticks": ""
             }
            },
            "type": "scatterpolargl"
           }
          ],
          "scatterternary": [
           {
            "marker": {
             "colorbar": {
              "outlinewidth": 0,
              "ticks": ""
             }
            },
            "type": "scatterternary"
           }
          ],
          "surface": [
           {
            "colorbar": {
             "outlinewidth": 0,
             "ticks": ""
            },
            "colorscale": [
             [
              0,
              "#0d0887"
             ],
             [
              0.1111111111111111,
              "#46039f"
             ],
             [
              0.2222222222222222,
              "#7201a8"
             ],
             [
              0.3333333333333333,
              "#9c179e"
             ],
             [
              0.4444444444444444,
              "#bd3786"
             ],
             [
              0.5555555555555556,
              "#d8576b"
             ],
             [
              0.6666666666666666,
              "#ed7953"
             ],
             [
              0.7777777777777778,
              "#fb9f3a"
             ],
             [
              0.8888888888888888,
              "#fdca26"
             ],
             [
              1,
              "#f0f921"
             ]
            ],
            "type": "surface"
           }
          ],
          "table": [
           {
            "cells": {
             "fill": {
              "color": "#EBF0F8"
             },
             "line": {
              "color": "white"
             }
            },
            "header": {
             "fill": {
              "color": "#C8D4E3"
             },
             "line": {
              "color": "white"
             }
            },
            "type": "table"
           }
          ]
         },
         "layout": {
          "annotationdefaults": {
           "arrowcolor": "#2a3f5f",
           "arrowhead": 0,
           "arrowwidth": 1
          },
          "autotypenumbers": "strict",
          "coloraxis": {
           "colorbar": {
            "outlinewidth": 0,
            "ticks": ""
           }
          },
          "colorscale": {
           "diverging": [
            [
             0,
             "#8e0152"
            ],
            [
             0.1,
             "#c51b7d"
            ],
            [
             0.2,
             "#de77ae"
            ],
            [
             0.3,
             "#f1b6da"
            ],
            [
             0.4,
             "#fde0ef"
            ],
            [
             0.5,
             "#f7f7f7"
            ],
            [
             0.6,
             "#e6f5d0"
            ],
            [
             0.7,
             "#b8e186"
            ],
            [
             0.8,
             "#7fbc41"
            ],
            [
             0.9,
             "#4d9221"
            ],
            [
             1,
             "#276419"
            ]
           ],
           "sequential": [
            [
             0,
             "#0d0887"
            ],
            [
             0.1111111111111111,
             "#46039f"
            ],
            [
             0.2222222222222222,
             "#7201a8"
            ],
            [
             0.3333333333333333,
             "#9c179e"
            ],
            [
             0.4444444444444444,
             "#bd3786"
            ],
            [
             0.5555555555555556,
             "#d8576b"
            ],
            [
             0.6666666666666666,
             "#ed7953"
            ],
            [
             0.7777777777777778,
             "#fb9f3a"
            ],
            [
             0.8888888888888888,
             "#fdca26"
            ],
            [
             1,
             "#f0f921"
            ]
           ],
           "sequentialminus": [
            [
             0,
             "#0d0887"
            ],
            [
             0.1111111111111111,
             "#46039f"
            ],
            [
             0.2222222222222222,
             "#7201a8"
            ],
            [
             0.3333333333333333,
             "#9c179e"
            ],
            [
             0.4444444444444444,
             "#bd3786"
            ],
            [
             0.5555555555555556,
             "#d8576b"
            ],
            [
             0.6666666666666666,
             "#ed7953"
            ],
            [
             0.7777777777777778,
             "#fb9f3a"
            ],
            [
             0.8888888888888888,
             "#fdca26"
            ],
            [
             1,
             "#f0f921"
            ]
           ]
          },
          "colorway": [
           "#636efa",
           "#EF553B",
           "#00cc96",
           "#ab63fa",
           "#FFA15A",
           "#19d3f3",
           "#FF6692",
           "#B6E880",
           "#FF97FF",
           "#FECB52"
          ],
          "font": {
           "color": "#2a3f5f"
          },
          "geo": {
           "bgcolor": "white",
           "lakecolor": "white",
           "landcolor": "#E5ECF6",
           "showlakes": true,
           "showland": true,
           "subunitcolor": "white"
          },
          "hoverlabel": {
           "align": "left"
          },
          "hovermode": "closest",
          "mapbox": {
           "style": "light"
          },
          "paper_bgcolor": "white",
          "plot_bgcolor": "#E5ECF6",
          "polar": {
           "angularaxis": {
            "gridcolor": "white",
            "linecolor": "white",
            "ticks": ""
           },
           "bgcolor": "#E5ECF6",
           "radialaxis": {
            "gridcolor": "white",
            "linecolor": "white",
            "ticks": ""
           }
          },
          "scene": {
           "xaxis": {
            "backgroundcolor": "#E5ECF6",
            "gridcolor": "white",
            "gridwidth": 2,
            "linecolor": "white",
            "showbackground": true,
            "ticks": "",
            "zerolinecolor": "white"
           },
           "yaxis": {
            "backgroundcolor": "#E5ECF6",
            "gridcolor": "white",
            "gridwidth": 2,
            "linecolor": "white",
            "showbackground": true,
            "ticks": "",
            "zerolinecolor": "white"
           },
           "zaxis": {
            "backgroundcolor": "#E5ECF6",
            "gridcolor": "white",
            "gridwidth": 2,
            "linecolor": "white",
            "showbackground": true,
            "ticks": "",
            "zerolinecolor": "white"
           }
          },
          "shapedefaults": {
           "line": {
            "color": "#2a3f5f"
           }
          },
          "ternary": {
           "aaxis": {
            "gridcolor": "white",
            "linecolor": "white",
            "ticks": ""
           },
           "baxis": {
            "gridcolor": "white",
            "linecolor": "white",
            "ticks": ""
           },
           "bgcolor": "#E5ECF6",
           "caxis": {
            "gridcolor": "white",
            "linecolor": "white",
            "ticks": ""
           }
          },
          "title": {
           "x": 0.05
          },
          "xaxis": {
           "automargin": true,
           "gridcolor": "white",
           "linecolor": "white",
           "ticks": "",
           "title": {
            "standoff": 15
           },
           "zerolinecolor": "white",
           "zerolinewidth": 2
          },
          "yaxis": {
           "automargin": true,
           "gridcolor": "white",
           "linecolor": "white",
           "ticks": "",
           "title": {
            "standoff": 15
           },
           "zerolinecolor": "white",
           "zerolinewidth": 2
          }
         }
        },
        "title": {
         "text": "Advanced Statistical Analysis Dashboard"
        },
        "xaxis": {
         "anchor": "y",
         "domain": [
          0,
          0.45
         ],
         "title": {
          "text": "Theoretical Quantiles"
         }
        },
        "xaxis2": {
         "anchor": "y2",
         "domain": [
          0.55,
          1
         ],
         "title": {
          "text": "Severity Category"
         }
        },
        "xaxis3": {
         "anchor": "y3",
         "domain": [
          0,
          0.45
         ],
         "title": {
          "text": "Genomic Position"
         }
        },
        "xaxis4": {
         "anchor": "y4",
         "domain": [
          0.55,
          1
         ],
         "title": {
          "text": "Statistic"
         }
        },
        "yaxis": {
         "anchor": "x",
         "domain": [
          0.625,
          1
         ],
         "title": {
          "text": "Observed Risk Scores"
         }
        },
        "yaxis2": {
         "anchor": "x2",
         "domain": [
          0.625,
          1
         ],
         "title": {
          "text": "Risk Score"
         }
        },
        "yaxis3": {
         "anchor": "x3",
         "domain": [
          0,
          0.375
         ],
         "title": {
          "text": "Risk Score"
         }
        },
        "yaxis4": {
         "anchor": "x4",
         "domain": [
          0,
          0.375
         ],
         "title": {
          "text": "Value"
         }
        }
       }
      }
     },
     "metadata": {},
     "output_type": "display_data"
    },
    {
     "name": "stdout",
     "output_type": "stream",
     "text": [
      "Includes QQ plots, violin plots, density plots, and statistical summaries\n",
      "\n",
      "Interactive Risk Heatmap:\n"
     ]
    },
    {
     "data": {
      "application/vnd.plotly.v1+json": {
       "config": {
        "plotlyServerURL": "https://plot.ly"
       },
       "data": [
        {
         "colorbar": {
          "title": {
           "text": "Risk Score"
          }
         },
         "colorscale": [
          [
           0,
           "rgb(49,54,149)"
          ],
          [
           0.1,
           "rgb(69,117,180)"
          ],
          [
           0.2,
           "rgb(116,173,209)"
          ],
          [
           0.3,
           "rgb(171,217,233)"
          ],
          [
           0.4,
           "rgb(224,243,248)"
          ],
          [
           0.5,
           "rgb(255,255,191)"
          ],
          [
           0.6,
           "rgb(254,224,144)"
          ],
          [
           0.7,
           "rgb(253,174,97)"
          ],
          [
           0.8,
           "rgb(244,109,67)"
          ],
          [
           0.9,
           "rgb(215,48,39)"
          ],
          [
           1,
           "rgb(165,0,38)"
          ]
         ],
         "hovertemplate": "Position: %{y}<br>Genotype: %{x}<br>Risk Score: %{z:.2f}<extra></extra>",
         "type": "heatmap",
         "x": [
          "0/0",
          "0/1",
          "1/1"
         ],
         "y": [
          "11:5220373",
          "11:5220695",
          "11:5221495",
          "11:5221535",
          "11:5221635",
          "11:5222132",
          "11:5222232",
          "11:5222306",
          "11:5222330",
          "11:5222375",
          "11:5222777",
          "11:5223030",
          "11:5223052",
          "11:5223062",
          "11:5223109",
          "11:5223214",
          "11:5223512",
          "11:5224295",
          "11:5224870",
          "11:5225574",
          "11:5226409",
          "11:5226602",
          "11:5226608",
          "11:5226756",
          "11:5226847",
          "11:5226977",
          "11:5227002",
          "11:5227463",
          "11:5227495",
          "11:5227878",
          "11:5228228",
          "11:5228466",
          "11:5229314",
          "11:5229731",
          "11:5229734",
          "11:5230114",
          "11:5230667",
          "11:5231054",
          "11:5231779",
          "11:5232261",
          "11:5232647",
          "11:5232689",
          "11:5232723",
          "11:5233360",
          "11:5233378",
          "11:5233692",
          "11:5233798",
          "11:5234212",
          "11:5234436",
          "11:5234785",
          "11:5234940",
          "11:5235433",
          "11:5236702",
          "11:5236918",
          "11:5236942",
          "11:5236958",
          "11:5236980",
          "11:5237005",
          "11:5237091",
          "11:5237157",
          "11:5237176",
          "11:5237271",
          "11:5237368",
          "11:5237392",
          "11:5238221",
          "11:5238426",
          "11:5238434",
          "11:5239024",
          "11:5239686",
          "11:5240771",
          "11:5240913",
          "11:5241071",
          "11:5241116",
          "11:5241198",
          "11:5242721",
          "11:5242902",
          "11:5243109",
          "11:5243584",
          "11:5243601",
          "11:5244178",
          "11:5244473",
          "11:5244985",
          "11:5245174",
          "11:5245231",
          "11:5245440",
          "11:5245995",
          "11:5247039",
          "11:5247068",
          "11:5247618",
          "11:5248577",
          "11:5248596",
          "11:5248944",
          "11:5249011",
          "11:5249107",
          "11:5249288",
          "11:5249570",
          "11:5249686",
          "16:172876",
          "2:60494113",
          "6:135460698"
         ],
         "z": {
          "bdata": "AADAfwAAwH+amZk/AADAfwAAwH+amZk/AADAf5qZGT8AAMB/AAAAAAAAwH8AAMB/AADAfwAAwH+amZk/AAAAAAAAwH8AAMB/AADAf5qZGT8AAMB/AADAf5qZGT8AAMB/AADAfwAAwH+amZk/AADAf5qZGT8AAMB/AAAAAAAAwH8AAMB/AADAfwAAwH+amZk/AADAf5qZGT8AAMB/AAAAAAAAwH8AAMB/AADAfwAAwH+amZk/AADAf5qZGT8AAMB/AADAfwAAwH+amZk/AADAf5qZGT8AAMB/AADAfwAAwH+amZk/AAAAAAAAwH8AAMB/AADAfwAAwH+amZk/AADAfwAAwH+amZk/AADAfwAAwH+amZk/AADAf5qZGT8AAMB/AADAf5qZGT8AAMB/AADAf5qZGT8AAMB/AADAfwAAwH8AAMBAAADAf5qZGT8AAMB/AAAAAAAAwH8AAMB/AADAf5qZGT8AAMB/AADAfwAAwH+amZk/AADAfwAAwH+amZk/AADAf5qZGT8AAMB/AAAAAAAAwH8AAMB/AADAf5qZGT8AAMB/AADAf5qZGT8AAMB/AAAAAAAAwH8AAMB/AADAfwAAwH+amZk/AAAAAAAAwH8AAMB/AADAf5qZGT8AAMB/AADAf5qZGT8AAMB/AADAf5qZGT8AAMB/AADAfwAAwH+amZk/AADAfwAAwH+amZk/AADAfwAAwH+amZk/AADAfwAAwH+amZk/AADAfwAAwH+amZk/AADAfwAAwH+amZk/AAAAAAAAwH8AAMB/AAAAAAAAwH8AAMB/AAAAAAAAwH8AAMB/AAAAAAAAwH8AAMB/AAAAAAAAwH8AAMB/AAAAAAAAwH8AAMB/AADAfwAAwH+amZk/AADAf5qZGT8AAMB/AAAAAAAAwH8AAMB/AADAfwAAwH+amZk/AADAfwAAwH+amZk/AAAAAAAAwH8AAMB/AADAf5qZGT8AAMB/AADAfwAAwH+amZk/AADAfwAAwH+amZk/AAAAAAAAwH8AAMB/AADAf5qZGT8AAMB/AADAfwAAwH+amZk/AADAfwAAwH+amZk/AADAfwAAwH+amZk/AADAfwAAwH+amZk/AADAf5qZGT8AAMB/AADAf5qZGT8AAMB/AADAfwAAwH+amZk/AADAf5qZGT8AAMB/AAAAAAAAwH8AAMB/AAAAAAAAwH8AAMB/AADAf5qZGT8AAMB/AAAAAAAAwH8AAMB/AADAfwAAwH+amZk/AAAAAAAAwH8AAMB/AADAfwAAwH+amZk/AADAfwAAwH+amZk/AADAfwAAwH+amZk/AADAfwAAwH+amZk/AADAf5qZGT8AAMB/AADAfwAAwH+amZk/AADAf5qZGT8AAMB/AADAf5qZGT8AAMB/AADAfwAAwH+amZk/AAAAAAAAwH8AAMB/AADAf5qZGT8AAMB/AADAfwAAwH+amZk/AADAf5qZGT8AAMB/AAAAAAAAwH8AAMB/AADAfwAAwH+amZk/AADAfwAAwH+amZk/AADAfwAAwH+amZk/AADAfwAAwH+amZk/AADAf5qZGT8AAMB/AADAfwAAwH+amZk/AADAf5qZGT8AAMB/",
          "dtype": "f4",
          "shape": "100, 3"
         }
        }
       ],
       "layout": {
        "height": 600,
        "template": {
         "data": {
          "bar": [
           {
            "error_x": {
             "color": "#2a3f5f"
            },
            "error_y": {
             "color": "#2a3f5f"
            },
            "marker": {
             "line": {
              "color": "#E5ECF6",
              "width": 0.5
             },
             "pattern": {
              "fillmode": "overlay",
              "size": 10,
              "solidity": 0.2
             }
            },
            "type": "bar"
           }
          ],
          "barpolar": [
           {
            "marker": {
             "line": {
              "color": "#E5ECF6",
              "width": 0.5
             },
             "pattern": {
              "fillmode": "overlay",
              "size": 10,
              "solidity": 0.2
             }
            },
            "type": "barpolar"
           }
          ],
          "carpet": [
           {
            "aaxis": {
             "endlinecolor": "#2a3f5f",
             "gridcolor": "white",
             "linecolor": "white",
             "minorgridcolor": "white",
             "startlinecolor": "#2a3f5f"
            },
            "baxis": {
             "endlinecolor": "#2a3f5f",
             "gridcolor": "white",
             "linecolor": "white",
             "minorgridcolor": "white",
             "startlinecolor": "#2a3f5f"
            },
            "type": "carpet"
           }
          ],
          "choropleth": [
           {
            "colorbar": {
             "outlinewidth": 0,
             "ticks": ""
            },
            "type": "choropleth"
           }
          ],
          "contour": [
           {
            "colorbar": {
             "outlinewidth": 0,
             "ticks": ""
            },
            "colorscale": [
             [
              0,
              "#0d0887"
             ],
             [
              0.1111111111111111,
              "#46039f"
             ],
             [
              0.2222222222222222,
              "#7201a8"
             ],
             [
              0.3333333333333333,
              "#9c179e"
             ],
             [
              0.4444444444444444,
              "#bd3786"
             ],
             [
              0.5555555555555556,
              "#d8576b"
             ],
             [
              0.6666666666666666,
              "#ed7953"
             ],
             [
              0.7777777777777778,
              "#fb9f3a"
             ],
             [
              0.8888888888888888,
              "#fdca26"
             ],
             [
              1,
              "#f0f921"
             ]
            ],
            "type": "contour"
           }
          ],
          "contourcarpet": [
           {
            "colorbar": {
             "outlinewidth": 0,
             "ticks": ""
            },
            "type": "contourcarpet"
           }
          ],
          "heatmap": [
           {
            "colorbar": {
             "outlinewidth": 0,
             "ticks": ""
            },
            "colorscale": [
             [
              0,
              "#0d0887"
             ],
             [
              0.1111111111111111,
              "#46039f"
             ],
             [
              0.2222222222222222,
              "#7201a8"
             ],
             [
              0.3333333333333333,
              "#9c179e"
             ],
             [
              0.4444444444444444,
              "#bd3786"
             ],
             [
              0.5555555555555556,
              "#d8576b"
             ],
             [
              0.6666666666666666,
              "#ed7953"
             ],
             [
              0.7777777777777778,
              "#fb9f3a"
             ],
             [
              0.8888888888888888,
              "#fdca26"
             ],
             [
              1,
              "#f0f921"
             ]
            ],
            "type": "heatmap"
           }
          ],
          "histogram": [
           {
            "marker": {
             "pattern": {
              "fillmode": "overlay",
              "size": 10,
              "solidity": 0.2
             }
            },
            "type": "histogram"
           }
          ],
          "histogram2d": [
           {
            "colorbar": {
             "outlinewidth": 0,
             "ticks": ""
            },
            "colorscale": [
             [
              0,
              "#0d0887"
             ],
             [
              0.1111111111111111,
              "#46039f"
             ],
             [
              0.2222222222222222,
              "#7201a8"
             ],
             [
              0.3333333333333333,
              "#9c179e"
             ],
             [
              0.4444444444444444,
              "#bd3786"
             ],
             [
              0.5555555555555556,
              "#d8576b"
             ],
             [
              0.6666666666666666,
              "#ed7953"
             ],
             [
              0.7777777777777778,
              "#fb9f3a"
             ],
             [
              0.8888888888888888,
              "#fdca26"
             ],
             [
              1,
              "#f0f921"
             ]
            ],
            "type": "histogram2d"
           }
          ],
          "histogram2dcontour": [
           {
            "colorbar": {
             "outlinewidth": 0,
             "ticks": ""
            },
            "colorscale": [
             [
              0,
              "#0d0887"
             ],
             [
              0.1111111111111111,
              "#46039f"
             ],
             [
              0.2222222222222222,
              "#7201a8"
             ],
             [
              0.3333333333333333,
              "#9c179e"
             ],
             [
              0.4444444444444444,
              "#bd3786"
             ],
             [
              0.5555555555555556,
              "#d8576b"
             ],
             [
              0.6666666666666666,
              "#ed7953"
             ],
             [
              0.7777777777777778,
              "#fb9f3a"
             ],
             [
              0.8888888888888888,
              "#fdca26"
             ],
             [
              1,
              "#f0f921"
             ]
            ],
            "type": "histogram2dcontour"
           }
          ],
          "mesh3d": [
           {
            "colorbar": {
             "outlinewidth": 0,
             "ticks": ""
            },
            "type": "mesh3d"
           }
          ],
          "parcoords": [
           {
            "line": {
             "colorbar": {
              "outlinewidth": 0,
              "ticks": ""
             }
            },
            "type": "parcoords"
           }
          ],
          "pie": [
           {
            "automargin": true,
            "type": "pie"
           }
          ],
          "scatter": [
           {
            "fillpattern": {
             "fillmode": "overlay",
             "size": 10,
             "solidity": 0.2
            },
            "type": "scatter"
           }
          ],
          "scatter3d": [
           {
            "line": {
             "colorbar": {
              "outlinewidth": 0,
              "ticks": ""
             }
            },
            "marker": {
             "colorbar": {
              "outlinewidth": 0,
              "ticks": ""
             }
            },
            "type": "scatter3d"
           }
          ],
          "scattercarpet": [
           {
            "marker": {
             "colorbar": {
              "outlinewidth": 0,
              "ticks": ""
             }
            },
            "type": "scattercarpet"
           }
          ],
          "scattergeo": [
           {
            "marker": {
             "colorbar": {
              "outlinewidth": 0,
              "ticks": ""
             }
            },
            "type": "scattergeo"
           }
          ],
          "scattergl": [
           {
            "marker": {
             "colorbar": {
              "outlinewidth": 0,
              "ticks": ""
             }
            },
            "type": "scattergl"
           }
          ],
          "scattermap": [
           {
            "marker": {
             "colorbar": {
              "outlinewidth": 0,
              "ticks": ""
             }
            },
            "type": "scattermap"
           }
          ],
          "scattermapbox": [
           {
            "marker": {
             "colorbar": {
              "outlinewidth": 0,
              "ticks": ""
             }
            },
            "type": "scattermapbox"
           }
          ],
          "scatterpolar": [
           {
            "marker": {
             "colorbar": {
              "outlinewidth": 0,
              "ticks": ""
             }
            },
            "type": "scatterpolar"
           }
          ],
          "scatterpolargl": [
           {
            "marker": {
             "colorbar": {
              "outlinewidth": 0,
              "ticks": ""
             }
            },
            "type": "scatterpolargl"
           }
          ],
          "scatterternary": [
           {
            "marker": {
             "colorbar": {
              "outlinewidth": 0,
              "ticks": ""
             }
            },
            "type": "scatterternary"
           }
          ],
          "surface": [
           {
            "colorbar": {
             "outlinewidth": 0,
             "ticks": ""
            },
            "colorscale": [
             [
              0,
              "#0d0887"
             ],
             [
              0.1111111111111111,
              "#46039f"
             ],
             [
              0.2222222222222222,
              "#7201a8"
             ],
             [
              0.3333333333333333,
              "#9c179e"
             ],
             [
              0.4444444444444444,
              "#bd3786"
             ],
             [
              0.5555555555555556,
              "#d8576b"
             ],
             [
              0.6666666666666666,
              "#ed7953"
             ],
             [
              0.7777777777777778,
              "#fb9f3a"
             ],
             [
              0.8888888888888888,
              "#fdca26"
             ],
             [
              1,
              "#f0f921"
             ]
            ],
            "type": "surface"
           }
          ],
          "table": [
           {
            "cells": {
             "fill": {
              "color": "#EBF0F8"
             },
             "line": {
              "color": "white"
             }
            },
            "header": {
             "fill": {
              "color": "#C8D4E3"
             },
             "line": {
              "color": "white"
             }
            },
            "type": "table"
           }
          ]
         },
         "layout": {
          "annotationdefaults": {
           "arrowcolor": "#2a3f5f",
           "arrowhead": 0,
           "arrowwidth": 1
          },
          "autotypenumbers": "strict",
          "coloraxis": {
           "colorbar": {
            "outlinewidth": 0,
            "ticks": ""
           }
          },
          "colorscale": {
           "diverging": [
            [
             0,
             "#8e0152"
            ],
            [
             0.1,
             "#c51b7d"
            ],
            [
             0.2,
             "#de77ae"
            ],
            [
             0.3,
             "#f1b6da"
            ],
            [
             0.4,
             "#fde0ef"
            ],
            [
             0.5,
             "#f7f7f7"
            ],
            [
             0.6,
             "#e6f5d0"
            ],
            [
             0.7,
             "#b8e186"
            ],
            [
             0.8,
             "#7fbc41"
            ],
            [
             0.9,
             "#4d9221"
            ],
            [
             1,
             "#276419"
            ]
           ],
           "sequential": [
            [
             0,
             "#0d0887"
            ],
            [
             0.1111111111111111,
             "#46039f"
            ],
            [
             0.2222222222222222,
             "#7201a8"
            ],
            [
             0.3333333333333333,
             "#9c179e"
            ],
            [
             0.4444444444444444,
             "#bd3786"
            ],
            [
             0.5555555555555556,
             "#d8576b"
            ],
            [
             0.6666666666666666,
             "#ed7953"
            ],
            [
             0.7777777777777778,
             "#fb9f3a"
            ],
            [
             0.8888888888888888,
             "#fdca26"
            ],
            [
             1,
             "#f0f921"
            ]
           ],
           "sequentialminus": [
            [
             0,
             "#0d0887"
            ],
            [
             0.1111111111111111,
             "#46039f"
            ],
            [
             0.2222222222222222,
             "#7201a8"
            ],
            [
             0.3333333333333333,
             "#9c179e"
            ],
            [
             0.4444444444444444,
             "#bd3786"
            ],
            [
             0.5555555555555556,
             "#d8576b"
            ],
            [
             0.6666666666666666,
             "#ed7953"
            ],
            [
             0.7777777777777778,
             "#fb9f3a"
            ],
            [
             0.8888888888888888,
             "#fdca26"
            ],
            [
             1,
             "#f0f921"
            ]
           ]
          },
          "colorway": [
           "#636efa",
           "#EF553B",
           "#00cc96",
           "#ab63fa",
           "#FFA15A",
           "#19d3f3",
           "#FF6692",
           "#B6E880",
           "#FF97FF",
           "#FECB52"
          ],
          "font": {
           "color": "#2a3f5f"
          },
          "geo": {
           "bgcolor": "white",
           "lakecolor": "white",
           "landcolor": "#E5ECF6",
           "showlakes": true,
           "showland": true,
           "subunitcolor": "white"
          },
          "hoverlabel": {
           "align": "left"
          },
          "hovermode": "closest",
          "mapbox": {
           "style": "light"
          },
          "paper_bgcolor": "white",
          "plot_bgcolor": "#E5ECF6",
          "polar": {
           "angularaxis": {
            "gridcolor": "white",
            "linecolor": "white",
            "ticks": ""
           },
           "bgcolor": "#E5ECF6",
           "radialaxis": {
            "gridcolor": "white",
            "linecolor": "white",
            "ticks": ""
           }
          },
          "scene": {
           "xaxis": {
            "backgroundcolor": "#E5ECF6",
            "gridcolor": "white",
            "gridwidth": 2,
            "linecolor": "white",
            "showbackground": true,
            "ticks": "",
            "zerolinecolor": "white"
           },
           "yaxis": {
            "backgroundcolor": "#E5ECF6",
            "gridcolor": "white",
            "gridwidth": 2,
            "linecolor": "white",
            "showbackground": true,
            "ticks": "",
            "zerolinecolor": "white"
           },
           "zaxis": {
            "backgroundcolor": "#E5ECF6",
            "gridcolor": "white",
            "gridwidth": 2,
            "linecolor": "white",
            "showbackground": true,
            "ticks": "",
            "zerolinecolor": "white"
           }
          },
          "shapedefaults": {
           "line": {
            "color": "#2a3f5f"
           }
          },
          "ternary": {
           "aaxis": {
            "gridcolor": "white",
            "linecolor": "white",
            "ticks": ""
           },
           "baxis": {
            "gridcolor": "white",
            "linecolor": "white",
            "ticks": ""
           },
           "bgcolor": "#E5ECF6",
           "caxis": {
            "gridcolor": "white",
            "linecolor": "white",
            "ticks": ""
           }
          },
          "title": {
           "x": 0.05
          },
          "xaxis": {
           "automargin": true,
           "gridcolor": "white",
           "linecolor": "white",
           "ticks": "",
           "title": {
            "standoff": 15
           },
           "zerolinecolor": "white",
           "zerolinewidth": 2
          },
          "yaxis": {
           "automargin": true,
           "gridcolor": "white",
           "linecolor": "white",
           "ticks": "",
           "title": {
            "standoff": 15
           },
           "zerolinecolor": "white",
           "zerolinewidth": 2
          }
         }
        },
        "title": {
         "text": "Interactive Risk Score Heatmap: Position vs Genotype"
        },
        "xaxis": {
         "title": {
          "text": "Genotype"
         }
        },
        "yaxis": {
         "title": {
          "text": "Genomic Position"
         }
        }
       }
      }
     },
     "metadata": {},
     "output_type": "display_data"
    },
    {
     "name": "stdout",
     "output_type": "stream",
     "text": [
      "Position vs genotype heatmap - hover for detailed risk scores\n",
      "\n",
      "Population Comparison Analysis:\n"
     ]
    },
    {
     "data": {
      "application/vnd.plotly.v1+json": {
       "config": {
        "plotlyServerURL": "https://plot.ly"
       },
       "data": [
        {
         "boxpoints": "outliers",
         "hovertemplate": "Population: %{x}<br>Risk Score: %{y}<extra></extra>",
         "marker": {
          "color": "rgb(102,194,165)"
         },
         "name": "Mixed",
         "type": "box",
         "xaxis": "x",
         "y": {
          "bdata": "AADAQJqZGT+amRk/mpkZP5qZGT+amZk/mpmZP5qZmT+amZk/AAAAAJqZmT+amZk/mpmZP5qZmT8AAAAAmpmZP5qZmT+amZk/mpmZP5qZGT8AAAAAAAAAAJqZmT+amZk/mpmZP5qZmT+amZk/",
          "dtype": "f4"
         },
         "yaxis": "y"
        },
        {
         "boxpoints": "outliers",
         "hovertemplate": "Population: %{x}<br>Risk Score: %{y}<extra></extra>",
         "marker": {
          "color": "rgb(252,141,98)"
         },
         "name": "Asian",
         "type": "box",
         "xaxis": "x",
         "y": {
          "bdata": "mpmZP5qZGT8AAAAAAAAAAJqZmT+amRk/AAAAAJqZmT8AAAAAmpmZP5qZmT+amZk/mpmZP5qZmT+amZk/mpkZP5qZGT+amRk/mpkZP5qZmT+amZk/mpmZP5qZGT+amZk/mpmZPwAAAACamZk/mpmZPw==",
          "dtype": "f4"
         },
         "yaxis": "y"
        },
        {
         "boxpoints": "outliers",
         "hovertemplate": "Population: %{x}<br>Risk Score: %{y}<extra></extra>",
         "marker": {
          "color": "rgb(141,160,203)"
         },
         "name": "African",
         "type": "box",
         "xaxis": "x",
         "y": {
          "bdata": "mpmZPwAAAAAAAAAAAAAAAAAAAACamRk/mpmZP5qZGT8AAAAAmpkZP5qZmT8AAAAAAAAAAAAAAACamRk/mpkZP5qZGT+amZk/mpkZP5qZGT+amRk/AAAAAAAAAAAAAAAAmpmZPwAAAAA=",
          "dtype": "f4"
         },
         "yaxis": "y"
        },
        {
         "boxpoints": "outliers",
         "hovertemplate": "Population: %{x}<br>Risk Score: %{y}<extra></extra>",
         "marker": {
          "color": "rgb(231,138,195)"
         },
         "name": "European",
         "type": "box",
         "xaxis": "x",
         "y": {
          "bdata": "mpkZP5qZmT8AAAAAmpkZP5qZGT+amRk/AAAAAJqZGT+amZk/mpkZP5qZGT+amRk/mpmZPwAAAACamRk/mpmZP5qZGT+amRk/mpmZPw==",
          "dtype": "f4"
         },
         "yaxis": "y"
        },
        {
         "hovertemplate": "Population: %{x}<br>Severity: minimal_risk<br>Count: %{y}<extra></extra>",
         "marker": {
          "color": "#2ecc71"
         },
         "name": "minimal_risk",
         "type": "bar",
         "x": [
          "African",
          "Asian",
          "European",
          "Mixed"
         ],
         "xaxis": "x2",
         "y": {
          "bdata": "GhwTGw==",
          "dtype": "i1"
         },
         "yaxis": "y2"
        },
        {
         "hovertemplate": "Population: %{x}<br>Classification: benign<br>Count: %{y}<extra></extra>",
         "marker": {
          "color": "#2ecc71"
         },
         "name": "benign",
         "type": "bar",
         "x": [
          "African",
          "Asian",
          "European",
          "Mixed"
         ],
         "xaxis": "x3",
         "y": {
          "bdata": "DAUDBA==",
          "dtype": "i1"
         },
         "yaxis": "y3"
        },
        {
         "hovertemplate": "Population: %{x}<br>Classification: pathogenic<br>Count: %{y}<extra></extra>",
         "marker": {
          "color": "#e74c3c"
         },
         "name": "pathogenic",
         "type": "bar",
         "x": [
          "African",
          "Asian",
          "European",
          "Mixed"
         ],
         "xaxis": "x3",
         "y": {
          "bdata": "AAAAAQ==",
          "dtype": "i1"
         },
         "yaxis": "y3"
        },
        {
         "hovertemplate": "Population: %{x}<br>Classification: uncertain<br>Count: %{y}<extra></extra>",
         "marker": {
          "color": "#95a5a6"
         },
         "name": "uncertain",
         "type": "bar",
         "x": [
          "African",
          "Asian",
          "European",
          "Mixed"
         ],
         "xaxis": "x3",
         "y": {
          "bdata": "DhcQFg==",
          "dtype": "i1"
         },
         "yaxis": "y3"
        },
        {
         "domain": {
          "x": [
           0.55,
           1
          ],
          "y": [
           0,
           0.375
          ]
         },
         "hovertemplate": "%{label}<br>Count: %{value}<br>Percentage: %{percent}<extra></extra>",
         "labels": [
          "Asian",
          "Mixed",
          "African",
          "European"
         ],
         "marker": {
          "colors": [
           "rgb(102,194,165)",
           "rgb(252,141,98)",
           "rgb(141,160,203)",
           "rgb(231,138,195)"
          ]
         },
         "name": "Population",
         "type": "pie",
         "values": {
          "bdata": "HBsaEw==",
          "dtype": "i1"
         }
        }
       ],
       "layout": {
        "annotations": [
         {
          "font": {
           "size": 16
          },
          "showarrow": false,
          "text": "Risk Score by Population",
          "x": 0.225,
          "xanchor": "center",
          "xref": "paper",
          "y": 1,
          "yanchor": "bottom",
          "yref": "paper"
         },
         {
          "font": {
           "size": 16
          },
          "showarrow": false,
          "text": "Severity Distribution by Population",
          "x": 0.775,
          "xanchor": "center",
          "xref": "paper",
          "y": 1,
          "yanchor": "bottom",
          "yref": "paper"
         },
         {
          "font": {
           "size": 16
          },
          "showarrow": false,
          "text": "Variant Classification by Population",
          "x": 0.225,
          "xanchor": "center",
          "xref": "paper",
          "y": 0.375,
          "yanchor": "bottom",
          "yref": "paper"
         },
         {
          "font": {
           "size": 16
          },
          "showarrow": false,
          "text": "Population Demographics",
          "x": 0.775,
          "xanchor": "center",
          "xref": "paper",
          "y": 0.375,
          "yanchor": "bottom",
          "yref": "paper"
         }
        ],
        "barmode": "stack",
        "height": 800,
        "showlegend": true,
        "template": {
         "data": {
          "bar": [
           {
            "error_x": {
             "color": "#2a3f5f"
            },
            "error_y": {
             "color": "#2a3f5f"
            },
            "marker": {
             "line": {
              "color": "#E5ECF6",
              "width": 0.5
             },
             "pattern": {
              "fillmode": "overlay",
              "size": 10,
              "solidity": 0.2
             }
            },
            "type": "bar"
           }
          ],
          "barpolar": [
           {
            "marker": {
             "line": {
              "color": "#E5ECF6",
              "width": 0.5
             },
             "pattern": {
              "fillmode": "overlay",
              "size": 10,
              "solidity": 0.2
             }
            },
            "type": "barpolar"
           }
          ],
          "carpet": [
           {
            "aaxis": {
             "endlinecolor": "#2a3f5f",
             "gridcolor": "white",
             "linecolor": "white",
             "minorgridcolor": "white",
             "startlinecolor": "#2a3f5f"
            },
            "baxis": {
             "endlinecolor": "#2a3f5f",
             "gridcolor": "white",
             "linecolor": "white",
             "minorgridcolor": "white",
             "startlinecolor": "#2a3f5f"
            },
            "type": "carpet"
           }
          ],
          "choropleth": [
           {
            "colorbar": {
             "outlinewidth": 0,
             "ticks": ""
            },
            "type": "choropleth"
           }
          ],
          "contour": [
           {
            "colorbar": {
             "outlinewidth": 0,
             "ticks": ""
            },
            "colorscale": [
             [
              0,
              "#0d0887"
             ],
             [
              0.1111111111111111,
              "#46039f"
             ],
             [
              0.2222222222222222,
              "#7201a8"
             ],
             [
              0.3333333333333333,
              "#9c179e"
             ],
             [
              0.4444444444444444,
              "#bd3786"
             ],
             [
              0.5555555555555556,
              "#d8576b"
             ],
             [
              0.6666666666666666,
              "#ed7953"
             ],
             [
              0.7777777777777778,
              "#fb9f3a"
             ],
             [
              0.8888888888888888,
              "#fdca26"
             ],
             [
              1,
              "#f0f921"
             ]
            ],
            "type": "contour"
           }
          ],
          "contourcarpet": [
           {
            "colorbar": {
             "outlinewidth": 0,
             "ticks": ""
            },
            "type": "contourcarpet"
           }
          ],
          "heatmap": [
           {
            "colorbar": {
             "outlinewidth": 0,
             "ticks": ""
            },
            "colorscale": [
             [
              0,
              "#0d0887"
             ],
             [
              0.1111111111111111,
              "#46039f"
             ],
             [
              0.2222222222222222,
              "#7201a8"
             ],
             [
              0.3333333333333333,
              "#9c179e"
             ],
             [
              0.4444444444444444,
              "#bd3786"
             ],
             [
              0.5555555555555556,
              "#d8576b"
             ],
             [
              0.6666666666666666,
              "#ed7953"
             ],
             [
              0.7777777777777778,
              "#fb9f3a"
             ],
             [
              0.8888888888888888,
              "#fdca26"
             ],
             [
              1,
              "#f0f921"
             ]
            ],
            "type": "heatmap"
           }
          ],
          "histogram": [
           {
            "marker": {
             "pattern": {
              "fillmode": "overlay",
              "size": 10,
              "solidity": 0.2
             }
            },
            "type": "histogram"
           }
          ],
          "histogram2d": [
           {
            "colorbar": {
             "outlinewidth": 0,
             "ticks": ""
            },
            "colorscale": [
             [
              0,
              "#0d0887"
             ],
             [
              0.1111111111111111,
              "#46039f"
             ],
             [
              0.2222222222222222,
              "#7201a8"
             ],
             [
              0.3333333333333333,
              "#9c179e"
             ],
             [
              0.4444444444444444,
              "#bd3786"
             ],
             [
              0.5555555555555556,
              "#d8576b"
             ],
             [
              0.6666666666666666,
              "#ed7953"
             ],
             [
              0.7777777777777778,
              "#fb9f3a"
             ],
             [
              0.8888888888888888,
              "#fdca26"
             ],
             [
              1,
              "#f0f921"
             ]
            ],
            "type": "histogram2d"
           }
          ],
          "histogram2dcontour": [
           {
            "colorbar": {
             "outlinewidth": 0,
             "ticks": ""
            },
            "colorscale": [
             [
              0,
              "#0d0887"
             ],
             [
              0.1111111111111111,
              "#46039f"
             ],
             [
              0.2222222222222222,
              "#7201a8"
             ],
             [
              0.3333333333333333,
              "#9c179e"
             ],
             [
              0.4444444444444444,
              "#bd3786"
             ],
             [
              0.5555555555555556,
              "#d8576b"
             ],
             [
              0.6666666666666666,
              "#ed7953"
             ],
             [
              0.7777777777777778,
              "#fb9f3a"
             ],
             [
              0.8888888888888888,
              "#fdca26"
             ],
             [
              1,
              "#f0f921"
             ]
            ],
            "type": "histogram2dcontour"
           }
          ],
          "mesh3d": [
           {
            "colorbar": {
             "outlinewidth": 0,
             "ticks": ""
            },
            "type": "mesh3d"
           }
          ],
          "parcoords": [
           {
            "line": {
             "colorbar": {
              "outlinewidth": 0,
              "ticks": ""
             }
            },
            "type": "parcoords"
           }
          ],
          "pie": [
           {
            "automargin": true,
            "type": "pie"
           }
          ],
          "scatter": [
           {
            "fillpattern": {
             "fillmode": "overlay",
             "size": 10,
             "solidity": 0.2
            },
            "type": "scatter"
           }
          ],
          "scatter3d": [
           {
            "line": {
             "colorbar": {
              "outlinewidth": 0,
              "ticks": ""
             }
            },
            "marker": {
             "colorbar": {
              "outlinewidth": 0,
              "ticks": ""
             }
            },
            "type": "scatter3d"
           }
          ],
          "scattercarpet": [
           {
            "marker": {
             "colorbar": {
              "outlinewidth": 0,
              "ticks": ""
             }
            },
            "type": "scattercarpet"
           }
          ],
          "scattergeo": [
           {
            "marker": {
             "colorbar": {
              "outlinewidth": 0,
              "ticks": ""
             }
            },
            "type": "scattergeo"
           }
          ],
          "scattergl": [
           {
            "marker": {
             "colorbar": {
              "outlinewidth": 0,
              "ticks": ""
             }
            },
            "type": "scattergl"
           }
          ],
          "scattermap": [
           {
            "marker": {
             "colorbar": {
              "outlinewidth": 0,
              "ticks": ""
             }
            },
            "type": "scattermap"
           }
          ],
          "scattermapbox": [
           {
            "marker": {
             "colorbar": {
              "outlinewidth": 0,
              "ticks": ""
             }
            },
            "type": "scattermapbox"
           }
          ],
          "scatterpolar": [
           {
            "marker": {
             "colorbar": {
              "outlinewidth": 0,
              "ticks": ""
             }
            },
            "type": "scatterpolar"
           }
          ],
          "scatterpolargl": [
           {
            "marker": {
             "colorbar": {
              "outlinewidth": 0,
              "ticks": ""
             }
            },
            "type": "scatterpolargl"
           }
          ],
          "scatterternary": [
           {
            "marker": {
             "colorbar": {
              "outlinewidth": 0,
              "ticks": ""
             }
            },
            "type": "scatterternary"
           }
          ],
          "surface": [
           {
            "colorbar": {
             "outlinewidth": 0,
             "ticks": ""
            },
            "colorscale": [
             [
              0,
              "#0d0887"
             ],
             [
              0.1111111111111111,
              "#46039f"
             ],
             [
              0.2222222222222222,
              "#7201a8"
             ],
             [
              0.3333333333333333,
              "#9c179e"
             ],
             [
              0.4444444444444444,
              "#bd3786"
             ],
             [
              0.5555555555555556,
              "#d8576b"
             ],
             [
              0.6666666666666666,
              "#ed7953"
             ],
             [
              0.7777777777777778,
              "#fb9f3a"
             ],
             [
              0.8888888888888888,
              "#fdca26"
             ],
             [
              1,
              "#f0f921"
             ]
            ],
            "type": "surface"
           }
          ],
          "table": [
           {
            "cells": {
             "fill": {
              "color": "#EBF0F8"
             },
             "line": {
              "color": "white"
             }
            },
            "header": {
             "fill": {
              "color": "#C8D4E3"
             },
             "line": {
              "color": "white"
             }
            },
            "type": "table"
           }
          ]
         },
         "layout": {
          "annotationdefaults": {
           "arrowcolor": "#2a3f5f",
           "arrowhead": 0,
           "arrowwidth": 1
          },
          "autotypenumbers": "strict",
          "coloraxis": {
           "colorbar": {
            "outlinewidth": 0,
            "ticks": ""
           }
          },
          "colorscale": {
           "diverging": [
            [
             0,
             "#8e0152"
            ],
            [
             0.1,
             "#c51b7d"
            ],
            [
             0.2,
             "#de77ae"
            ],
            [
             0.3,
             "#f1b6da"
            ],
            [
             0.4,
             "#fde0ef"
            ],
            [
             0.5,
             "#f7f7f7"
            ],
            [
             0.6,
             "#e6f5d0"
            ],
            [
             0.7,
             "#b8e186"
            ],
            [
             0.8,
             "#7fbc41"
            ],
            [
             0.9,
             "#4d9221"
            ],
            [
             1,
             "#276419"
            ]
           ],
           "sequential": [
            [
             0,
             "#0d0887"
            ],
            [
             0.1111111111111111,
             "#46039f"
            ],
            [
             0.2222222222222222,
             "#7201a8"
            ],
            [
             0.3333333333333333,
             "#9c179e"
            ],
            [
             0.4444444444444444,
             "#bd3786"
            ],
            [
             0.5555555555555556,
             "#d8576b"
            ],
            [
             0.6666666666666666,
             "#ed7953"
            ],
            [
             0.7777777777777778,
             "#fb9f3a"
            ],
            [
             0.8888888888888888,
             "#fdca26"
            ],
            [
             1,
             "#f0f921"
            ]
           ],
           "sequentialminus": [
            [
             0,
             "#0d0887"
            ],
            [
             0.1111111111111111,
             "#46039f"
            ],
            [
             0.2222222222222222,
             "#7201a8"
            ],
            [
             0.3333333333333333,
             "#9c179e"
            ],
            [
             0.4444444444444444,
             "#bd3786"
            ],
            [
             0.5555555555555556,
             "#d8576b"
            ],
            [
             0.6666666666666666,
             "#ed7953"
            ],
            [
             0.7777777777777778,
             "#fb9f3a"
            ],
            [
             0.8888888888888888,
             "#fdca26"
            ],
            [
             1,
             "#f0f921"
            ]
           ]
          },
          "colorway": [
           "#636efa",
           "#EF553B",
           "#00cc96",
           "#ab63fa",
           "#FFA15A",
           "#19d3f3",
           "#FF6692",
           "#B6E880",
           "#FF97FF",
           "#FECB52"
          ],
          "font": {
           "color": "#2a3f5f"
          },
          "geo": {
           "bgcolor": "white",
           "lakecolor": "white",
           "landcolor": "#E5ECF6",
           "showlakes": true,
           "showland": true,
           "subunitcolor": "white"
          },
          "hoverlabel": {
           "align": "left"
          },
          "hovermode": "closest",
          "mapbox": {
           "style": "light"
          },
          "paper_bgcolor": "white",
          "plot_bgcolor": "#E5ECF6",
          "polar": {
           "angularaxis": {
            "gridcolor": "white",
            "linecolor": "white",
            "ticks": ""
           },
           "bgcolor": "#E5ECF6",
           "radialaxis": {
            "gridcolor": "white",
            "linecolor": "white",
            "ticks": ""
           }
          },
          "scene": {
           "xaxis": {
            "backgroundcolor": "#E5ECF6",
            "gridcolor": "white",
            "gridwidth": 2,
            "linecolor": "white",
            "showbackground": true,
            "ticks": "",
            "zerolinecolor": "white"
           },
           "yaxis": {
            "backgroundcolor": "#E5ECF6",
            "gridcolor": "white",
            "gridwidth": 2,
            "linecolor": "white",
            "showbackground": true,
            "ticks": "",
            "zerolinecolor": "white"
           },
           "zaxis": {
            "backgroundcolor": "#E5ECF6",
            "gridcolor": "white",
            "gridwidth": 2,
            "linecolor": "white",
            "showbackground": true,
            "ticks": "",
            "zerolinecolor": "white"
           }
          },
          "shapedefaults": {
           "line": {
            "color": "#2a3f5f"
           }
          },
          "ternary": {
           "aaxis": {
            "gridcolor": "white",
            "linecolor": "white",
            "ticks": ""
           },
           "baxis": {
            "gridcolor": "white",
            "linecolor": "white",
            "ticks": ""
           },
           "bgcolor": "#E5ECF6",
           "caxis": {
            "gridcolor": "white",
            "linecolor": "white",
            "ticks": ""
           }
          },
          "title": {
           "x": 0.05
          },
          "xaxis": {
           "automargin": true,
           "gridcolor": "white",
           "linecolor": "white",
           "ticks": "",
           "title": {
            "standoff": 15
           },
           "zerolinecolor": "white",
           "zerolinewidth": 2
          },
          "yaxis": {
           "automargin": true,
           "gridcolor": "white",
           "linecolor": "white",
           "ticks": "",
           "title": {
            "standoff": 15
           },
           "zerolinecolor": "white",
           "zerolinewidth": 2
          }
         }
        },
        "title": {
         "text": "Population Comparison Analysis"
        },
        "xaxis": {
         "anchor": "y",
         "domain": [
          0,
          0.45
         ]
        },
        "xaxis2": {
         "anchor": "y2",
         "domain": [
          0.55,
          1
         ]
        },
        "xaxis3": {
         "anchor": "y3",
         "domain": [
          0,
          0.45
         ]
        },
        "yaxis": {
         "anchor": "x",
         "domain": [
          0.625,
          1
         ]
        },
        "yaxis2": {
         "anchor": "x2",
         "domain": [
          0.625,
          1
         ]
        },
        "yaxis3": {
         "anchor": "x3",
         "domain": [
          0,
          0.375
         ]
        }
       }
      }
     },
     "metadata": {},
     "output_type": "display_data"
    },
    {
     "name": "stdout",
     "output_type": "stream",
     "text": [
      "Demonstrates population-stratified risk analysis (uses synthetic population data)\n",
      "\n",
      "Interactive Correlation Analysis:\n"
     ]
    },
    {
     "data": {
      "application/vnd.plotly.v1+json": {
       "config": {
        "plotlyServerURL": "https://plot.ly"
       },
       "data": [
        {
         "colorbar": {
          "title": {
           "text": "Correlation"
          }
         },
         "colorscale": [
          [
           0,
           "rgb(103,0,31)"
          ],
          [
           0.1,
           "rgb(178,24,43)"
          ],
          [
           0.2,
           "rgb(214,96,77)"
          ],
          [
           0.3,
           "rgb(244,165,130)"
          ],
          [
           0.4,
           "rgb(253,219,199)"
          ],
          [
           0.5,
           "rgb(247,247,247)"
          ],
          [
           0.6,
           "rgb(209,229,240)"
          ],
          [
           0.7,
           "rgb(146,197,222)"
          ],
          [
           0.8,
           "rgb(67,147,195)"
          ],
          [
           0.9,
           "rgb(33,102,172)"
          ],
          [
           1,
           "rgb(5,48,97)"
          ]
         ],
         "hovertemplate": "%{x} vs %{y}<br>Correlation: %{z:.3f}<extra></extra>",
         "type": "heatmap",
         "x": [
          "position",
          "population_frequency",
          "risk_score",
          "ml_confidence_score",
          "ml_prob_mild",
          "ml_prob_moderate",
          "ml_prob_normal",
          "ml_prob_severe"
         ],
         "y": [
          "position",
          "population_frequency",
          "risk_score",
          "ml_confidence_score",
          "ml_prob_mild",
          "ml_prob_moderate",
          "ml_prob_normal",
          "ml_prob_severe"
         ],
         "z": {
          "bdata": "AAAAAAAA8D8ul5UXOYnFP+qFr+CCQWc/7S8Is5ubqr8GKuIqW/G4P7KGHzow7pu/MkEOzmPHqb9nOsloVCSfvy6XlRc5icU/AAAAAAAA8D8FsEnbMg25v/7XhpG7YKk/ZYIZOwocnb87z146Cqm0v83aPi7Ki6w/4s+y6OSPpr/qha/ggkFnPwWwSdsyDbm/AAAAAAAA8D8PrR4/k5nnv/UyFBJTxNw/eOJuIfX67D8el07WsvXovzTlpvfdEOU/7S8Is5ubqr/+14aRu2CpPw+tHj+Tmee/AAAAAAAA8D/OKgofVdPpv+RF91Meh+a/bVg4/Ovr7z+0gwBlsjjmvwYq4ipb8bg/ZYIZOwocnb/1MhQSU8TcP84qCh9V0+m/AAAAAAAA8D+Nrcmp9FLLP0f7riTJvOm/eqPNheF5wT+yhh86MO6bvzvPXjoKqbS/eOJuIfX67D/kRfdTHofmv42tyan0Uss/AAAAAAAA8D8ldzG4mVjnvzRqM2xU2Ow/MkEOzmPHqb/N2j4uyousPx6XTtay9ei/bVg4/Ovr7z9H+64kybzpvyV3MbiZWOe/AAAAAAAA8D/CEDmqOhbmv2c6yWhUJJ+/4s+y6OSPpr805ab33RDlP7SDAGWyOOa/eqPNheF5wT80ajNsVNjsP8IQOao6Fua/AAAAAAAA8D8=",
          "dtype": "f8",
          "shape": "8, 8"
         },
         "zmax": 1,
         "zmin": -1
        }
       ],
       "layout": {
        "annotations": [
         {
          "font": {
           "color": "white"
          },
          "showarrow": false,
          "text": "1.000",
          "x": "position",
          "y": "position"
         },
         {
          "font": {
           "color": "black"
          },
          "showarrow": false,
          "text": "0.168",
          "x": "position",
          "y": "population_frequency"
         },
         {
          "font": {
           "color": "black"
          },
          "showarrow": false,
          "text": "0.003",
          "x": "position",
          "y": "risk_score"
         },
         {
          "font": {
           "color": "black"
          },
          "showarrow": false,
          "text": "-0.052",
          "x": "position",
          "y": "ml_confidence_score"
         },
         {
          "font": {
           "color": "black"
          },
          "showarrow": false,
          "text": "0.097",
          "x": "position",
          "y": "ml_prob_mild"
         },
         {
          "font": {
           "color": "black"
          },
          "showarrow": false,
          "text": "-0.027",
          "x": "position",
          "y": "ml_prob_moderate"
         },
         {
          "font": {
           "color": "black"
          },
          "showarrow": false,
          "text": "-0.050",
          "x": "position",
          "y": "ml_prob_normal"
         },
         {
          "font": {
           "color": "black"
          },
          "showarrow": false,
          "text": "-0.030",
          "x": "position",
          "y": "ml_prob_severe"
         },
         {
          "font": {
           "color": "black"
          },
          "showarrow": false,
          "text": "0.168",
          "x": "population_frequency",
          "y": "position"
         },
         {
          "font": {
           "color": "white"
          },
          "showarrow": false,
          "text": "1.000",
          "x": "population_frequency",
          "y": "population_frequency"
         },
         {
          "font": {
           "color": "black"
          },
          "showarrow": false,
          "text": "-0.098",
          "x": "population_frequency",
          "y": "risk_score"
         },
         {
          "font": {
           "color": "black"
          },
          "showarrow": false,
          "text": "0.050",
          "x": "population_frequency",
          "y": "ml_confidence_score"
         },
         {
          "font": {
           "color": "black"
          },
          "showarrow": false,
          "text": "-0.028",
          "x": "population_frequency",
          "y": "ml_prob_mild"
         },
         {
          "font": {
           "color": "black"
          },
          "showarrow": false,
          "text": "-0.081",
          "x": "population_frequency",
          "y": "ml_prob_moderate"
         },
         {
          "font": {
           "color": "black"
          },
          "showarrow": false,
          "text": "0.056",
          "x": "population_frequency",
          "y": "ml_prob_normal"
         },
         {
          "font": {
           "color": "black"
          },
          "showarrow": false,
          "text": "-0.044",
          "x": "population_frequency",
          "y": "ml_prob_severe"
         },
         {
          "font": {
           "color": "black"
          },
          "showarrow": false,
          "text": "0.003",
          "x": "risk_score",
          "y": "position"
         },
         {
          "font": {
           "color": "black"
          },
          "showarrow": false,
          "text": "-0.098",
          "x": "risk_score",
          "y": "population_frequency"
         },
         {
          "font": {
           "color": "white"
          },
          "showarrow": false,
          "text": "1.000",
          "x": "risk_score",
          "y": "risk_score"
         },
         {
          "font": {
           "color": "white"
          },
          "showarrow": false,
          "text": "-0.737",
          "x": "risk_score",
          "y": "ml_confidence_score"
         },
         {
          "font": {
           "color": "black"
          },
          "showarrow": false,
          "text": "0.449",
          "x": "risk_score",
          "y": "ml_prob_mild"
         },
         {
          "font": {
           "color": "white"
          },
          "showarrow": false,
          "text": "0.906",
          "x": "risk_score",
          "y": "ml_prob_moderate"
         },
         {
          "font": {
           "color": "white"
          },
          "showarrow": false,
          "text": "-0.780",
          "x": "risk_score",
          "y": "ml_prob_normal"
         },
         {
          "font": {
           "color": "white"
          },
          "showarrow": false,
          "text": "0.658",
          "x": "risk_score",
          "y": "ml_prob_severe"
         },
         {
          "font": {
           "color": "black"
          },
          "showarrow": false,
          "text": "-0.052",
          "x": "ml_confidence_score",
          "y": "position"
         },
         {
          "font": {
           "color": "black"
          },
          "showarrow": false,
          "text": "0.050",
          "x": "ml_confidence_score",
          "y": "population_frequency"
         },
         {
          "font": {
           "color": "white"
          },
          "showarrow": false,
          "text": "-0.737",
          "x": "ml_confidence_score",
          "y": "risk_score"
         },
         {
          "font": {
           "color": "white"
          },
          "showarrow": false,
          "text": "1.000",
          "x": "ml_confidence_score",
          "y": "ml_confidence_score"
         },
         {
          "font": {
           "color": "white"
          },
          "showarrow": false,
          "text": "-0.807",
          "x": "ml_confidence_score",
          "y": "ml_prob_mild"
         },
         {
          "font": {
           "color": "white"
          },
          "showarrow": false,
          "text": "-0.704",
          "x": "ml_confidence_score",
          "y": "ml_prob_moderate"
         },
         {
          "font": {
           "color": "white"
          },
          "showarrow": false,
          "text": "0.998",
          "x": "ml_confidence_score",
          "y": "ml_prob_normal"
         },
         {
          "font": {
           "color": "white"
          },
          "showarrow": false,
          "text": "-0.694",
          "x": "ml_confidence_score",
          "y": "ml_prob_severe"
         },
         {
          "font": {
           "color": "black"
          },
          "showarrow": false,
          "text": "0.097",
          "x": "ml_prob_mild",
          "y": "position"
         },
         {
          "font": {
           "color": "black"
          },
          "showarrow": false,
          "text": "-0.028",
          "x": "ml_prob_mild",
          "y": "population_frequency"
         },
         {
          "font": {
           "color": "black"
          },
          "showarrow": false,
          "text": "0.449",
          "x": "ml_prob_mild",
          "y": "risk_score"
         },
         {
          "font": {
           "color": "white"
          },
          "showarrow": false,
          "text": "-0.807",
          "x": "ml_prob_mild",
          "y": "ml_confidence_score"
         },
         {
          "font": {
           "color": "white"
          },
          "showarrow": false,
          "text": "1.000",
          "x": "ml_prob_mild",
          "y": "ml_prob_mild"
         },
         {
          "font": {
           "color": "black"
          },
          "showarrow": false,
          "text": "0.213",
          "x": "ml_prob_mild",
          "y": "ml_prob_moderate"
         },
         {
          "font": {
           "color": "white"
          },
          "showarrow": false,
          "text": "-0.804",
          "x": "ml_prob_mild",
          "y": "ml_prob_normal"
         },
         {
          "font": {
           "color": "black"
          },
          "showarrow": false,
          "text": "0.137",
          "x": "ml_prob_mild",
          "y": "ml_prob_severe"
         },
         {
          "font": {
           "color": "black"
          },
          "showarrow": false,
          "text": "-0.027",
          "x": "ml_prob_moderate",
          "y": "position"
         },
         {
          "font": {
           "color": "black"
          },
          "showarrow": false,
          "text": "-0.081",
          "x": "ml_prob_moderate",
          "y": "population_frequency"
         },
         {
          "font": {
           "color": "white"
          },
          "showarrow": false,
          "text": "0.906",
          "x": "ml_prob_moderate",
          "y": "risk_score"
         },
         {
          "font": {
           "color": "white"
          },
          "showarrow": false,
          "text": "-0.704",
          "x": "ml_prob_moderate",
          "y": "ml_confidence_score"
         },
         {
          "font": {
           "color": "black"
          },
          "showarrow": false,
          "text": "0.213",
          "x": "ml_prob_moderate",
          "y": "ml_prob_mild"
         },
         {
          "font": {
           "color": "white"
          },
          "showarrow": false,
          "text": "1.000",
          "x": "ml_prob_moderate",
          "y": "ml_prob_moderate"
         },
         {
          "font": {
           "color": "white"
          },
          "showarrow": false,
          "text": "-0.730",
          "x": "ml_prob_moderate",
          "y": "ml_prob_normal"
         },
         {
          "font": {
           "color": "white"
          },
          "showarrow": false,
          "text": "0.901",
          "x": "ml_prob_moderate",
          "y": "ml_prob_severe"
         },
         {
          "font": {
           "color": "black"
          },
          "showarrow": false,
          "text": "-0.050",
          "x": "ml_prob_normal",
          "y": "position"
         },
         {
          "font": {
           "color": "black"
          },
          "showarrow": false,
          "text": "0.056",
          "x": "ml_prob_normal",
          "y": "population_frequency"
         },
         {
          "font": {
           "color": "white"
          },
          "showarrow": false,
          "text": "-0.780",
          "x": "ml_prob_normal",
          "y": "risk_score"
         },
         {
          "font": {
           "color": "white"
          },
          "showarrow": false,
          "text": "0.998",
          "x": "ml_prob_normal",
          "y": "ml_confidence_score"
         },
         {
          "font": {
           "color": "white"
          },
          "showarrow": false,
          "text": "-0.804",
          "x": "ml_prob_normal",
          "y": "ml_prob_mild"
         },
         {
          "font": {
           "color": "white"
          },
          "showarrow": false,
          "text": "-0.730",
          "x": "ml_prob_normal",
          "y": "ml_prob_moderate"
         },
         {
          "font": {
           "color": "white"
          },
          "showarrow": false,
          "text": "1.000",
          "x": "ml_prob_normal",
          "y": "ml_prob_normal"
         },
         {
          "font": {
           "color": "white"
          },
          "showarrow": false,
          "text": "-0.690",
          "x": "ml_prob_normal",
          "y": "ml_prob_severe"
         },
         {
          "font": {
           "color": "black"
          },
          "showarrow": false,
          "text": "-0.030",
          "x": "ml_prob_severe",
          "y": "position"
         },
         {
          "font": {
           "color": "black"
          },
          "showarrow": false,
          "text": "-0.044",
          "x": "ml_prob_severe",
          "y": "population_frequency"
         },
         {
          "font": {
           "color": "white"
          },
          "showarrow": false,
          "text": "0.658",
          "x": "ml_prob_severe",
          "y": "risk_score"
         },
         {
          "font": {
           "color": "white"
          },
          "showarrow": false,
          "text": "-0.694",
          "x": "ml_prob_severe",
          "y": "ml_confidence_score"
         },
         {
          "font": {
           "color": "black"
          },
          "showarrow": false,
          "text": "0.137",
          "x": "ml_prob_severe",
          "y": "ml_prob_mild"
         },
         {
          "font": {
           "color": "white"
          },
          "showarrow": false,
          "text": "0.901",
          "x": "ml_prob_severe",
          "y": "ml_prob_moderate"
         },
         {
          "font": {
           "color": "white"
          },
          "showarrow": false,
          "text": "-0.690",
          "x": "ml_prob_severe",
          "y": "ml_prob_normal"
         },
         {
          "font": {
           "color": "white"
          },
          "showarrow": false,
          "text": "1.000",
          "x": "ml_prob_severe",
          "y": "ml_prob_severe"
         }
        ],
        "height": 600,
        "template": {
         "data": {
          "bar": [
           {
            "error_x": {
             "color": "#2a3f5f"
            },
            "error_y": {
             "color": "#2a3f5f"
            },
            "marker": {
             "line": {
              "color": "#E5ECF6",
              "width": 0.5
             },
             "pattern": {
              "fillmode": "overlay",
              "size": 10,
              "solidity": 0.2
             }
            },
            "type": "bar"
           }
          ],
          "barpolar": [
           {
            "marker": {
             "line": {
              "color": "#E5ECF6",
              "width": 0.5
             },
             "pattern": {
              "fillmode": "overlay",
              "size": 10,
              "solidity": 0.2
             }
            },
            "type": "barpolar"
           }
          ],
          "carpet": [
           {
            "aaxis": {
             "endlinecolor": "#2a3f5f",
             "gridcolor": "white",
             "linecolor": "white",
             "minorgridcolor": "white",
             "startlinecolor": "#2a3f5f"
            },
            "baxis": {
             "endlinecolor": "#2a3f5f",
             "gridcolor": "white",
             "linecolor": "white",
             "minorgridcolor": "white",
             "startlinecolor": "#2a3f5f"
            },
            "type": "carpet"
           }
          ],
          "choropleth": [
           {
            "colorbar": {
             "outlinewidth": 0,
             "ticks": ""
            },
            "type": "choropleth"
           }
          ],
          "contour": [
           {
            "colorbar": {
             "outlinewidth": 0,
             "ticks": ""
            },
            "colorscale": [
             [
              0,
              "#0d0887"
             ],
             [
              0.1111111111111111,
              "#46039f"
             ],
             [
              0.2222222222222222,
              "#7201a8"
             ],
             [
              0.3333333333333333,
              "#9c179e"
             ],
             [
              0.4444444444444444,
              "#bd3786"
             ],
             [
              0.5555555555555556,
              "#d8576b"
             ],
             [
              0.6666666666666666,
              "#ed7953"
             ],
             [
              0.7777777777777778,
              "#fb9f3a"
             ],
             [
              0.8888888888888888,
              "#fdca26"
             ],
             [
              1,
              "#f0f921"
             ]
            ],
            "type": "contour"
           }
          ],
          "contourcarpet": [
           {
            "colorbar": {
             "outlinewidth": 0,
             "ticks": ""
            },
            "type": "contourcarpet"
           }
          ],
          "heatmap": [
           {
            "colorbar": {
             "outlinewidth": 0,
             "ticks": ""
            },
            "colorscale": [
             [
              0,
              "#0d0887"
             ],
             [
              0.1111111111111111,
              "#46039f"
             ],
             [
              0.2222222222222222,
              "#7201a8"
             ],
             [
              0.3333333333333333,
              "#9c179e"
             ],
             [
              0.4444444444444444,
              "#bd3786"
             ],
             [
              0.5555555555555556,
              "#d8576b"
             ],
             [
              0.6666666666666666,
              "#ed7953"
             ],
             [
              0.7777777777777778,
              "#fb9f3a"
             ],
             [
              0.8888888888888888,
              "#fdca26"
             ],
             [
              1,
              "#f0f921"
             ]
            ],
            "type": "heatmap"
           }
          ],
          "histogram": [
           {
            "marker": {
             "pattern": {
              "fillmode": "overlay",
              "size": 10,
              "solidity": 0.2
             }
            },
            "type": "histogram"
           }
          ],
          "histogram2d": [
           {
            "colorbar": {
             "outlinewidth": 0,
             "ticks": ""
            },
            "colorscale": [
             [
              0,
              "#0d0887"
             ],
             [
              0.1111111111111111,
              "#46039f"
             ],
             [
              0.2222222222222222,
              "#7201a8"
             ],
             [
              0.3333333333333333,
              "#9c179e"
             ],
             [
              0.4444444444444444,
              "#bd3786"
             ],
             [
              0.5555555555555556,
              "#d8576b"
             ],
             [
              0.6666666666666666,
              "#ed7953"
             ],
             [
              0.7777777777777778,
              "#fb9f3a"
             ],
             [
              0.8888888888888888,
              "#fdca26"
             ],
             [
              1,
              "#f0f921"
             ]
            ],
            "type": "histogram2d"
           }
          ],
          "histogram2dcontour": [
           {
            "colorbar": {
             "outlinewidth": 0,
             "ticks": ""
            },
            "colorscale": [
             [
              0,
              "#0d0887"
             ],
             [
              0.1111111111111111,
              "#46039f"
             ],
             [
              0.2222222222222222,
              "#7201a8"
             ],
             [
              0.3333333333333333,
              "#9c179e"
             ],
             [
              0.4444444444444444,
              "#bd3786"
             ],
             [
              0.5555555555555556,
              "#d8576b"
             ],
             [
              0.6666666666666666,
              "#ed7953"
             ],
             [
              0.7777777777777778,
              "#fb9f3a"
             ],
             [
              0.8888888888888888,
              "#fdca26"
             ],
             [
              1,
              "#f0f921"
             ]
            ],
            "type": "histogram2dcontour"
           }
          ],
          "mesh3d": [
           {
            "colorbar": {
             "outlinewidth": 0,
             "ticks": ""
            },
            "type": "mesh3d"
           }
          ],
          "parcoords": [
           {
            "line": {
             "colorbar": {
              "outlinewidth": 0,
              "ticks": ""
             }
            },
            "type": "parcoords"
           }
          ],
          "pie": [
           {
            "automargin": true,
            "type": "pie"
           }
          ],
          "scatter": [
           {
            "fillpattern": {
             "fillmode": "overlay",
             "size": 10,
             "solidity": 0.2
            },
            "type": "scatter"
           }
          ],
          "scatter3d": [
           {
            "line": {
             "colorbar": {
              "outlinewidth": 0,
              "ticks": ""
             }
            },
            "marker": {
             "colorbar": {
              "outlinewidth": 0,
              "ticks": ""
             }
            },
            "type": "scatter3d"
           }
          ],
          "scattercarpet": [
           {
            "marker": {
             "colorbar": {
              "outlinewidth": 0,
              "ticks": ""
             }
            },
            "type": "scattercarpet"
           }
          ],
          "scattergeo": [
           {
            "marker": {
             "colorbar": {
              "outlinewidth": 0,
              "ticks": ""
             }
            },
            "type": "scattergeo"
           }
          ],
          "scattergl": [
           {
            "marker": {
             "colorbar": {
              "outlinewidth": 0,
              "ticks": ""
             }
            },
            "type": "scattergl"
           }
          ],
          "scattermap": [
           {
            "marker": {
             "colorbar": {
              "outlinewidth": 0,
              "ticks": ""
             }
            },
            "type": "scattermap"
           }
          ],
          "scattermapbox": [
           {
            "marker": {
             "colorbar": {
              "outlinewidth": 0,
              "ticks": ""
             }
            },
            "type": "scattermapbox"
           }
          ],
          "scatterpolar": [
           {
            "marker": {
             "colorbar": {
              "outlinewidth": 0,
              "ticks": ""
             }
            },
            "type": "scatterpolar"
           }
          ],
          "scatterpolargl": [
           {
            "marker": {
             "colorbar": {
              "outlinewidth": 0,
              "ticks": ""
             }
            },
            "type": "scatterpolargl"
           }
          ],
          "scatterternary": [
           {
            "marker": {
             "colorbar": {
              "outlinewidth": 0,
              "ticks": ""
             }
            },
            "type": "scatterternary"
           }
          ],
          "surface": [
           {
            "colorbar": {
             "outlinewidth": 0,
             "ticks": ""
            },
            "colorscale": [
             [
              0,
              "#0d0887"
             ],
             [
              0.1111111111111111,
              "#46039f"
             ],
             [
              0.2222222222222222,
              "#7201a8"
             ],
             [
              0.3333333333333333,
              "#9c179e"
             ],
             [
              0.4444444444444444,
              "#bd3786"
             ],
             [
              0.5555555555555556,
              "#d8576b"
             ],
             [
              0.6666666666666666,
              "#ed7953"
             ],
             [
              0.7777777777777778,
              "#fb9f3a"
             ],
             [
              0.8888888888888888,
              "#fdca26"
             ],
             [
              1,
              "#f0f921"
             ]
            ],
            "type": "surface"
           }
          ],
          "table": [
           {
            "cells": {
             "fill": {
              "color": "#EBF0F8"
             },
             "line": {
              "color": "white"
             }
            },
            "header": {
             "fill": {
              "color": "#C8D4E3"
             },
             "line": {
              "color": "white"
             }
            },
            "type": "table"
           }
          ]
         },
         "layout": {
          "annotationdefaults": {
           "arrowcolor": "#2a3f5f",
           "arrowhead": 0,
           "arrowwidth": 1
          },
          "autotypenumbers": "strict",
          "coloraxis": {
           "colorbar": {
            "outlinewidth": 0,
            "ticks": ""
           }
          },
          "colorscale": {
           "diverging": [
            [
             0,
             "#8e0152"
            ],
            [
             0.1,
             "#c51b7d"
            ],
            [
             0.2,
             "#de77ae"
            ],
            [
             0.3,
             "#f1b6da"
            ],
            [
             0.4,
             "#fde0ef"
            ],
            [
             0.5,
             "#f7f7f7"
            ],
            [
             0.6,
             "#e6f5d0"
            ],
            [
             0.7,
             "#b8e186"
            ],
            [
             0.8,
             "#7fbc41"
            ],
            [
             0.9,
             "#4d9221"
            ],
            [
             1,
             "#276419"
            ]
           ],
           "sequential": [
            [
             0,
             "#0d0887"
            ],
            [
             0.1111111111111111,
             "#46039f"
            ],
            [
             0.2222222222222222,
             "#7201a8"
            ],
            [
             0.3333333333333333,
             "#9c179e"
            ],
            [
             0.4444444444444444,
             "#bd3786"
            ],
            [
             0.5555555555555556,
             "#d8576b"
            ],
            [
             0.6666666666666666,
             "#ed7953"
            ],
            [
             0.7777777777777778,
             "#fb9f3a"
            ],
            [
             0.8888888888888888,
             "#fdca26"
            ],
            [
             1,
             "#f0f921"
            ]
           ],
           "sequentialminus": [
            [
             0,
             "#0d0887"
            ],
            [
             0.1111111111111111,
             "#46039f"
            ],
            [
             0.2222222222222222,
             "#7201a8"
            ],
            [
             0.3333333333333333,
             "#9c179e"
            ],
            [
             0.4444444444444444,
             "#bd3786"
            ],
            [
             0.5555555555555556,
             "#d8576b"
            ],
            [
             0.6666666666666666,
             "#ed7953"
            ],
            [
             0.7777777777777778,
             "#fb9f3a"
            ],
            [
             0.8888888888888888,
             "#fdca26"
            ],
            [
             1,
             "#f0f921"
            ]
           ]
          },
          "colorway": [
           "#636efa",
           "#EF553B",
           "#00cc96",
           "#ab63fa",
           "#FFA15A",
           "#19d3f3",
           "#FF6692",
           "#B6E880",
           "#FF97FF",
           "#FECB52"
          ],
          "font": {
           "color": "#2a3f5f"
          },
          "geo": {
           "bgcolor": "white",
           "lakecolor": "white",
           "landcolor": "#E5ECF6",
           "showlakes": true,
           "showland": true,
           "subunitcolor": "white"
          },
          "hoverlabel": {
           "align": "left"
          },
          "hovermode": "closest",
          "mapbox": {
           "style": "light"
          },
          "paper_bgcolor": "white",
          "plot_bgcolor": "#E5ECF6",
          "polar": {
           "angularaxis": {
            "gridcolor": "white",
            "linecolor": "white",
            "ticks": ""
           },
           "bgcolor": "#E5ECF6",
           "radialaxis": {
            "gridcolor": "white",
            "linecolor": "white",
            "ticks": ""
           }
          },
          "scene": {
           "xaxis": {
            "backgroundcolor": "#E5ECF6",
            "gridcolor": "white",
            "gridwidth": 2,
            "linecolor": "white",
            "showbackground": true,
            "ticks": "",
            "zerolinecolor": "white"
           },
           "yaxis": {
            "backgroundcolor": "#E5ECF6",
            "gridcolor": "white",
            "gridwidth": 2,
            "linecolor": "white",
            "showbackground": true,
            "ticks": "",
            "zerolinecolor": "white"
           },
           "zaxis": {
            "backgroundcolor": "#E5ECF6",
            "gridcolor": "white",
            "gridwidth": 2,
            "linecolor": "white",
            "showbackground": true,
            "ticks": "",
            "zerolinecolor": "white"
           }
          },
          "shapedefaults": {
           "line": {
            "color": "#2a3f5f"
           }
          },
          "ternary": {
           "aaxis": {
            "gridcolor": "white",
            "linecolor": "white",
            "ticks": ""
           },
           "baxis": {
            "gridcolor": "white",
            "linecolor": "white",
            "ticks": ""
           },
           "bgcolor": "#E5ECF6",
           "caxis": {
            "gridcolor": "white",
            "linecolor": "white",
            "ticks": ""
           }
          },
          "title": {
           "x": 0.05
          },
          "xaxis": {
           "automargin": true,
           "gridcolor": "white",
           "linecolor": "white",
           "ticks": "",
           "title": {
            "standoff": 15
           },
           "zerolinecolor": "white",
           "zerolinewidth": 2
          },
          "yaxis": {
           "automargin": true,
           "gridcolor": "white",
           "linecolor": "white",
           "ticks": "",
           "title": {
            "standoff": 15
           },
           "zerolinecolor": "white",
           "zerolinewidth": 2
          }
         }
        },
        "title": {
         "text": "Feature Correlation Matrix"
        },
        "width": 600,
        "xaxis": {
         "title": {
          "text": "Features"
         }
        },
        "yaxis": {
         "title": {
          "text": "Features"
         }
        }
       }
      }
     },
     "metadata": {},
     "output_type": "display_data"
    },
    {
     "name": "stdout",
     "output_type": "stream",
     "text": [
      "Feature correlation matrix with interactive hover details\n",
      "\n",
      "Advanced statistical visualisations completed!\n",
      "These include statistical testing, population genomics, and correlation analysis\n"
     ]
    }
   ],
   "source": [
    "# Create advanced statistical plots and population comparisons\n",
    "print(\"Creating Advanced Interactive Visualisations...\")\n",
    "\n",
    "# 1. Advanced Statistical Dashboard\n",
    "print(\"\\nAdvanced Statistical Analysis:\")\n",
    "stats_fig = visualiser.plot_advanced_statistical_plots(results)\n",
    "stats_fig.show()\n",
    "print(\"Includes QQ plots, violin plots, density plots, and statistical summaries\")\n",
    "\n",
    "# 2. Interactive Risk Heatmap\n",
    "print(\"\\nInteractive Risk Heatmap:\")\n",
    "heatmap_fig = visualiser.plot_interactive_risk_heatmap(results)\n",
    "heatmap_fig.show()\n",
    "print(\"Position vs genotype heatmap - hover for detailed risk scores\")\n",
    "\n",
    "# 3. Population Comparison (Demo with Synthetic Data)\n",
    "print(\"\\nPopulation Comparison Analysis:\")\n",
    "pop_fig = visualiser.plot_interactive_population_comparison(results)\n",
    "pop_fig.show()\n",
    "print(\"Demonstrates population-stratified risk analysis (uses synthetic population data)\")\n",
    "\n",
    "# 4. Correlation Analysis\n",
    "if len(results) > 1:\n",
    "    print(\"\\nInteractive Correlation Analysis:\")\n",
    "    corr_fig = visualiser.plot_correlation_analysis(results)\n",
    "    corr_fig.show()\n",
    "    print(\"Feature correlation matrix with interactive hover details\")\n",
    "\n",
    "print(\"\\nAdvanced statistical visualisations completed!\")\n",
    "print(\"These include statistical testing, population genomics, and correlation analysis\")"
   ]
  },
  {
   "cell_type": "markdown",
   "metadata": {},
   "source": [
    "### Advanced Interactive Features\n",
    "\n",
    "Let's explore the advanced statistical and population comparison capabilities."
   ]
  },
  {
   "cell_type": "code",
   "execution_count": 19,
   "metadata": {},
   "outputs": [
    {
     "name": "stdout",
     "output_type": "stream",
     "text": [
      "Creating Interactive Plotly Visualisations...\n",
      "\n",
      "Interactive Risk Gauge:\n"
     ]
    },
    {
     "data": {
      "application/vnd.plotly.v1+json": {
       "config": {
        "plotlyServerURL": "https://plot.ly"
       },
       "data": [
        {
         "delta": {
          "decreasing": {
           "color": "green"
          },
          "increasing": {
           "color": "red"
          },
          "reference": 50
         },
         "domain": {
          "x": [
           0,
           1
          ],
          "y": [
           0,
           1
          ]
         },
         "gauge": {
          "axis": {
           "range": [
            null,
            100
           ],
           "tickcolor": "darkblue",
           "tickwidth": 1
          },
          "bar": {
           "color": "#2ecc71"
          },
          "bgcolor": "white",
          "bordercolor": "gray",
          "borderwidth": 2,
          "steps": [
           {
            "color": "#d5f4e6",
            "range": [
             0,
             20
            ]
           },
           {
            "color": "#ffeaa7",
            "range": [
             20,
             40
            ]
           },
           {
            "color": "#fab1a0",
            "range": [
             40,
             70
            ]
           },
           {
            "color": "#e17055",
            "range": [
             70,
             100
            ]
           }
          ],
          "threshold": {
           "line": {
            "color": "red",
            "width": 4
           },
           "thickness": 0.75,
           "value": 70
          }
         },
         "mode": "gauge+number+delta",
         "title": {
          "text": "Risk Assessment: HbS - Sickle Cell Variant<br>Category: Minimal Risk"
         },
         "type": "indicator",
         "value": 6
        }
       ],
       "layout": {
        "font": {
         "color": "darkblue",
         "family": "Arial"
        },
        "height": 500,
        "paper_bgcolor": "white",
        "template": {
         "data": {
          "bar": [
           {
            "error_x": {
             "color": "#2a3f5f"
            },
            "error_y": {
             "color": "#2a3f5f"
            },
            "marker": {
             "line": {
              "color": "#E5ECF6",
              "width": 0.5
             },
             "pattern": {
              "fillmode": "overlay",
              "size": 10,
              "solidity": 0.2
             }
            },
            "type": "bar"
           }
          ],
          "barpolar": [
           {
            "marker": {
             "line": {
              "color": "#E5ECF6",
              "width": 0.5
             },
             "pattern": {
              "fillmode": "overlay",
              "size": 10,
              "solidity": 0.2
             }
            },
            "type": "barpolar"
           }
          ],
          "carpet": [
           {
            "aaxis": {
             "endlinecolor": "#2a3f5f",
             "gridcolor": "white",
             "linecolor": "white",
             "minorgridcolor": "white",
             "startlinecolor": "#2a3f5f"
            },
            "baxis": {
             "endlinecolor": "#2a3f5f",
             "gridcolor": "white",
             "linecolor": "white",
             "minorgridcolor": "white",
             "startlinecolor": "#2a3f5f"
            },
            "type": "carpet"
           }
          ],
          "choropleth": [
           {
            "colorbar": {
             "outlinewidth": 0,
             "ticks": ""
            },
            "type": "choropleth"
           }
          ],
          "contour": [
           {
            "colorbar": {
             "outlinewidth": 0,
             "ticks": ""
            },
            "colorscale": [
             [
              0,
              "#0d0887"
             ],
             [
              0.1111111111111111,
              "#46039f"
             ],
             [
              0.2222222222222222,
              "#7201a8"
             ],
             [
              0.3333333333333333,
              "#9c179e"
             ],
             [
              0.4444444444444444,
              "#bd3786"
             ],
             [
              0.5555555555555556,
              "#d8576b"
             ],
             [
              0.6666666666666666,
              "#ed7953"
             ],
             [
              0.7777777777777778,
              "#fb9f3a"
             ],
             [
              0.8888888888888888,
              "#fdca26"
             ],
             [
              1,
              "#f0f921"
             ]
            ],
            "type": "contour"
           }
          ],
          "contourcarpet": [
           {
            "colorbar": {
             "outlinewidth": 0,
             "ticks": ""
            },
            "type": "contourcarpet"
           }
          ],
          "heatmap": [
           {
            "colorbar": {
             "outlinewidth": 0,
             "ticks": ""
            },
            "colorscale": [
             [
              0,
              "#0d0887"
             ],
             [
              0.1111111111111111,
              "#46039f"
             ],
             [
              0.2222222222222222,
              "#7201a8"
             ],
             [
              0.3333333333333333,
              "#9c179e"
             ],
             [
              0.4444444444444444,
              "#bd3786"
             ],
             [
              0.5555555555555556,
              "#d8576b"
             ],
             [
              0.6666666666666666,
              "#ed7953"
             ],
             [
              0.7777777777777778,
              "#fb9f3a"
             ],
             [
              0.8888888888888888,
              "#fdca26"
             ],
             [
              1,
              "#f0f921"
             ]
            ],
            "type": "heatmap"
           }
          ],
          "histogram": [
           {
            "marker": {
             "pattern": {
              "fillmode": "overlay",
              "size": 10,
              "solidity": 0.2
             }
            },
            "type": "histogram"
           }
          ],
          "histogram2d": [
           {
            "colorbar": {
             "outlinewidth": 0,
             "ticks": ""
            },
            "colorscale": [
             [
              0,
              "#0d0887"
             ],
             [
              0.1111111111111111,
              "#46039f"
             ],
             [
              0.2222222222222222,
              "#7201a8"
             ],
             [
              0.3333333333333333,
              "#9c179e"
             ],
             [
              0.4444444444444444,
              "#bd3786"
             ],
             [
              0.5555555555555556,
              "#d8576b"
             ],
             [
              0.6666666666666666,
              "#ed7953"
             ],
             [
              0.7777777777777778,
              "#fb9f3a"
             ],
             [
              0.8888888888888888,
              "#fdca26"
             ],
             [
              1,
              "#f0f921"
             ]
            ],
            "type": "histogram2d"
           }
          ],
          "histogram2dcontour": [
           {
            "colorbar": {
             "outlinewidth": 0,
             "ticks": ""
            },
            "colorscale": [
             [
              0,
              "#0d0887"
             ],
             [
              0.1111111111111111,
              "#46039f"
             ],
             [
              0.2222222222222222,
              "#7201a8"
             ],
             [
              0.3333333333333333,
              "#9c179e"
             ],
             [
              0.4444444444444444,
              "#bd3786"
             ],
             [
              0.5555555555555556,
              "#d8576b"
             ],
             [
              0.6666666666666666,
              "#ed7953"
             ],
             [
              0.7777777777777778,
              "#fb9f3a"
             ],
             [
              0.8888888888888888,
              "#fdca26"
             ],
             [
              1,
              "#f0f921"
             ]
            ],
            "type": "histogram2dcontour"
           }
          ],
          "mesh3d": [
           {
            "colorbar": {
             "outlinewidth": 0,
             "ticks": ""
            },
            "type": "mesh3d"
           }
          ],
          "parcoords": [
           {
            "line": {
             "colorbar": {
              "outlinewidth": 0,
              "ticks": ""
             }
            },
            "type": "parcoords"
           }
          ],
          "pie": [
           {
            "automargin": true,
            "type": "pie"
           }
          ],
          "scatter": [
           {
            "fillpattern": {
             "fillmode": "overlay",
             "size": 10,
             "solidity": 0.2
            },
            "type": "scatter"
           }
          ],
          "scatter3d": [
           {
            "line": {
             "colorbar": {
              "outlinewidth": 0,
              "ticks": ""
             }
            },
            "marker": {
             "colorbar": {
              "outlinewidth": 0,
              "ticks": ""
             }
            },
            "type": "scatter3d"
           }
          ],
          "scattercarpet": [
           {
            "marker": {
             "colorbar": {
              "outlinewidth": 0,
              "ticks": ""
             }
            },
            "type": "scattercarpet"
           }
          ],
          "scattergeo": [
           {
            "marker": {
             "colorbar": {
              "outlinewidth": 0,
              "ticks": ""
             }
            },
            "type": "scattergeo"
           }
          ],
          "scattergl": [
           {
            "marker": {
             "colorbar": {
              "outlinewidth": 0,
              "ticks": ""
             }
            },
            "type": "scattergl"
           }
          ],
          "scattermap": [
           {
            "marker": {
             "colorbar": {
              "outlinewidth": 0,
              "ticks": ""
             }
            },
            "type": "scattermap"
           }
          ],
          "scattermapbox": [
           {
            "marker": {
             "colorbar": {
              "outlinewidth": 0,
              "ticks": ""
             }
            },
            "type": "scattermapbox"
           }
          ],
          "scatterpolar": [
           {
            "marker": {
             "colorbar": {
              "outlinewidth": 0,
              "ticks": ""
             }
            },
            "type": "scatterpolar"
           }
          ],
          "scatterpolargl": [
           {
            "marker": {
             "colorbar": {
              "outlinewidth": 0,
              "ticks": ""
             }
            },
            "type": "scatterpolargl"
           }
          ],
          "scatterternary": [
           {
            "marker": {
             "colorbar": {
              "outlinewidth": 0,
              "ticks": ""
             }
            },
            "type": "scatterternary"
           }
          ],
          "surface": [
           {
            "colorbar": {
             "outlinewidth": 0,
             "ticks": ""
            },
            "colorscale": [
             [
              0,
              "#0d0887"
             ],
             [
              0.1111111111111111,
              "#46039f"
             ],
             [
              0.2222222222222222,
              "#7201a8"
             ],
             [
              0.3333333333333333,
              "#9c179e"
             ],
             [
              0.4444444444444444,
              "#bd3786"
             ],
             [
              0.5555555555555556,
              "#d8576b"
             ],
             [
              0.6666666666666666,
              "#ed7953"
             ],
             [
              0.7777777777777778,
              "#fb9f3a"
             ],
             [
              0.8888888888888888,
              "#fdca26"
             ],
             [
              1,
              "#f0f921"
             ]
            ],
            "type": "surface"
           }
          ],
          "table": [
           {
            "cells": {
             "fill": {
              "color": "#EBF0F8"
             },
             "line": {
              "color": "white"
             }
            },
            "header": {
             "fill": {
              "color": "#C8D4E3"
             },
             "line": {
              "color": "white"
             }
            },
            "type": "table"
           }
          ]
         },
         "layout": {
          "annotationdefaults": {
           "arrowcolor": "#2a3f5f",
           "arrowhead": 0,
           "arrowwidth": 1
          },
          "autotypenumbers": "strict",
          "coloraxis": {
           "colorbar": {
            "outlinewidth": 0,
            "ticks": ""
           }
          },
          "colorscale": {
           "diverging": [
            [
             0,
             "#8e0152"
            ],
            [
             0.1,
             "#c51b7d"
            ],
            [
             0.2,
             "#de77ae"
            ],
            [
             0.3,
             "#f1b6da"
            ],
            [
             0.4,
             "#fde0ef"
            ],
            [
             0.5,
             "#f7f7f7"
            ],
            [
             0.6,
             "#e6f5d0"
            ],
            [
             0.7,
             "#b8e186"
            ],
            [
             0.8,
             "#7fbc41"
            ],
            [
             0.9,
             "#4d9221"
            ],
            [
             1,
             "#276419"
            ]
           ],
           "sequential": [
            [
             0,
             "#0d0887"
            ],
            [
             0.1111111111111111,
             "#46039f"
            ],
            [
             0.2222222222222222,
             "#7201a8"
            ],
            [
             0.3333333333333333,
             "#9c179e"
            ],
            [
             0.4444444444444444,
             "#bd3786"
            ],
            [
             0.5555555555555556,
             "#d8576b"
            ],
            [
             0.6666666666666666,
             "#ed7953"
            ],
            [
             0.7777777777777778,
             "#fb9f3a"
            ],
            [
             0.8888888888888888,
             "#fdca26"
            ],
            [
             1,
             "#f0f921"
            ]
           ],
           "sequentialminus": [
            [
             0,
             "#0d0887"
            ],
            [
             0.1111111111111111,
             "#46039f"
            ],
            [
             0.2222222222222222,
             "#7201a8"
            ],
            [
             0.3333333333333333,
             "#9c179e"
            ],
            [
             0.4444444444444444,
             "#bd3786"
            ],
            [
             0.5555555555555556,
             "#d8576b"
            ],
            [
             0.6666666666666666,
             "#ed7953"
            ],
            [
             0.7777777777777778,
             "#fb9f3a"
            ],
            [
             0.8888888888888888,
             "#fdca26"
            ],
            [
             1,
             "#f0f921"
            ]
           ]
          },
          "colorway": [
           "#636efa",
           "#EF553B",
           "#00cc96",
           "#ab63fa",
           "#FFA15A",
           "#19d3f3",
           "#FF6692",
           "#B6E880",
           "#FF97FF",
           "#FECB52"
          ],
          "font": {
           "color": "#2a3f5f"
          },
          "geo": {
           "bgcolor": "white",
           "lakecolor": "white",
           "landcolor": "#E5ECF6",
           "showlakes": true,
           "showland": true,
           "subunitcolor": "white"
          },
          "hoverlabel": {
           "align": "left"
          },
          "hovermode": "closest",
          "mapbox": {
           "style": "light"
          },
          "paper_bgcolor": "white",
          "plot_bgcolor": "#E5ECF6",
          "polar": {
           "angularaxis": {
            "gridcolor": "white",
            "linecolor": "white",
            "ticks": ""
           },
           "bgcolor": "#E5ECF6",
           "radialaxis": {
            "gridcolor": "white",
            "linecolor": "white",
            "ticks": ""
           }
          },
          "scene": {
           "xaxis": {
            "backgroundcolor": "#E5ECF6",
            "gridcolor": "white",
            "gridwidth": 2,
            "linecolor": "white",
            "showbackground": true,
            "ticks": "",
            "zerolinecolor": "white"
           },
           "yaxis": {
            "backgroundcolor": "#E5ECF6",
            "gridcolor": "white",
            "gridwidth": 2,
            "linecolor": "white",
            "showbackground": true,
            "ticks": "",
            "zerolinecolor": "white"
           },
           "zaxis": {
            "backgroundcolor": "#E5ECF6",
            "gridcolor": "white",
            "gridwidth": 2,
            "linecolor": "white",
            "showbackground": true,
            "ticks": "",
            "zerolinecolor": "white"
           }
          },
          "shapedefaults": {
           "line": {
            "color": "#2a3f5f"
           }
          },
          "ternary": {
           "aaxis": {
            "gridcolor": "white",
            "linecolor": "white",
            "ticks": ""
           },
           "baxis": {
            "gridcolor": "white",
            "linecolor": "white",
            "ticks": ""
           },
           "bgcolor": "#E5ECF6",
           "caxis": {
            "gridcolor": "white",
            "linecolor": "white",
            "ticks": ""
           }
          },
          "title": {
           "x": 0.05
          },
          "xaxis": {
           "automargin": true,
           "gridcolor": "white",
           "linecolor": "white",
           "ticks": "",
           "title": {
            "standoff": 15
           },
           "zerolinecolor": "white",
           "zerolinewidth": 2
          },
          "yaxis": {
           "automargin": true,
           "gridcolor": "white",
           "linecolor": "white",
           "ticks": "",
           "title": {
            "standoff": 15
           },
           "zerolinecolor": "white",
           "zerolinewidth": 2
          }
         }
        }
       }
      }
     },
     "metadata": {},
     "output_type": "display_data"
    },
    {
     "name": "stdout",
     "output_type": "stream",
     "text": [
      "Interactive gauge created for variant with risk score: 6.00\n",
      "\n",
      "Interactive Manhattan Plot:\n"
     ]
    },
    {
     "data": {
      "application/vnd.plotly.v1+json": {
       "config": {
        "plotlyServerURL": "https://plot.ly"
       },
       "data": [
        {
         "customdata": [
          2
         ],
         "hovertemplate": "<b>Chr %{customdata}</b><br>%{text}<extra></extra>",
         "marker": {
          "color": "rgb(141,211,199)",
          "line": {
           "color": "black",
           "width": 0.5
          },
          "opacity": 0.7,
          "size": 8
         },
         "mode": "markers",
         "name": "Chr 2",
         "showlegend": true,
         "text": [
          "Position: 60494113<br>Risk Score: 1.20<br>Classification: uncertain<br>Genotype: 1/1"
         ],
         "type": "scatter",
         "x": {
          "bdata": "IRGbAw==",
          "dtype": "i4"
         },
         "y": {
          "bdata": "B86rOw==",
          "dtype": "f4"
         }
        },
        {
         "customdata": [
          6
         ],
         "hovertemplate": "<b>Chr %{customdata}</b><br>%{text}<extra></extra>",
         "marker": {
          "color": "rgb(255,255,179)",
          "line": {
           "color": "black",
           "width": 0.5
          },
          "opacity": 0.7,
          "size": 8
         },
         "mode": "markers",
         "name": "Chr 6",
         "showlegend": true,
         "text": [
          "Position: 135460698<br>Risk Score: 0.60<br>Classification: uncertain<br>Genotype: 0/1"
         ],
         "type": "scatter",
         "x": {
          "bdata": "WvcSCA==",
          "dtype": "i4"
         },
         "y": {
          "bdata": "EEkrOw==",
          "dtype": "f4"
         }
        },
        {
         "customdata": [
          11,
          11,
          11,
          11,
          11,
          11,
          11,
          11,
          11,
          11,
          11,
          11,
          11,
          11,
          11,
          11,
          11,
          11,
          11,
          11,
          11,
          11,
          11,
          11,
          11,
          11,
          11,
          11,
          11,
          11,
          11,
          11,
          11,
          11,
          11,
          11,
          11,
          11,
          11,
          11,
          11,
          11,
          11,
          11,
          11,
          11,
          11,
          11,
          11,
          11,
          11,
          11,
          11,
          11,
          11,
          11,
          11,
          11,
          11,
          11,
          11,
          11,
          11,
          11,
          11,
          11,
          11,
          11,
          11,
          11,
          11,
          11,
          11,
          11,
          11,
          11,
          11,
          11,
          11,
          11,
          11,
          11,
          11,
          11,
          11,
          11,
          11,
          11,
          11,
          11,
          11,
          11,
          11,
          11,
          11,
          11,
          11
         ],
         "hovertemplate": "<b>Chr %{customdata}</b><br>%{text}<extra></extra>",
         "marker": {
          "color": "rgb(190,186,218)",
          "line": {
           "color": "black",
           "width": 0.5
          },
          "opacity": 0.7,
          "size": 8
         },
         "mode": "markers",
         "name": "Chr 11",
         "showlegend": true,
         "text": [
          "Position: 5227002<br>Risk Score: 6.00<br>Classification: pathogenic<br>Genotype: 1/1",
          "Position: 5226977<br>Risk Score: 0.60<br>Classification: uncertain<br>Genotype: 0/1",
          "Position: 5226847<br>Risk Score: 0.60<br>Classification: uncertain<br>Genotype: 0/1",
          "Position: 5227878<br>Risk Score: 0.60<br>Classification: uncertain<br>Genotype: 0/1",
          "Position: 5249570<br>Risk Score: 1.20<br>Classification: uncertain<br>Genotype: 1/1",
          "Position: 5237005<br>Risk Score: 1.20<br>Classification: uncertain<br>Genotype: 1/1",
          "Position: 5236702<br>Risk Score: 0.00<br>Classification: benign<br>Genotype: 0/0",
          "Position: 5238221<br>Risk Score: 0.60<br>Classification: uncertain<br>Genotype: 0/1",
          "Position: 5247618<br>Risk Score: 0.00<br>Classification: benign<br>Genotype: 0/0",
          "Position: 5239686<br>Risk Score: 1.20<br>Classification: uncertain<br>Genotype: 1/1",
          "Position: 5233378<br>Risk Score: 1.20<br>Classification: uncertain<br>Genotype: 1/1",
          "Position: 5243601<br>Risk Score: 0.00<br>Classification: benign<br>Genotype: 0/0",
          "Position: 5223062<br>Risk Score: 0.00<br>Classification: benign<br>Genotype: 0/0",
          "Position: 5226608<br>Risk Score: 1.20<br>Classification: uncertain<br>Genotype: 1/1",
          "Position: 5231779<br>Risk Score: 0.00<br>Classification: benign<br>Genotype: 0/0",
          "Position: 5237368<br>Risk Score: 1.20<br>Classification: uncertain<br>Genotype: 1/1",
          "Position: 5249011<br>Risk Score: 0.00<br>Classification: benign<br>Genotype: 0/0",
          "Position: 5234940<br>Risk Score: 0.00<br>Classification: benign<br>Genotype: 0/0",
          "Position: 5234785<br>Risk Score: 0.00<br>Classification: benign<br>Genotype: 0/0",
          "Position: 5228466<br>Risk Score: 1.20<br>Classification: uncertain<br>Genotype: 1/1",
          "Position: 5222306<br>Risk Score: 0.60<br>Classification: uncertain<br>Genotype: 0/1",
          "Position: 5232723<br>Risk Score: 1.20<br>Classification: uncertain<br>Genotype: 1/1",
          "Position: 5236942<br>Risk Score: 1.20<br>Classification: uncertain<br>Genotype: 1/1",
          "Position: 5236918<br>Risk Score: 0.00<br>Classification: benign<br>Genotype: 0/0",
          "Position: 5232261<br>Risk Score: 0.60<br>Classification: uncertain<br>Genotype: 0/1",
          "Position: 5220695<br>Risk Score: 1.20<br>Classification: uncertain<br>Genotype: 1/1",
          "Position: 5247068<br>Risk Score: 1.20<br>Classification: uncertain<br>Genotype: 1/1",
          "Position: 5242902<br>Risk Score: 0.60<br>Classification: uncertain<br>Genotype: 0/1",
          "Position: 5237157<br>Risk Score: 0.00<br>Classification: benign<br>Genotype: 0/0",
          "Position: 5237176<br>Risk Score: 0.60<br>Classification: uncertain<br>Genotype: 0/1",
          "Position: 5229314<br>Risk Score: 0.60<br>Classification: uncertain<br>Genotype: 0/1",
          "Position: 5231054<br>Risk Score: 1.20<br>Classification: uncertain<br>Genotype: 1/1",
          "Position: 5245174<br>Risk Score: 1.20<br>Classification: uncertain<br>Genotype: 1/1",
          "Position: 5223109<br>Risk Score: 1.20<br>Classification: uncertain<br>Genotype: 1/1",
          "Position: 5236980<br>Risk Score: 0.00<br>Classification: benign<br>Genotype: 0/0",
          "Position: 5222232<br>Risk Score: 0.60<br>Classification: uncertain<br>Genotype: 0/1",
          "Position: 5223512<br>Risk Score: 1.20<br>Classification: uncertain<br>Genotype: 1/1",
          "Position: 5248596<br>Risk Score: 1.20<br>Classification: uncertain<br>Genotype: 1/1",
          "Position: 5243584<br>Risk Score: 1.20<br>Classification: uncertain<br>Genotype: 1/1",
          "Position: 5238434<br>Risk Score: 1.20<br>Classification: uncertain<br>Genotype: 1/1",
          "Position: 5237392<br>Risk Score: 0.00<br>Classification: benign<br>Genotype: 0/0",
          "Position: 5237271<br>Risk Score: 1.20<br>Classification: uncertain<br>Genotype: 1/1",
          "Position: 5235433<br>Risk Score: 0.00<br>Classification: benign<br>Genotype: 0/0",
          "Position: 5220373<br>Risk Score: 1.20<br>Classification: uncertain<br>Genotype: 1/1",
          "Position: 5229731<br>Risk Score: 0.00<br>Classification: benign<br>Genotype: 0/0",
          "Position: 5248577<br>Risk Score: 0.60<br>Classification: uncertain<br>Genotype: 0/1",
          "Position: 5245995<br>Risk Score: 0.60<br>Classification: uncertain<br>Genotype: 0/1",
          "Position: 5227495<br>Risk Score: 0.00<br>Classification: benign<br>Genotype: 0/0",
          "Position: 5226602<br>Risk Score: 1.20<br>Classification: uncertain<br>Genotype: 1/1",
          "Position: 5230114<br>Risk Score: 0.60<br>Classification: uncertain<br>Genotype: 0/1",
          "Position: 5248944<br>Risk Score: 0.60<br>Classification: uncertain<br>Genotype: 0/1",
          "Position: 5245231<br>Risk Score: 0.60<br>Classification: uncertain<br>Genotype: 0/1",
          "Position: 5244473<br>Risk Score: 1.20<br>Classification: uncertain<br>Genotype: 1/1",
          "Position: 5234436<br>Risk Score: 0.00<br>Classification: benign<br>Genotype: 0/0",
          "Position: 5226756<br>Risk Score: 0.60<br>Classification: uncertain<br>Genotype: 0/1",
          "Position: 5233692<br>Risk Score: 1.20<br>Classification: uncertain<br>Genotype: 1/1",
          "Position: 5222375<br>Risk Score: 0.60<br>Classification: uncertain<br>Genotype: 0/1",
          "Position: 5241116<br>Risk Score: 0.60<br>Classification: uncertain<br>Genotype: 0/1",
          "Position: 5245440<br>Risk Score: 1.20<br>Classification: uncertain<br>Genotype: 1/1",
          "Position: 5221635<br>Risk Score: 1.20<br>Classification: uncertain<br>Genotype: 1/1",
          "Position: 5247039<br>Risk Score: 0.60<br>Classification: uncertain<br>Genotype: 0/1",
          "Position: 5236958<br>Risk Score: 0.60<br>Classification: uncertain<br>Genotype: 0/1",
          "Position: 5241071<br>Risk Score: 1.20<br>Classification: uncertain<br>Genotype: 1/1",
          "Position: 5227463<br>Risk Score: 0.60<br>Classification: uncertain<br>Genotype: 0/1",
          "Position: 5240913<br>Risk Score: 0.60<br>Classification: uncertain<br>Genotype: 0/1",
          "Position: 5233798<br>Risk Score: 1.20<br>Classification: uncertain<br>Genotype: 1/1",
          "Position: 5232647<br>Risk Score: 0.60<br>Classification: uncertain<br>Genotype: 0/1",
          "Position: 5223030<br>Risk Score: 1.20<br>Classification: uncertain<br>Genotype: 1/1",
          "Position: 5233360<br>Risk Score: 1.20<br>Classification: uncertain<br>Genotype: 1/1",
          "Position: 5229734<br>Risk Score: 0.60<br>Classification: uncertain<br>Genotype: 0/1",
          "Position: 5240771<br>Risk Score: 0.60<br>Classification: uncertain<br>Genotype: 0/1",
          "Position: 5221495<br>Risk Score: 0.60<br>Classification: uncertain<br>Genotype: 0/1",
          "Position: 5223214<br>Risk Score: 0.60<br>Classification: uncertain<br>Genotype: 0/1",
          "Position: 5237091<br>Risk Score: 1.20<br>Classification: uncertain<br>Genotype: 1/1",
          "Position: 5249107<br>Risk Score: 1.20<br>Classification: uncertain<br>Genotype: 1/1",
          "Position: 5225574<br>Risk Score: 0.00<br>Classification: benign<br>Genotype: 0/0",
          "Position: 5244985<br>Risk Score: 1.20<br>Classification: uncertain<br>Genotype: 1/1",
          "Position: 5232689<br>Risk Score: 0.60<br>Classification: uncertain<br>Genotype: 0/1",
          "Position: 5239024<br>Risk Score: 1.20<br>Classification: uncertain<br>Genotype: 1/1",
          "Position: 5241198<br>Risk Score: 0.00<br>Classification: benign<br>Genotype: 0/0",
          "Position: 5222132<br>Risk Score: 0.00<br>Classification: benign<br>Genotype: 0/0",
          "Position: 5221535<br>Risk Score: 0.00<br>Classification: benign<br>Genotype: 0/0",
          "Position: 5243109<br>Risk Score: 0.00<br>Classification: benign<br>Genotype: 0/0",
          "Position: 5222777<br>Risk Score: 0.00<br>Classification: benign<br>Genotype: 0/0",
          "Position: 5238426<br>Risk Score: 1.20<br>Classification: uncertain<br>Genotype: 1/1",
          "Position: 5226409<br>Risk Score: 1.20<br>Classification: uncertain<br>Genotype: 1/1",
          "Position: 5230667<br>Risk Score: 0.00<br>Classification: benign<br>Genotype: 0/0",
          "Position: 5249288<br>Risk Score: 1.20<br>Classification: uncertain<br>Genotype: 1/1",
          "Position: 5224295<br>Risk Score: 0.60<br>Classification: uncertain<br>Genotype: 0/1",
          "Position: 5249686<br>Risk Score: 1.20<br>Classification: uncertain<br>Genotype: 1/1",
          "Position: 5228228<br>Risk Score: 1.20<br>Classification: uncertain<br>Genotype: 1/1",
          "Position: 5244178<br>Risk Score: 1.20<br>Classification: uncertain<br>Genotype: 1/1",
          "Position: 5223052<br>Risk Score: 0.60<br>Classification: uncertain<br>Genotype: 0/1",
          "Position: 5224870<br>Risk Score: 1.20<br>Classification: uncertain<br>Genotype: 1/1",
          "Position: 5234212<br>Risk Score: 1.20<br>Classification: uncertain<br>Genotype: 1/1",
          "Position: 5242721<br>Risk Score: 0.00<br>Classification: benign<br>Genotype: 0/0",
          "Position: 5222330<br>Risk Score: 1.20<br>Classification: uncertain<br>Genotype: 1/1"
         ],
         "type": "scatter",
         "x": {
          "bdata": "+sFPAOHBTwBfwU8AZsVPACIaUAAN6U8A3udPAM3tTwCCElAAhvNPAOLaTwDRAlAAlrJPAHDATwCj1E8AeOpPAPMXUAD84E8AYeBPALLHTwCir08AU9hPAM7oTwC26E8AhdZPAFepTwBcEFAAFgBQAKXpTwC46U8AAstPAM7RTwD2CFAAxbJPAPToTwBYr08AWLRPAFQWUADAAlAAou5PAJDqTwAX6k8A6eJPABWoTwCjzE8AQRZQACsMUADnw08AasBPACLOTwCwF1AALwlQADkGUAAE308ABMFPABzcTwDnr08AHPlPAAAKUAADrU8APxBQAN7oTwDv+E8Ax8NPAFH4TwCG3E8AB9hPAHayTwDQ2k8ApsxPAMP3TwB3rE8ALrNPAGPpTwBTGFAAZrxPADkIUAAx2E8A8PBPAG75TwD0rk8An6xPAOUAUAB5sU8Amu5PAKm/TwBL0E8ACBlQAGe3TwCWGlAAxMZPABIFUACMsk8AprlPACTeTwBh/08Auq9PAA==",
          "dtype": "i4"
         },
         "y": {
          "bdata": "+iLcPBBJKzsQSSs7EEkrOwfOqzsHzqs7AAAAgBBJKzsAAACAB86rOwfOqzsAAACAAAAAgAfOqzsAAACAB86rOwAAAIAAAACAAAAAgAfOqzsQSSs7B86rOwfOqzsAAACAEEkrOwfOqzsHzqs7EEkrOwAAAIAQSSs7EEkrOwfOqzsHzqs7B86rOwAAAIAQSSs7B86rOwfOqzsHzqs7B86rOwAAAIAHzqs7AAAAgAfOqzsAAACAEEkrOxBJKzsAAACAB86rOxBJKzsQSSs7EEkrOwfOqzsAAACAEEkrOwfOqzsQSSs7EEkrOwfOqzsHzqs7EEkrOxBJKzsHzqs7EEkrOxBJKzsHzqs7EEkrOwfOqzsHzqs7EEkrOxBJKzsQSSs7EEkrOwfOqzsHzqs7AAAAgAfOqzsQSSs7B86rOwAAAIAAAACAAAAAgAAAAIAAAACAB86rOwfOqzsAAACAB86rOxBJKzsHzqs7B86rOwfOqzsQSSs7B86rOwfOqzsAAACAB86rOw==",
          "dtype": "f4"
         }
        },
        {
         "customdata": [
          16
         ],
         "hovertemplate": "<b>Chr %{customdata}</b><br>%{text}<extra></extra>",
         "marker": {
          "color": "rgb(251,128,114)",
          "line": {
           "color": "black",
           "width": 0.5
          },
          "opacity": 0.7,
          "size": 8
         },
         "mode": "markers",
         "name": "Chr 16",
         "showlegend": true,
         "text": [
          "Position: 172876<br>Risk Score: 0.60<br>Classification: uncertain<br>Genotype: 0/1"
         ],
         "type": "scatter",
         "x": {
          "bdata": "TKMCAA==",
          "dtype": "i4"
         },
         "y": {
          "bdata": "EEkrOw==",
          "dtype": "f4"
         }
        }
       ],
       "layout": {
        "annotations": [
         {
          "showarrow": false,
          "text": "Significance Threshold (p=0.05)",
          "x": 1,
          "xanchor": "right",
          "xref": "x domain",
          "y": 1.3010299956639813,
          "yanchor": "bottom",
          "yref": "y"
         }
        ],
        "height": 600,
        "hovermode": "closest",
        "legend": {
         "orientation": "h",
         "x": 1,
         "xanchor": "right",
         "y": 1.02,
         "yanchor": "bottom"
        },
        "shapes": [
         {
          "line": {
           "color": "red",
           "dash": "dash"
          },
          "type": "line",
          "x0": 0,
          "x1": 1,
          "xref": "x domain",
          "y0": 1.3010299956639813,
          "y1": 1.3010299956639813,
          "yref": "y"
         }
        ],
        "showlegend": true,
        "template": {
         "data": {
          "bar": [
           {
            "error_x": {
             "color": "#2a3f5f"
            },
            "error_y": {
             "color": "#2a3f5f"
            },
            "marker": {
             "line": {
              "color": "#E5ECF6",
              "width": 0.5
             },
             "pattern": {
              "fillmode": "overlay",
              "size": 10,
              "solidity": 0.2
             }
            },
            "type": "bar"
           }
          ],
          "barpolar": [
           {
            "marker": {
             "line": {
              "color": "#E5ECF6",
              "width": 0.5
             },
             "pattern": {
              "fillmode": "overlay",
              "size": 10,
              "solidity": 0.2
             }
            },
            "type": "barpolar"
           }
          ],
          "carpet": [
           {
            "aaxis": {
             "endlinecolor": "#2a3f5f",
             "gridcolor": "white",
             "linecolor": "white",
             "minorgridcolor": "white",
             "startlinecolor": "#2a3f5f"
            },
            "baxis": {
             "endlinecolor": "#2a3f5f",
             "gridcolor": "white",
             "linecolor": "white",
             "minorgridcolor": "white",
             "startlinecolor": "#2a3f5f"
            },
            "type": "carpet"
           }
          ],
          "choropleth": [
           {
            "colorbar": {
             "outlinewidth": 0,
             "ticks": ""
            },
            "type": "choropleth"
           }
          ],
          "contour": [
           {
            "colorbar": {
             "outlinewidth": 0,
             "ticks": ""
            },
            "colorscale": [
             [
              0,
              "#0d0887"
             ],
             [
              0.1111111111111111,
              "#46039f"
             ],
             [
              0.2222222222222222,
              "#7201a8"
             ],
             [
              0.3333333333333333,
              "#9c179e"
             ],
             [
              0.4444444444444444,
              "#bd3786"
             ],
             [
              0.5555555555555556,
              "#d8576b"
             ],
             [
              0.6666666666666666,
              "#ed7953"
             ],
             [
              0.7777777777777778,
              "#fb9f3a"
             ],
             [
              0.8888888888888888,
              "#fdca26"
             ],
             [
              1,
              "#f0f921"
             ]
            ],
            "type": "contour"
           }
          ],
          "contourcarpet": [
           {
            "colorbar": {
             "outlinewidth": 0,
             "ticks": ""
            },
            "type": "contourcarpet"
           }
          ],
          "heatmap": [
           {
            "colorbar": {
             "outlinewidth": 0,
             "ticks": ""
            },
            "colorscale": [
             [
              0,
              "#0d0887"
             ],
             [
              0.1111111111111111,
              "#46039f"
             ],
             [
              0.2222222222222222,
              "#7201a8"
             ],
             [
              0.3333333333333333,
              "#9c179e"
             ],
             [
              0.4444444444444444,
              "#bd3786"
             ],
             [
              0.5555555555555556,
              "#d8576b"
             ],
             [
              0.6666666666666666,
              "#ed7953"
             ],
             [
              0.7777777777777778,
              "#fb9f3a"
             ],
             [
              0.8888888888888888,
              "#fdca26"
             ],
             [
              1,
              "#f0f921"
             ]
            ],
            "type": "heatmap"
           }
          ],
          "histogram": [
           {
            "marker": {
             "pattern": {
              "fillmode": "overlay",
              "size": 10,
              "solidity": 0.2
             }
            },
            "type": "histogram"
           }
          ],
          "histogram2d": [
           {
            "colorbar": {
             "outlinewidth": 0,
             "ticks": ""
            },
            "colorscale": [
             [
              0,
              "#0d0887"
             ],
             [
              0.1111111111111111,
              "#46039f"
             ],
             [
              0.2222222222222222,
              "#7201a8"
             ],
             [
              0.3333333333333333,
              "#9c179e"
             ],
             [
              0.4444444444444444,
              "#bd3786"
             ],
             [
              0.5555555555555556,
              "#d8576b"
             ],
             [
              0.6666666666666666,
              "#ed7953"
             ],
             [
              0.7777777777777778,
              "#fb9f3a"
             ],
             [
              0.8888888888888888,
              "#fdca26"
             ],
             [
              1,
              "#f0f921"
             ]
            ],
            "type": "histogram2d"
           }
          ],
          "histogram2dcontour": [
           {
            "colorbar": {
             "outlinewidth": 0,
             "ticks": ""
            },
            "colorscale": [
             [
              0,
              "#0d0887"
             ],
             [
              0.1111111111111111,
              "#46039f"
             ],
             [
              0.2222222222222222,
              "#7201a8"
             ],
             [
              0.3333333333333333,
              "#9c179e"
             ],
             [
              0.4444444444444444,
              "#bd3786"
             ],
             [
              0.5555555555555556,
              "#d8576b"
             ],
             [
              0.6666666666666666,
              "#ed7953"
             ],
             [
              0.7777777777777778,
              "#fb9f3a"
             ],
             [
              0.8888888888888888,
              "#fdca26"
             ],
             [
              1,
              "#f0f921"
             ]
            ],
            "type": "histogram2dcontour"
           }
          ],
          "mesh3d": [
           {
            "colorbar": {
             "outlinewidth": 0,
             "ticks": ""
            },
            "type": "mesh3d"
           }
          ],
          "parcoords": [
           {
            "line": {
             "colorbar": {
              "outlinewidth": 0,
              "ticks": ""
             }
            },
            "type": "parcoords"
           }
          ],
          "pie": [
           {
            "automargin": true,
            "type": "pie"
           }
          ],
          "scatter": [
           {
            "fillpattern": {
             "fillmode": "overlay",
             "size": 10,
             "solidity": 0.2
            },
            "type": "scatter"
           }
          ],
          "scatter3d": [
           {
            "line": {
             "colorbar": {
              "outlinewidth": 0,
              "ticks": ""
             }
            },
            "marker": {
             "colorbar": {
              "outlinewidth": 0,
              "ticks": ""
             }
            },
            "type": "scatter3d"
           }
          ],
          "scattercarpet": [
           {
            "marker": {
             "colorbar": {
              "outlinewidth": 0,
              "ticks": ""
             }
            },
            "type": "scattercarpet"
           }
          ],
          "scattergeo": [
           {
            "marker": {
             "colorbar": {
              "outlinewidth": 0,
              "ticks": ""
             }
            },
            "type": "scattergeo"
           }
          ],
          "scattergl": [
           {
            "marker": {
             "colorbar": {
              "outlinewidth": 0,
              "ticks": ""
             }
            },
            "type": "scattergl"
           }
          ],
          "scattermap": [
           {
            "marker": {
             "colorbar": {
              "outlinewidth": 0,
              "ticks": ""
             }
            },
            "type": "scattermap"
           }
          ],
          "scattermapbox": [
           {
            "marker": {
             "colorbar": {
              "outlinewidth": 0,
              "ticks": ""
             }
            },
            "type": "scattermapbox"
           }
          ],
          "scatterpolar": [
           {
            "marker": {
             "colorbar": {
              "outlinewidth": 0,
              "ticks": ""
             }
            },
            "type": "scatterpolar"
           }
          ],
          "scatterpolargl": [
           {
            "marker": {
             "colorbar": {
              "outlinewidth": 0,
              "ticks": ""
             }
            },
            "type": "scatterpolargl"
           }
          ],
          "scatterternary": [
           {
            "marker": {
             "colorbar": {
              "outlinewidth": 0,
              "ticks": ""
             }
            },
            "type": "scatterternary"
           }
          ],
          "surface": [
           {
            "colorbar": {
             "outlinewidth": 0,
             "ticks": ""
            },
            "colorscale": [
             [
              0,
              "#0d0887"
             ],
             [
              0.1111111111111111,
              "#46039f"
             ],
             [
              0.2222222222222222,
              "#7201a8"
             ],
             [
              0.3333333333333333,
              "#9c179e"
             ],
             [
              0.4444444444444444,
              "#bd3786"
             ],
             [
              0.5555555555555556,
              "#d8576b"
             ],
             [
              0.6666666666666666,
              "#ed7953"
             ],
             [
              0.7777777777777778,
              "#fb9f3a"
             ],
             [
              0.8888888888888888,
              "#fdca26"
             ],
             [
              1,
              "#f0f921"
             ]
            ],
            "type": "surface"
           }
          ],
          "table": [
           {
            "cells": {
             "fill": {
              "color": "#EBF0F8"
             },
             "line": {
              "color": "white"
             }
            },
            "header": {
             "fill": {
              "color": "#C8D4E3"
             },
             "line": {
              "color": "white"
             }
            },
            "type": "table"
           }
          ]
         },
         "layout": {
          "annotationdefaults": {
           "arrowcolor": "#2a3f5f",
           "arrowhead": 0,
           "arrowwidth": 1
          },
          "autotypenumbers": "strict",
          "coloraxis": {
           "colorbar": {
            "outlinewidth": 0,
            "ticks": ""
           }
          },
          "colorscale": {
           "diverging": [
            [
             0,
             "#8e0152"
            ],
            [
             0.1,
             "#c51b7d"
            ],
            [
             0.2,
             "#de77ae"
            ],
            [
             0.3,
             "#f1b6da"
            ],
            [
             0.4,
             "#fde0ef"
            ],
            [
             0.5,
             "#f7f7f7"
            ],
            [
             0.6,
             "#e6f5d0"
            ],
            [
             0.7,
             "#b8e186"
            ],
            [
             0.8,
             "#7fbc41"
            ],
            [
             0.9,
             "#4d9221"
            ],
            [
             1,
             "#276419"
            ]
           ],
           "sequential": [
            [
             0,
             "#0d0887"
            ],
            [
             0.1111111111111111,
             "#46039f"
            ],
            [
             0.2222222222222222,
             "#7201a8"
            ],
            [
             0.3333333333333333,
             "#9c179e"
            ],
            [
             0.4444444444444444,
             "#bd3786"
            ],
            [
             0.5555555555555556,
             "#d8576b"
            ],
            [
             0.6666666666666666,
             "#ed7953"
            ],
            [
             0.7777777777777778,
             "#fb9f3a"
            ],
            [
             0.8888888888888888,
             "#fdca26"
            ],
            [
             1,
             "#f0f921"
            ]
           ],
           "sequentialminus": [
            [
             0,
             "#0d0887"
            ],
            [
             0.1111111111111111,
             "#46039f"
            ],
            [
             0.2222222222222222,
             "#7201a8"
            ],
            [
             0.3333333333333333,
             "#9c179e"
            ],
            [
             0.4444444444444444,
             "#bd3786"
            ],
            [
             0.5555555555555556,
             "#d8576b"
            ],
            [
             0.6666666666666666,
             "#ed7953"
            ],
            [
             0.7777777777777778,
             "#fb9f3a"
            ],
            [
             0.8888888888888888,
             "#fdca26"
            ],
            [
             1,
             "#f0f921"
            ]
           ]
          },
          "colorway": [
           "#636efa",
           "#EF553B",
           "#00cc96",
           "#ab63fa",
           "#FFA15A",
           "#19d3f3",
           "#FF6692",
           "#B6E880",
           "#FF97FF",
           "#FECB52"
          ],
          "font": {
           "color": "#2a3f5f"
          },
          "geo": {
           "bgcolor": "white",
           "lakecolor": "white",
           "landcolor": "#E5ECF6",
           "showlakes": true,
           "showland": true,
           "subunitcolor": "white"
          },
          "hoverlabel": {
           "align": "left"
          },
          "hovermode": "closest",
          "mapbox": {
           "style": "light"
          },
          "paper_bgcolor": "white",
          "plot_bgcolor": "#E5ECF6",
          "polar": {
           "angularaxis": {
            "gridcolor": "white",
            "linecolor": "white",
            "ticks": ""
           },
           "bgcolor": "#E5ECF6",
           "radialaxis": {
            "gridcolor": "white",
            "linecolor": "white",
            "ticks": ""
           }
          },
          "scene": {
           "xaxis": {
            "backgroundcolor": "#E5ECF6",
            "gridcolor": "white",
            "gridwidth": 2,
            "linecolor": "white",
            "showbackground": true,
            "ticks": "",
            "zerolinecolor": "white"
           },
           "yaxis": {
            "backgroundcolor": "#E5ECF6",
            "gridcolor": "white",
            "gridwidth": 2,
            "linecolor": "white",
            "showbackground": true,
            "ticks": "",
            "zerolinecolor": "white"
           },
           "zaxis": {
            "backgroundcolor": "#E5ECF6",
            "gridcolor": "white",
            "gridwidth": 2,
            "linecolor": "white",
            "showbackground": true,
            "ticks": "",
            "zerolinecolor": "white"
           }
          },
          "shapedefaults": {
           "line": {
            "color": "#2a3f5f"
           }
          },
          "ternary": {
           "aaxis": {
            "gridcolor": "white",
            "linecolor": "white",
            "ticks": ""
           },
           "baxis": {
            "gridcolor": "white",
            "linecolor": "white",
            "ticks": ""
           },
           "bgcolor": "#E5ECF6",
           "caxis": {
            "gridcolor": "white",
            "linecolor": "white",
            "ticks": ""
           }
          },
          "title": {
           "x": 0.05
          },
          "xaxis": {
           "automargin": true,
           "gridcolor": "white",
           "linecolor": "white",
           "ticks": "",
           "title": {
            "standoff": 15
           },
           "zerolinecolor": "white",
           "zerolinewidth": 2
          },
          "yaxis": {
           "automargin": true,
           "gridcolor": "white",
           "linecolor": "white",
           "ticks": "",
           "title": {
            "standoff": 15
           },
           "zerolinecolor": "white",
           "zerolinewidth": 2
          }
         }
        },
        "title": {
         "text": "Variant Manhattan Plot: Genomic Positions vs Risk Significance"
        },
        "xaxis": {
         "title": {
          "text": "Genomic Position"
         }
        },
        "yaxis": {
         "title": {
          "text": "-log10(1 - Risk Score Percentile)"
         }
        }
       }
      }
     },
     "metadata": {},
     "output_type": "display_data"
    },
    {
     "name": "stdout",
     "output_type": "stream",
     "text": [
      "Manhattan plot shows genomic positions vs risk significance - hover for details!\n",
      "\n",
      "Interactive Distribution Dashboard:\n"
     ]
    },
    {
     "data": {
      "application/vnd.plotly.v1+json": {
       "config": {
        "plotlyServerURL": "https://plot.ly"
       },
       "data": [
        {
         "hovertemplate": "Risk Score: %{x}<br>Count: %{y}<extra></extra>",
         "marker": {
          "color": "skyblue"
         },
         "name": "Risk Score",
         "nbinsx": 20,
         "opacity": 0.7,
         "type": "histogram",
         "x": {
          "bdata": "AADAQJqZGT+amRk/mpmZP5qZGT+amRk/mpkZP5qZmT+amZk/AAAAAJqZGT8AAAAAmpmZP5qZmT8AAAAAAAAAAJqZmT8AAAAAmpmZPwAAAAAAAAAAAAAAAJqZmT+amRk/mpmZP5qZmT8AAAAAmpkZP5qZmT+amZk/mpkZPwAAAACamRk/mpkZP5qZmT+amZk/mpmZPwAAAACamRk/mpmZP5qZmT+amZk/mpmZPwAAAACamZk/AAAAAJqZmT8AAAAAmpkZP5qZGT8AAAAAmpmZP5qZGT+amRk/mpkZP5qZmT8AAAAAmpkZP5qZmT+amRk/mpkZP5qZmT+amZk/mpkZP5qZGT+amZk/mpkZP5qZGT+amZk/mpkZP5qZmT+amZk/mpkZP5qZGT+amRk/mpkZP5qZmT+amZk/AAAAAJqZmT+amRk/mpmZPwAAAAAAAAAAAAAAAAAAAAAAAAAAmpmZP5qZmT8AAAAAmpmZP5qZGT+amZk/mpmZP5qZmT+amRk/mpmZP5qZmT8AAAAAmpmZPw==",
          "dtype": "f4"
         },
         "xaxis": "x",
         "yaxis": "y"
        },
        {
         "domain": {
          "x": [
           0.55,
           1
          ],
          "y": [
           0.625,
           1
          ]
         },
         "hovertemplate": "%{label}<br>Count: %{value}<br>Percentage: %{percent}<extra></extra>",
         "labels": [
          "uncertain",
          "benign",
          "pathogenic"
         ],
         "marker": {
          "colors": [
           "#95a5a6",
           "#2ecc71",
           "#e74c3c"
          ]
         },
         "name": "Classification",
         "type": "pie",
         "values": {
          "bdata": "SxgB",
          "dtype": "i1"
         }
        },
        {
         "hovertemplate": "%{x}<br>Count: %{y}<extra></extra>",
         "marker": {
          "color": [
           "#2ecc71"
          ]
         },
         "name": "Severity",
         "type": "bar",
         "x": [
          "minimal_risk"
         ],
         "xaxis": "x2",
         "y": {
          "bdata": "ZA==",
          "dtype": "i1"
         },
         "yaxis": "y2"
        },
        {
         "hovertemplate": "%{x}<br>Count: %{y}<extra></extra>",
         "marker": {
          "color": "lightgreen"
         },
         "name": "Genotype",
         "type": "bar",
         "x": [
          "1/1",
          "0/1",
          "0/0"
         ],
         "xaxis": "x3",
         "y": {
          "bdata": "LCAY",
          "dtype": "i1"
         },
         "yaxis": "y3"
        }
       ],
       "layout": {
        "annotations": [
         {
          "font": {
           "size": 16
          },
          "showarrow": false,
          "text": "Risk Score Distribution",
          "x": 0.225,
          "xanchor": "center",
          "xref": "paper",
          "y": 1,
          "yanchor": "bottom",
          "yref": "paper"
         },
         {
          "font": {
           "size": 16
          },
          "showarrow": false,
          "text": "Variant Classification",
          "x": 0.775,
          "xanchor": "center",
          "xref": "paper",
          "y": 1,
          "yanchor": "bottom",
          "yref": "paper"
         },
         {
          "font": {
           "size": 16
          },
          "showarrow": false,
          "text": "Severity Categories",
          "x": 0.225,
          "xanchor": "center",
          "xref": "paper",
          "y": 0.375,
          "yanchor": "bottom",
          "yref": "paper"
         },
         {
          "font": {
           "size": 16
          },
          "showarrow": false,
          "text": "Genotype Distribution",
          "x": 0.775,
          "xanchor": "center",
          "xref": "paper",
          "y": 0.375,
          "yanchor": "bottom",
          "yref": "paper"
         },
         {
          "showarrow": false,
          "text": "Mean: 0.77",
          "x": 0.7679998874664307,
          "xanchor": "left",
          "xref": "x",
          "y": 1,
          "yanchor": "top",
          "yref": "y domain"
         }
        ],
        "height": 800,
        "shapes": [
         {
          "line": {
           "color": "red",
           "dash": "dash"
          },
          "type": "line",
          "x0": 0.7679998874664307,
          "x1": 0.7679998874664307,
          "xref": "x",
          "y0": 0,
          "y1": 1,
          "yref": "y domain"
         }
        ],
        "showlegend": false,
        "template": {
         "data": {
          "bar": [
           {
            "error_x": {
             "color": "#2a3f5f"
            },
            "error_y": {
             "color": "#2a3f5f"
            },
            "marker": {
             "line": {
              "color": "#E5ECF6",
              "width": 0.5
             },
             "pattern": {
              "fillmode": "overlay",
              "size": 10,
              "solidity": 0.2
             }
            },
            "type": "bar"
           }
          ],
          "barpolar": [
           {
            "marker": {
             "line": {
              "color": "#E5ECF6",
              "width": 0.5
             },
             "pattern": {
              "fillmode": "overlay",
              "size": 10,
              "solidity": 0.2
             }
            },
            "type": "barpolar"
           }
          ],
          "carpet": [
           {
            "aaxis": {
             "endlinecolor": "#2a3f5f",
             "gridcolor": "white",
             "linecolor": "white",
             "minorgridcolor": "white",
             "startlinecolor": "#2a3f5f"
            },
            "baxis": {
             "endlinecolor": "#2a3f5f",
             "gridcolor": "white",
             "linecolor": "white",
             "minorgridcolor": "white",
             "startlinecolor": "#2a3f5f"
            },
            "type": "carpet"
           }
          ],
          "choropleth": [
           {
            "colorbar": {
             "outlinewidth": 0,
             "ticks": ""
            },
            "type": "choropleth"
           }
          ],
          "contour": [
           {
            "colorbar": {
             "outlinewidth": 0,
             "ticks": ""
            },
            "colorscale": [
             [
              0,
              "#0d0887"
             ],
             [
              0.1111111111111111,
              "#46039f"
             ],
             [
              0.2222222222222222,
              "#7201a8"
             ],
             [
              0.3333333333333333,
              "#9c179e"
             ],
             [
              0.4444444444444444,
              "#bd3786"
             ],
             [
              0.5555555555555556,
              "#d8576b"
             ],
             [
              0.6666666666666666,
              "#ed7953"
             ],
             [
              0.7777777777777778,
              "#fb9f3a"
             ],
             [
              0.8888888888888888,
              "#fdca26"
             ],
             [
              1,
              "#f0f921"
             ]
            ],
            "type": "contour"
           }
          ],
          "contourcarpet": [
           {
            "colorbar": {
             "outlinewidth": 0,
             "ticks": ""
            },
            "type": "contourcarpet"
           }
          ],
          "heatmap": [
           {
            "colorbar": {
             "outlinewidth": 0,
             "ticks": ""
            },
            "colorscale": [
             [
              0,
              "#0d0887"
             ],
             [
              0.1111111111111111,
              "#46039f"
             ],
             [
              0.2222222222222222,
              "#7201a8"
             ],
             [
              0.3333333333333333,
              "#9c179e"
             ],
             [
              0.4444444444444444,
              "#bd3786"
             ],
             [
              0.5555555555555556,
              "#d8576b"
             ],
             [
              0.6666666666666666,
              "#ed7953"
             ],
             [
              0.7777777777777778,
              "#fb9f3a"
             ],
             [
              0.8888888888888888,
              "#fdca26"
             ],
             [
              1,
              "#f0f921"
             ]
            ],
            "type": "heatmap"
           }
          ],
          "histogram": [
           {
            "marker": {
             "pattern": {
              "fillmode": "overlay",
              "size": 10,
              "solidity": 0.2
             }
            },
            "type": "histogram"
           }
          ],
          "histogram2d": [
           {
            "colorbar": {
             "outlinewidth": 0,
             "ticks": ""
            },
            "colorscale": [
             [
              0,
              "#0d0887"
             ],
             [
              0.1111111111111111,
              "#46039f"
             ],
             [
              0.2222222222222222,
              "#7201a8"
             ],
             [
              0.3333333333333333,
              "#9c179e"
             ],
             [
              0.4444444444444444,
              "#bd3786"
             ],
             [
              0.5555555555555556,
              "#d8576b"
             ],
             [
              0.6666666666666666,
              "#ed7953"
             ],
             [
              0.7777777777777778,
              "#fb9f3a"
             ],
             [
              0.8888888888888888,
              "#fdca26"
             ],
             [
              1,
              "#f0f921"
             ]
            ],
            "type": "histogram2d"
           }
          ],
          "histogram2dcontour": [
           {
            "colorbar": {
             "outlinewidth": 0,
             "ticks": ""
            },
            "colorscale": [
             [
              0,
              "#0d0887"
             ],
             [
              0.1111111111111111,
              "#46039f"
             ],
             [
              0.2222222222222222,
              "#7201a8"
             ],
             [
              0.3333333333333333,
              "#9c179e"
             ],
             [
              0.4444444444444444,
              "#bd3786"
             ],
             [
              0.5555555555555556,
              "#d8576b"
             ],
             [
              0.6666666666666666,
              "#ed7953"
             ],
             [
              0.7777777777777778,
              "#fb9f3a"
             ],
             [
              0.8888888888888888,
              "#fdca26"
             ],
             [
              1,
              "#f0f921"
             ]
            ],
            "type": "histogram2dcontour"
           }
          ],
          "mesh3d": [
           {
            "colorbar": {
             "outlinewidth": 0,
             "ticks": ""
            },
            "type": "mesh3d"
           }
          ],
          "parcoords": [
           {
            "line": {
             "colorbar": {
              "outlinewidth": 0,
              "ticks": ""
             }
            },
            "type": "parcoords"
           }
          ],
          "pie": [
           {
            "automargin": true,
            "type": "pie"
           }
          ],
          "scatter": [
           {
            "fillpattern": {
             "fillmode": "overlay",
             "size": 10,
             "solidity": 0.2
            },
            "type": "scatter"
           }
          ],
          "scatter3d": [
           {
            "line": {
             "colorbar": {
              "outlinewidth": 0,
              "ticks": ""
             }
            },
            "marker": {
             "colorbar": {
              "outlinewidth": 0,
              "ticks": ""
             }
            },
            "type": "scatter3d"
           }
          ],
          "scattercarpet": [
           {
            "marker": {
             "colorbar": {
              "outlinewidth": 0,
              "ticks": ""
             }
            },
            "type": "scattercarpet"
           }
          ],
          "scattergeo": [
           {
            "marker": {
             "colorbar": {
              "outlinewidth": 0,
              "ticks": ""
             }
            },
            "type": "scattergeo"
           }
          ],
          "scattergl": [
           {
            "marker": {
             "colorbar": {
              "outlinewidth": 0,
              "ticks": ""
             }
            },
            "type": "scattergl"
           }
          ],
          "scattermap": [
           {
            "marker": {
             "colorbar": {
              "outlinewidth": 0,
              "ticks": ""
             }
            },
            "type": "scattermap"
           }
          ],
          "scattermapbox": [
           {
            "marker": {
             "colorbar": {
              "outlinewidth": 0,
              "ticks": ""
             }
            },
            "type": "scattermapbox"
           }
          ],
          "scatterpolar": [
           {
            "marker": {
             "colorbar": {
              "outlinewidth": 0,
              "ticks": ""
             }
            },
            "type": "scatterpolar"
           }
          ],
          "scatterpolargl": [
           {
            "marker": {
             "colorbar": {
              "outlinewidth": 0,
              "ticks": ""
             }
            },
            "type": "scatterpolargl"
           }
          ],
          "scatterternary": [
           {
            "marker": {
             "colorbar": {
              "outlinewidth": 0,
              "ticks": ""
             }
            },
            "type": "scatterternary"
           }
          ],
          "surface": [
           {
            "colorbar": {
             "outlinewidth": 0,
             "ticks": ""
            },
            "colorscale": [
             [
              0,
              "#0d0887"
             ],
             [
              0.1111111111111111,
              "#46039f"
             ],
             [
              0.2222222222222222,
              "#7201a8"
             ],
             [
              0.3333333333333333,
              "#9c179e"
             ],
             [
              0.4444444444444444,
              "#bd3786"
             ],
             [
              0.5555555555555556,
              "#d8576b"
             ],
             [
              0.6666666666666666,
              "#ed7953"
             ],
             [
              0.7777777777777778,
              "#fb9f3a"
             ],
             [
              0.8888888888888888,
              "#fdca26"
             ],
             [
              1,
              "#f0f921"
             ]
            ],
            "type": "surface"
           }
          ],
          "table": [
           {
            "cells": {
             "fill": {
              "color": "#EBF0F8"
             },
             "line": {
              "color": "white"
             }
            },
            "header": {
             "fill": {
              "color": "#C8D4E3"
             },
             "line": {
              "color": "white"
             }
            },
            "type": "table"
           }
          ]
         },
         "layout": {
          "annotationdefaults": {
           "arrowcolor": "#2a3f5f",
           "arrowhead": 0,
           "arrowwidth": 1
          },
          "autotypenumbers": "strict",
          "coloraxis": {
           "colorbar": {
            "outlinewidth": 0,
            "ticks": ""
           }
          },
          "colorscale": {
           "diverging": [
            [
             0,
             "#8e0152"
            ],
            [
             0.1,
             "#c51b7d"
            ],
            [
             0.2,
             "#de77ae"
            ],
            [
             0.3,
             "#f1b6da"
            ],
            [
             0.4,
             "#fde0ef"
            ],
            [
             0.5,
             "#f7f7f7"
            ],
            [
             0.6,
             "#e6f5d0"
            ],
            [
             0.7,
             "#b8e186"
            ],
            [
             0.8,
             "#7fbc41"
            ],
            [
             0.9,
             "#4d9221"
            ],
            [
             1,
             "#276419"
            ]
           ],
           "sequential": [
            [
             0,
             "#0d0887"
            ],
            [
             0.1111111111111111,
             "#46039f"
            ],
            [
             0.2222222222222222,
             "#7201a8"
            ],
            [
             0.3333333333333333,
             "#9c179e"
            ],
            [
             0.4444444444444444,
             "#bd3786"
            ],
            [
             0.5555555555555556,
             "#d8576b"
            ],
            [
             0.6666666666666666,
             "#ed7953"
            ],
            [
             0.7777777777777778,
             "#fb9f3a"
            ],
            [
             0.8888888888888888,
             "#fdca26"
            ],
            [
             1,
             "#f0f921"
            ]
           ],
           "sequentialminus": [
            [
             0,
             "#0d0887"
            ],
            [
             0.1111111111111111,
             "#46039f"
            ],
            [
             0.2222222222222222,
             "#7201a8"
            ],
            [
             0.3333333333333333,
             "#9c179e"
            ],
            [
             0.4444444444444444,
             "#bd3786"
            ],
            [
             0.5555555555555556,
             "#d8576b"
            ],
            [
             0.6666666666666666,
             "#ed7953"
            ],
            [
             0.7777777777777778,
             "#fb9f3a"
            ],
            [
             0.8888888888888888,
             "#fdca26"
            ],
            [
             1,
             "#f0f921"
            ]
           ]
          },
          "colorway": [
           "#636efa",
           "#EF553B",
           "#00cc96",
           "#ab63fa",
           "#FFA15A",
           "#19d3f3",
           "#FF6692",
           "#B6E880",
           "#FF97FF",
           "#FECB52"
          ],
          "font": {
           "color": "#2a3f5f"
          },
          "geo": {
           "bgcolor": "white",
           "lakecolor": "white",
           "landcolor": "#E5ECF6",
           "showlakes": true,
           "showland": true,
           "subunitcolor": "white"
          },
          "hoverlabel": {
           "align": "left"
          },
          "hovermode": "closest",
          "mapbox": {
           "style": "light"
          },
          "paper_bgcolor": "white",
          "plot_bgcolor": "#E5ECF6",
          "polar": {
           "angularaxis": {
            "gridcolor": "white",
            "linecolor": "white",
            "ticks": ""
           },
           "bgcolor": "#E5ECF6",
           "radialaxis": {
            "gridcolor": "white",
            "linecolor": "white",
            "ticks": ""
           }
          },
          "scene": {
           "xaxis": {
            "backgroundcolor": "#E5ECF6",
            "gridcolor": "white",
            "gridwidth": 2,
            "linecolor": "white",
            "showbackground": true,
            "ticks": "",
            "zerolinecolor": "white"
           },
           "yaxis": {
            "backgroundcolor": "#E5ECF6",
            "gridcolor": "white",
            "gridwidth": 2,
            "linecolor": "white",
            "showbackground": true,
            "ticks": "",
            "zerolinecolor": "white"
           },
           "zaxis": {
            "backgroundcolor": "#E5ECF6",
            "gridcolor": "white",
            "gridwidth": 2,
            "linecolor": "white",
            "showbackground": true,
            "ticks": "",
            "zerolinecolor": "white"
           }
          },
          "shapedefaults": {
           "line": {
            "color": "#2a3f5f"
           }
          },
          "ternary": {
           "aaxis": {
            "gridcolor": "white",
            "linecolor": "white",
            "ticks": ""
           },
           "baxis": {
            "gridcolor": "white",
            "linecolor": "white",
            "ticks": ""
           },
           "bgcolor": "#E5ECF6",
           "caxis": {
            "gridcolor": "white",
            "linecolor": "white",
            "ticks": ""
           }
          },
          "title": {
           "x": 0.05
          },
          "xaxis": {
           "automargin": true,
           "gridcolor": "white",
           "linecolor": "white",
           "ticks": "",
           "title": {
            "standoff": 15
           },
           "zerolinecolor": "white",
           "zerolinewidth": 2
          },
          "yaxis": {
           "automargin": true,
           "gridcolor": "white",
           "linecolor": "white",
           "ticks": "",
           "title": {
            "standoff": 15
           },
           "zerolinecolor": "white",
           "zerolinewidth": 2
          }
         }
        },
        "title": {
         "text": "Comprehensive Variant Analysis Dashboard"
        },
        "xaxis": {
         "anchor": "y",
         "domain": [
          0,
          0.45
         ]
        },
        "xaxis2": {
         "anchor": "y2",
         "domain": [
          0,
          0.45
         ]
        },
        "xaxis3": {
         "anchor": "y3",
         "domain": [
          0.55,
          1
         ]
        },
        "yaxis": {
         "anchor": "x",
         "domain": [
          0.625,
          1
         ]
        },
        "yaxis2": {
         "anchor": "x2",
         "domain": [
          0,
          0.375
         ]
        },
        "yaxis3": {
         "anchor": "x3",
         "domain": [
          0,
          0.375
         ]
        }
       }
      }
     },
     "metadata": {},
     "output_type": "display_data"
    },
    {
     "name": "stdout",
     "output_type": "stream",
     "text": [
      "Multi-panel dashboard with risk scores, classifications, and distributions\n",
      "\n",
      "Interactive visualisations completed!\n",
      "These plots are fully interactive - hover, zoom, and explore the data!\n"
     ]
    }
   ],
   "source": [
    "# Demonstrate new interactive Plotly visualisations\n",
    "print(\"Creating Interactive Plotly Visualisations...\")\n",
    "\n",
    "# First, let's create an interactive risk gauge\n",
    "print(\"\\nInteractive Risk Gauge:\")\n",
    "if len(results) > 0:\n",
    "    # Get the variant with the highest risk score\n",
    "    max_risk_variant = results.loc[results['risk_score'].idxmax()]\n",
    "    \n",
    "    # Create interactive gauge\n",
    "    gauge_fig = visualiser.plot_interactive_risk_gauge(\n",
    "        risk_score=max_risk_variant['risk_score'],\n",
    "        variant_name=max_risk_variant.get('variant_name', 'Unknown Variant')\n",
    "    )\n",
    "    gauge_fig.show()\n",
    "    \n",
    "    print(f\"Interactive gauge created for variant with risk score: {max_risk_variant['risk_score']:.2f}\")\n",
    "else:\n",
    "    print(\"No data available for risk gauge\")\n",
    "\n",
    "print(\"\\nInteractive Manhattan Plot:\")\n",
    "# Create Manhattan plot showing variant positions and significance\n",
    "manhattan_fig = visualiser.plot_interactive_variant_manhattan(results)\n",
    "manhattan_fig.show()\n",
    "print(\"Manhattan plot shows genomic positions vs risk significance - hover for details!\")\n",
    "\n",
    "print(\"\\nInteractive Distribution Dashboard:\")\n",
    "# Comprehensive interactive dashboard\n",
    "dist_fig = visualiser.plot_interactive_risk_distribution(results)\n",
    "dist_fig.show()\n",
    "print(\"Multi-panel dashboard with risk scores, classifications, and distributions\")\n",
    "\n",
    "print(\"\\nInteractive visualisations completed!\")\n",
    "print(\"These plots are fully interactive - hover, zoom, and explore the data!\")"
   ]
  },
  {
   "cell_type": "markdown",
   "metadata": {},
   "source": [
    "## 7. Clinical Interpretation and Recommendations\n",
    "\n",
    "Now let's interpret the clinical significance of our findings and generate actionable recommendations."
   ]
  },
  {
   "cell_type": "code",
   "execution_count": 20,
   "metadata": {},
   "outputs": [
    {
     "name": "stdout",
     "output_type": "stream",
     "text": [
      "CLINICAL INTERPRETATION & RECOMMENDATIONS\n",
      "================================================\n",
      "HIGH PRIORITY CLINICAL FINDINGS:\n",
      "---------------------------------------------\n",
      "\n",
      "PATHOGENIC VARIANTS IDENTIFIED: 1\n",
      "\n",
      "Variant 1: HbS - Sickle Cell Variant\n",
      "Location: Chr 11:5227002\n",
      "Genotype: 1/1\n",
      "Risk Score: 6.00\n",
      "Clinical Impact: No sickle cell disease\n",
      "Recommended Action: No intervention needed\n",
      "\n",
      "MODERATE PRIORITY FINDINGS:\n",
      "-----------------------------------\n",
      "No moderate risk variants found\n",
      "\n",
      "POSITIVE FINDINGS:\n",
      "-------------------------\n",
      "No protective genetic factors identified\n"
     ]
    }
   ],
   "source": [
    "# Comprehensive clinical interpretation\n",
    "print(\"CLINICAL INTERPRETATION & RECOMMENDATIONS\")\n",
    "print(\"=\" * 48)\n",
    "\n",
    "# Analyse different risk categories\n",
    "if 'is_pathogenic' in results.columns and 'risk_score' in results.columns:\n",
    "    pathogenic_variants = results[results['is_pathogenic'] == True]\n",
    "    high_risk = results[results['risk_score'] > 70]\n",
    "    moderate_risk = results[(results['risk_score'] >= 40) & (results['risk_score'] <= 70)]\n",
    "    protective = results[results['risk_score'] < 0]\n",
    "    \n",
    "    print(\"HIGH PRIORITY CLINICAL FINDINGS:\")\n",
    "    print(\"-\" * 45)\n",
    "    \n",
    "    if len(pathogenic_variants) > 0:\n",
    "        print(f\"\\nPATHOGENIC VARIANTS IDENTIFIED: {len(pathogenic_variants)}\")\n",
    "        for idx, (_, variant) in enumerate(pathogenic_variants.iterrows(), 1):\n",
    "            print(f\"\\nVariant {idx}: {variant['variant_name']}\")\n",
    "            print(f\"Location: Chr {variant['chromosome']}:{variant['position']}\")\n",
    "            print(f\"Genotype: {variant['genotype']}\")\n",
    "            print(f\"Risk Score: {variant['risk_score']:.2f}\")\n",
    "            \n",
    "            if 'severity_description' in variant:\n",
    "                print(f\"Clinical Impact: {variant['severity_description']}\")\n",
    "            if 'clinical_management' in variant:\n",
    "                print(f\"Recommended Action: {variant['clinical_management']}\")\n",
    "            \n",
    "            # Risk level assessment\n",
    "            if variant['risk_score'] > 70:\n",
    "                print(f\"PRIORITY: HIGH - Immediate clinical attention recommended\")\n",
    "            elif variant['risk_score'] > 40:\n",
    "                print(f\"PRIORITY: MODERATE - Regular monitoring required\")\n",
    "    else:\n",
    "        print(\"No pathogenic variants identified\")\n",
    "        print(\"This indicates a favorable genetic risk profile\")\n",
    "    \n",
    "    if len(high_risk) > 0:\n",
    "        print(f\"\\nHIGH-RISK VARIANTS (Score >70): {len(high_risk)}\")\n",
    "        for _, variant in high_risk.iterrows():\n",
    "            if not variant.get('is_pathogenic', False):  # Don't repeat pathogenic variants\n",
    "                print(f\"{variant['variant_name']}: Score {variant['risk_score']:.2f}\")\n",
    "    \n",
    "    print(\"\\nMODERATE PRIORITY FINDINGS:\")\n",
    "    print(\"-\" * 35)\n",
    "    \n",
    "    if len(moderate_risk) > 0:\n",
    "        print(f\"\\nMODERATE RISK VARIANTS: {len(moderate_risk)}\")\n",
    "        print(\"Recommendations:\")\n",
    "        print(\"Annual genetic counselling\")\n",
    "        print(\"Family screening consideration\")\n",
    "        print(\"Lifestyle modifications for symptom management\")\n",
    "        \n",
    "        # Show top moderate risk variants\n",
    "        top_moderate = moderate_risk.nlargest(3, 'risk_score')\n",
    "        for _, variant in top_moderate.iterrows():\n",
    "            print(f\"{variant['variant_name']}: Score {variant['risk_score']:.2f}\")\n",
    "    else:\n",
    "        print(\"No moderate risk variants found\")\n",
    "    \n",
    "    print(\"\\nPOSITIVE FINDINGS:\")\n",
    "    print(\"-\" * 25)\n",
    "    \n",
    "    if len(protective) > 0:\n",
    "        print(f\"\\nPROTECTIVE VARIANTS IDENTIFIED: {len(protective)}\")\n",
    "        print(\"Benefits:\")\n",
    "        print(\"May reduce disease severity\")\n",
    "        print(\"Could improve treatment response\")\n",
    "        print(\"Positive prognostic indicator\")\n",
    "        \n",
    "        for _, variant in protective.iterrows():\n",
    "            print(f\"{variant['variant_name']}: Score {variant['risk_score']:.2f}\")\n",
    "    else:\n",
    "        print(\"No protective genetic factors identified\")\n",
    "        \n",
    "else:\n",
    "    print(\"Limited data available for comprehensive clinical interpretation\")"
   ]
  },
  {
   "cell_type": "code",
   "execution_count": 21,
   "metadata": {},
   "outputs": [
    {
     "name": "stdout",
     "output_type": "stream",
     "text": [
      "\n",
      "SPECIFIC CLINICAL RECOMMENDATIONS\n",
      "=============================================\n",
      "Management Plan Summary:\n",
      "1. No intervention needed\n",
      "Applies to 100 variant(s) (100.0% of total)\n",
      "\n",
      "SPECIALISED CARE RECOMMENDATIONS:\n",
      "\n",
      "LOW-RISK PATIENT PROFILE:\n",
      "\n",
      "Recommended Actions:\n",
      "1. Standard primary care follow-up\n",
      "2. Genetic counselling for family planning\n",
      "3. Awareness of carrier status if applicable\n",
      "4. General health maintenance\n",
      "\n",
      "FOLLOW-UP TIMELINE:\n",
      "Next clinical review: 12 months (annual)\n",
      "\n",
      "RESOURCES & CONTACTS:\n",
      "1. Sickle Cell Disease Association of America: sicklecelldisease.org\n",
      "2. National Heart, Lung, and Blood Institute SCD resources\n",
      "3. Local genetic counselling services\n",
      "4. Haematology specialist referral network\n",
      "\n",
      "=================================================================\n",
      "IMPORTANT: This analysis is for research/educational purposes.\n",
      "Always consult healthcare professionals for clinical decisions.\n",
      "=================================================================\n"
     ]
    }
   ],
   "source": [
    "# Generate specific clinical recommendations\n",
    "print(\"\\nSPECIFIC CLINICAL RECOMMENDATIONS\")\n",
    "print(\"=\" * 45)\n",
    "\n",
    "if 'clinical_management' in results.columns:\n",
    "    management_summary = results['clinical_management'].value_counts()\n",
    "    \n",
    "    print(\"Management Plan Summary:\")\n",
    "    for i, (management, count) in enumerate(management_summary.items(), 1):\n",
    "        percentage = (count / len(results)) * 100\n",
    "        print(f\"{i}. {management}\")\n",
    "        print(f\"Applies to {count} variant(s) ({percentage:.1f}% of total)\")\n",
    "\n",
    "print(\"\\nSPECIALISED CARE RECOMMENDATIONS:\")\n",
    "\n",
    "# Risk-based care recommendations\n",
    "if 'risk_score' in results.columns:\n",
    "    max_risk = results['risk_score'].max()\n",
    "    mean_risk = results['risk_score'].mean()\n",
    "    \n",
    "    if max_risk > 70:\n",
    "        print(\"\\nHIGH-RISK PATIENT PROFILE:\")\n",
    "        recommendations = [\n",
    "            \"Referral to haematology specialist\",\n",
    "            \"Comprehensive sickle cell disease evaluation\",\n",
    "            \"Consider gene therapy candidacy assessment\",\n",
    "            \"Hydroxyurea therapy evaluation\",\n",
    "            \"Regular pain management consultation\",\n",
    "            \"Family genetic counselling\"\n",
    "        ]\n",
    "    elif max_risk > 40:\n",
    "        print(\"\\nMODERATE-RISK PATIENT PROFILE:\")\n",
    "        recommendations = [\n",
    "            \"Annual haematology follow-up\",\n",
    "            \"Genetic counselling session\",\n",
    "            \"Preventive care education\",\n",
    "            \"Family screening consideration\",\n",
    "            \"Lifestyle modification guidance\"\n",
    "        ]\n",
    "    elif max_risk > 0:\n",
    "        print(\"\\nLOW-RISK PATIENT PROFILE:\")\n",
    "        recommendations = [\n",
    "            \"Standard primary care follow-up\",\n",
    "            \"Genetic counselling for family planning\",\n",
    "            \"Awareness of carrier status if applicable\",\n",
    "            \"General health maintenance\"\n",
    "        ]\n",
    "    else:\n",
    "        print(\"\\nPROTECTIVE GENETIC PROFILE:\")\n",
    "        recommendations = [\n",
    "            \"Favourable genetic profile noted\",\n",
    "            \"Standard care protocols\",\n",
    "            \"Consider participation in protective variant research\",\n",
    "            \"Family counselling regarding protective factors\"\n",
    "        ]\n",
    "    \n",
    "    print(\"\\nRecommended Actions:\")\n",
    "    for i, rec in enumerate(recommendations, 1):\n",
    "        print(f\"{i}. {rec}\")\n",
    "\n",
    "print(\"\\nFOLLOW-UP TIMELINE:\")\n",
    "if 'risk_score' in results.columns:\n",
    "    max_risk = results['risk_score'].max()\n",
    "    \n",
    "    if max_risk > 70:\n",
    "        timeline = \"1-3 months (urgent)\"\n",
    "    elif max_risk > 40:\n",
    "        timeline = \"3-6 months\"\n",
    "    else:\n",
    "        timeline = \"12 months (annual)\"\n",
    "    \n",
    "    print(f\"Next clinical review: {timeline}\")\n",
    "\n",
    "print(\"\\nRESOURCES & CONTACTS:\")\n",
    "resources = [\n",
    "    \"Sickle Cell Disease Association of America: sicklecelldisease.org\",\n",
    "    \"National Heart, Lung, and Blood Institute SCD resources\",\n",
    "    \"Local genetic counselling services\",\n",
    "    \"Haematology specialist referral network\"\n",
    "]\n",
    "\n",
    "for i, resource in enumerate(resources, 1):\n",
    "    print(f\"{i}. {resource}\")\n",
    "\n",
    "print(\"\\n\" + \"=\" * 65)\n",
    "print(\"IMPORTANT: This analysis is for research/educational purposes.\")\n",
    "print(\"Always consult healthcare professionals for clinical decisions.\")\n",
    "print(\"=\" * 65)"
   ]
  },
  {
   "cell_type": "markdown",
   "metadata": {},
   "source": [
    "### Detailed Variant-by-Variant Clinical Assessment"
   ]
  },
  {
   "cell_type": "code",
   "execution_count": 22,
   "metadata": {},
   "outputs": [
    {
     "name": "stdout",
     "output_type": "stream",
     "text": [
      "DETAILED VARIANT-BY-VARIANT CLINICAL ASSESSMENT\n",
      "=======================================================\n",
      "\n",
      "VARIANT 1 ASSESSMENT:\n",
      "-------------------------\n",
      "Genomic Location: Chr 11:5227002\n",
      "Genetic Change: T → A\n",
      "Genotype: 1/1\n",
      "Classification: Pathogenic\n",
      "Variant Name: HbS - Sickle Cell Variant\n",
      "Risk Score: 6.00\n",
      "Risk Level: MINIMAL\n",
      "Interpretation: Low genetic risk - minimal clinical concern\n",
      "Severity Category: Minimal Risk\n",
      "Clinical Description: No sickle cell disease\n",
      "Management Recommendation: No intervention needed\n",
      "CLINICAL ALERT: Pathogenic variant identified\n",
      "Genetic counseling strongly recommended\n",
      "Family screening may be indicated\n",
      "--------------------------------------------------\n",
      "\n",
      "VARIANT 2 ASSESSMENT:\n",
      "-------------------------\n",
      "Genomic Location: Chr 11:5226977\n",
      "Genetic Change: G → A\n",
      "Genotype: 0/1\n",
      "Classification: Uncertain\n",
      "Variant Name: novel_variant\n",
      "Risk Score: 0.60\n",
      "Risk Level: MINIMAL\n",
      "Interpretation: Low genetic risk - minimal clinical concern\n",
      "Severity Category: Minimal Risk\n",
      "Clinical Description: No sickle cell disease\n",
      "Management Recommendation: No intervention needed\n",
      "--------------------------------------------------\n",
      "\n",
      "VARIANT 3 ASSESSMENT:\n",
      "-------------------------\n",
      "Genomic Location: Chr 11:5226847\n",
      "Genetic Change: G → A\n",
      "Genotype: 0/1\n",
      "Classification: Uncertain\n",
      "Variant Name: novel_variant\n",
      "Risk Score: 0.60\n",
      "Risk Level: MINIMAL\n",
      "Interpretation: Low genetic risk - minimal clinical concern\n",
      "Severity Category: Minimal Risk\n",
      "Clinical Description: No sickle cell disease\n",
      "Management Recommendation: No intervention needed\n",
      "--------------------------------------------------\n",
      "\n",
      "VARIANT 4 ASSESSMENT:\n",
      "-------------------------\n",
      "Genomic Location: Chr 2:60494113\n",
      "Genetic Change: G → T\n",
      "Genotype: 1/1\n",
      "Classification: Uncertain\n",
      "Variant Name: novel_variant\n",
      "Risk Score: 1.20\n",
      "Risk Level: MINIMAL\n",
      "Interpretation: Low genetic risk - minimal clinical concern\n",
      "Severity Category: Minimal Risk\n",
      "Clinical Description: No sickle cell disease\n",
      "Management Recommendation: No intervention needed\n",
      "--------------------------------------------------\n",
      "\n",
      "VARIANT 5 ASSESSMENT:\n",
      "-------------------------\n",
      "Genomic Location: Chr 6:135460698\n",
      "Genetic Change: T → C\n",
      "Genotype: 0/1\n",
      "Classification: Uncertain\n",
      "Variant Name: novel_variant\n",
      "Risk Score: 0.60\n",
      "Risk Level: MINIMAL\n",
      "Interpretation: Low genetic risk - minimal clinical concern\n",
      "Severity Category: Minimal Risk\n",
      "Clinical Description: No sickle cell disease\n",
      "Management Recommendation: No intervention needed\n",
      "--------------------------------------------------\n",
      "\n",
      "VARIANT 6 ASSESSMENT:\n",
      "-------------------------\n",
      "Genomic Location: Chr 16:172876\n",
      "Genetic Change: ATG → A\n",
      "Genotype: 0/1\n",
      "Classification: Uncertain\n",
      "Variant Name: novel_variant\n",
      "Risk Score: 0.60\n",
      "Risk Level: MINIMAL\n",
      "Interpretation: Low genetic risk - minimal clinical concern\n",
      "Severity Category: Minimal Risk\n",
      "Clinical Description: No sickle cell disease\n",
      "Management Recommendation: No intervention needed\n",
      "--------------------------------------------------\n",
      "\n",
      "VARIANT 7 ASSESSMENT:\n",
      "-------------------------\n",
      "Genomic Location: Chr 11:5227878\n",
      "Genetic Change: T → C\n",
      "Genotype: 0/1\n",
      "Classification: Uncertain\n",
      "Variant Name: novel_variant\n",
      "Risk Score: 0.60\n",
      "Risk Level: MINIMAL\n",
      "Interpretation: Low genetic risk - minimal clinical concern\n",
      "Severity Category: Minimal Risk\n",
      "Clinical Description: No sickle cell disease\n",
      "Management Recommendation: No intervention needed\n",
      "--------------------------------------------------\n",
      "\n",
      "VARIANT 8 ASSESSMENT:\n",
      "-------------------------\n",
      "Genomic Location: Chr 11:5249570\n",
      "Genetic Change: C → A\n",
      "Genotype: 1/1\n",
      "Classification: Uncertain\n",
      "Variant Name: novel_variant\n",
      "Risk Score: 1.20\n",
      "Risk Level: MINIMAL\n",
      "Interpretation: Low genetic risk - minimal clinical concern\n",
      "Severity Category: Minimal Risk\n",
      "Clinical Description: No sickle cell disease\n",
      "Management Recommendation: No intervention needed\n",
      "--------------------------------------------------\n",
      "\n",
      "VARIANT 9 ASSESSMENT:\n",
      "-------------------------\n",
      "Genomic Location: Chr 11:5237005\n",
      "Genetic Change: C → G\n",
      "Genotype: 1/1\n",
      "Classification: Uncertain\n",
      "Variant Name: novel_variant\n",
      "Risk Score: 1.20\n",
      "Risk Level: MINIMAL\n",
      "Interpretation: Low genetic risk - minimal clinical concern\n",
      "Severity Category: Minimal Risk\n",
      "Clinical Description: No sickle cell disease\n",
      "Management Recommendation: No intervention needed\n",
      "--------------------------------------------------\n",
      "\n",
      "VARIANT 10 ASSESSMENT:\n",
      "-------------------------\n",
      "Genomic Location: Chr 11:5236702\n",
      "Genetic Change: G → T\n",
      "Genotype: 0/0\n",
      "Classification: Benign\n",
      "Variant Name: wild_type\n",
      "Risk Score: 0.00\n",
      "Risk Level: MINIMAL\n",
      "Interpretation: Low genetic risk - minimal clinical concern\n",
      "Severity Category: Minimal Risk\n",
      "Clinical Description: No sickle cell disease\n",
      "Management Recommendation: No intervention needed\n",
      "--------------------------------------------------\n",
      "\n",
      "VARIANT 11 ASSESSMENT:\n",
      "-------------------------\n",
      "Genomic Location: Chr 11:5238221\n",
      "Genetic Change: A → G\n",
      "Genotype: 0/1\n",
      "Classification: Uncertain\n",
      "Variant Name: novel_variant\n",
      "Risk Score: 0.60\n",
      "Risk Level: MINIMAL\n",
      "Interpretation: Low genetic risk - minimal clinical concern\n",
      "Severity Category: Minimal Risk\n",
      "Clinical Description: No sickle cell disease\n",
      "Management Recommendation: No intervention needed\n",
      "--------------------------------------------------\n",
      "\n",
      "VARIANT 12 ASSESSMENT:\n",
      "-------------------------\n",
      "Genomic Location: Chr 11:5247618\n",
      "Genetic Change: C → G\n",
      "Genotype: 0/0\n",
      "Classification: Benign\n",
      "Variant Name: wild_type\n",
      "Risk Score: 0.00\n",
      "Risk Level: MINIMAL\n",
      "Interpretation: Low genetic risk - minimal clinical concern\n",
      "Severity Category: Minimal Risk\n",
      "Clinical Description: No sickle cell disease\n",
      "Management Recommendation: No intervention needed\n",
      "--------------------------------------------------\n",
      "\n",
      "VARIANT 13 ASSESSMENT:\n",
      "-------------------------\n",
      "Genomic Location: Chr 11:5239686\n",
      "Genetic Change: T → A\n",
      "Genotype: 1/1\n",
      "Classification: Uncertain\n",
      "Variant Name: novel_variant\n",
      "Risk Score: 1.20\n",
      "Risk Level: MINIMAL\n",
      "Interpretation: Low genetic risk - minimal clinical concern\n",
      "Severity Category: Minimal Risk\n",
      "Clinical Description: No sickle cell disease\n",
      "Management Recommendation: No intervention needed\n",
      "--------------------------------------------------\n",
      "\n",
      "VARIANT 14 ASSESSMENT:\n",
      "-------------------------\n",
      "Genomic Location: Chr 11:5233378\n",
      "Genetic Change: C → T\n",
      "Genotype: 1/1\n",
      "Classification: Uncertain\n",
      "Variant Name: novel_variant\n",
      "Risk Score: 1.20\n",
      "Risk Level: MINIMAL\n",
      "Interpretation: Low genetic risk - minimal clinical concern\n",
      "Severity Category: Minimal Risk\n",
      "Clinical Description: No sickle cell disease\n",
      "Management Recommendation: No intervention needed\n",
      "--------------------------------------------------\n",
      "\n",
      "VARIANT 15 ASSESSMENT:\n",
      "-------------------------\n",
      "Genomic Location: Chr 11:5243601\n",
      "Genetic Change: C → A\n",
      "Genotype: 0/0\n",
      "Classification: Benign\n",
      "Variant Name: wild_type\n",
      "Risk Score: 0.00\n",
      "Risk Level: MINIMAL\n",
      "Interpretation: Low genetic risk - minimal clinical concern\n",
      "Severity Category: Minimal Risk\n",
      "Clinical Description: No sickle cell disease\n",
      "Management Recommendation: No intervention needed\n",
      "--------------------------------------------------\n",
      "\n",
      "VARIANT 16 ASSESSMENT:\n",
      "-------------------------\n",
      "Genomic Location: Chr 11:5223062\n",
      "Genetic Change: C → G\n",
      "Genotype: 0/0\n",
      "Classification: Benign\n",
      "Variant Name: wild_type\n",
      "Risk Score: 0.00\n",
      "Risk Level: MINIMAL\n",
      "Interpretation: Low genetic risk - minimal clinical concern\n",
      "Severity Category: Minimal Risk\n",
      "Clinical Description: No sickle cell disease\n",
      "Management Recommendation: No intervention needed\n",
      "--------------------------------------------------\n",
      "\n",
      "VARIANT 17 ASSESSMENT:\n",
      "-------------------------\n",
      "Genomic Location: Chr 11:5226608\n",
      "Genetic Change: G → A\n",
      "Genotype: 1/1\n",
      "Classification: Uncertain\n",
      "Variant Name: novel_variant\n",
      "Risk Score: 1.20\n",
      "Risk Level: MINIMAL\n",
      "Interpretation: Low genetic risk - minimal clinical concern\n",
      "Severity Category: Minimal Risk\n",
      "Clinical Description: No sickle cell disease\n",
      "Management Recommendation: No intervention needed\n",
      "--------------------------------------------------\n",
      "\n",
      "VARIANT 18 ASSESSMENT:\n",
      "-------------------------\n",
      "Genomic Location: Chr 11:5231779\n",
      "Genetic Change: T → C\n",
      "Genotype: 0/0\n",
      "Classification: Benign\n",
      "Variant Name: wild_type\n",
      "Risk Score: 0.00\n",
      "Risk Level: MINIMAL\n",
      "Interpretation: Low genetic risk - minimal clinical concern\n",
      "Severity Category: Minimal Risk\n",
      "Clinical Description: No sickle cell disease\n",
      "Management Recommendation: No intervention needed\n",
      "--------------------------------------------------\n",
      "\n",
      "VARIANT 19 ASSESSMENT:\n",
      "-------------------------\n",
      "Genomic Location: Chr 11:5237368\n",
      "Genetic Change: T → C\n",
      "Genotype: 1/1\n",
      "Classification: Uncertain\n",
      "Variant Name: novel_variant\n",
      "Risk Score: 1.20\n",
      "Risk Level: MINIMAL\n",
      "Interpretation: Low genetic risk - minimal clinical concern\n",
      "Severity Category: Minimal Risk\n",
      "Clinical Description: No sickle cell disease\n",
      "Management Recommendation: No intervention needed\n",
      "--------------------------------------------------\n",
      "\n",
      "VARIANT 20 ASSESSMENT:\n",
      "-------------------------\n",
      "Genomic Location: Chr 11:5249011\n",
      "Genetic Change: C → G\n",
      "Genotype: 0/0\n",
      "Classification: Benign\n",
      "Variant Name: wild_type\n",
      "Risk Score: 0.00\n",
      "Risk Level: MINIMAL\n",
      "Interpretation: Low genetic risk - minimal clinical concern\n",
      "Severity Category: Minimal Risk\n",
      "Clinical Description: No sickle cell disease\n",
      "Management Recommendation: No intervention needed\n",
      "--------------------------------------------------\n",
      "\n",
      "VARIANT 21 ASSESSMENT:\n",
      "-------------------------\n",
      "Genomic Location: Chr 11:5234940\n",
      "Genetic Change: G → T\n",
      "Genotype: 0/0\n",
      "Classification: Benign\n",
      "Variant Name: wild_type\n",
      "Risk Score: 0.00\n",
      "Risk Level: MINIMAL\n",
      "Interpretation: Low genetic risk - minimal clinical concern\n",
      "Severity Category: Minimal Risk\n",
      "Clinical Description: No sickle cell disease\n",
      "Management Recommendation: No intervention needed\n",
      "--------------------------------------------------\n",
      "\n",
      "VARIANT 22 ASSESSMENT:\n",
      "-------------------------\n",
      "Genomic Location: Chr 11:5234785\n",
      "Genetic Change: G → C\n",
      "Genotype: 0/0\n",
      "Classification: Benign\n",
      "Variant Name: wild_type\n",
      "Risk Score: 0.00\n",
      "Risk Level: MINIMAL\n",
      "Interpretation: Low genetic risk - minimal clinical concern\n",
      "Severity Category: Minimal Risk\n",
      "Clinical Description: No sickle cell disease\n",
      "Management Recommendation: No intervention needed\n",
      "--------------------------------------------------\n",
      "\n",
      "VARIANT 23 ASSESSMENT:\n",
      "-------------------------\n",
      "Genomic Location: Chr 11:5228466\n",
      "Genetic Change: T → G\n",
      "Genotype: 1/1\n",
      "Classification: Uncertain\n",
      "Variant Name: novel_variant\n",
      "Risk Score: 1.20\n",
      "Risk Level: MINIMAL\n",
      "Interpretation: Low genetic risk - minimal clinical concern\n",
      "Severity Category: Minimal Risk\n",
      "Clinical Description: No sickle cell disease\n",
      "Management Recommendation: No intervention needed\n",
      "--------------------------------------------------\n",
      "\n",
      "VARIANT 24 ASSESSMENT:\n",
      "-------------------------\n",
      "Genomic Location: Chr 11:5222306\n",
      "Genetic Change: T → G\n",
      "Genotype: 0/1\n",
      "Classification: Uncertain\n",
      "Variant Name: novel_variant\n",
      "Risk Score: 0.60\n",
      "Risk Level: MINIMAL\n",
      "Interpretation: Low genetic risk - minimal clinical concern\n",
      "Severity Category: Minimal Risk\n",
      "Clinical Description: No sickle cell disease\n",
      "Management Recommendation: No intervention needed\n",
      "--------------------------------------------------\n",
      "\n",
      "VARIANT 25 ASSESSMENT:\n",
      "-------------------------\n",
      "Genomic Location: Chr 11:5232723\n",
      "Genetic Change: G → A\n",
      "Genotype: 1/1\n",
      "Classification: Uncertain\n",
      "Variant Name: novel_variant\n",
      "Risk Score: 1.20\n",
      "Risk Level: MINIMAL\n",
      "Interpretation: Low genetic risk - minimal clinical concern\n",
      "Severity Category: Minimal Risk\n",
      "Clinical Description: No sickle cell disease\n",
      "Management Recommendation: No intervention needed\n",
      "--------------------------------------------------\n",
      "\n",
      "VARIANT 26 ASSESSMENT:\n",
      "-------------------------\n",
      "Genomic Location: Chr 11:5236942\n",
      "Genetic Change: A → T\n",
      "Genotype: 1/1\n",
      "Classification: Uncertain\n",
      "Variant Name: novel_variant\n",
      "Risk Score: 1.20\n",
      "Risk Level: MINIMAL\n",
      "Interpretation: Low genetic risk - minimal clinical concern\n",
      "Severity Category: Minimal Risk\n",
      "Clinical Description: No sickle cell disease\n",
      "Management Recommendation: No intervention needed\n",
      "--------------------------------------------------\n",
      "\n",
      "VARIANT 27 ASSESSMENT:\n",
      "-------------------------\n",
      "Genomic Location: Chr 11:5236918\n",
      "Genetic Change: T → A\n",
      "Genotype: 0/0\n",
      "Classification: Benign\n",
      "Variant Name: wild_type\n",
      "Risk Score: 0.00\n",
      "Risk Level: MINIMAL\n",
      "Interpretation: Low genetic risk - minimal clinical concern\n",
      "Severity Category: Minimal Risk\n",
      "Clinical Description: No sickle cell disease\n",
      "Management Recommendation: No intervention needed\n",
      "--------------------------------------------------\n",
      "\n",
      "VARIANT 28 ASSESSMENT:\n",
      "-------------------------\n",
      "Genomic Location: Chr 11:5232261\n",
      "Genetic Change: C → A\n",
      "Genotype: 0/1\n",
      "Classification: Uncertain\n",
      "Variant Name: novel_variant\n",
      "Risk Score: 0.60\n",
      "Risk Level: MINIMAL\n",
      "Interpretation: Low genetic risk - minimal clinical concern\n",
      "Severity Category: Minimal Risk\n",
      "Clinical Description: No sickle cell disease\n",
      "Management Recommendation: No intervention needed\n",
      "--------------------------------------------------\n",
      "\n",
      "VARIANT 29 ASSESSMENT:\n",
      "-------------------------\n",
      "Genomic Location: Chr 11:5220695\n",
      "Genetic Change: G → A\n",
      "Genotype: 1/1\n",
      "Classification: Uncertain\n",
      "Variant Name: novel_variant\n",
      "Risk Score: 1.20\n",
      "Risk Level: MINIMAL\n",
      "Interpretation: Low genetic risk - minimal clinical concern\n",
      "Severity Category: Minimal Risk\n",
      "Clinical Description: No sickle cell disease\n",
      "Management Recommendation: No intervention needed\n",
      "--------------------------------------------------\n",
      "\n",
      "VARIANT 30 ASSESSMENT:\n",
      "-------------------------\n",
      "Genomic Location: Chr 11:5247068\n",
      "Genetic Change: G → A\n",
      "Genotype: 1/1\n",
      "Classification: Uncertain\n",
      "Variant Name: novel_variant\n",
      "Risk Score: 1.20\n",
      "Risk Level: MINIMAL\n",
      "Interpretation: Low genetic risk - minimal clinical concern\n",
      "Severity Category: Minimal Risk\n",
      "Clinical Description: No sickle cell disease\n",
      "Management Recommendation: No intervention needed\n",
      "--------------------------------------------------\n",
      "\n",
      "VARIANT 31 ASSESSMENT:\n",
      "-------------------------\n",
      "Genomic Location: Chr 11:5242902\n",
      "Genetic Change: T → C\n",
      "Genotype: 0/1\n",
      "Classification: Uncertain\n",
      "Variant Name: novel_variant\n",
      "Risk Score: 0.60\n",
      "Risk Level: MINIMAL\n",
      "Interpretation: Low genetic risk - minimal clinical concern\n",
      "Severity Category: Minimal Risk\n",
      "Clinical Description: No sickle cell disease\n",
      "Management Recommendation: No intervention needed\n",
      "--------------------------------------------------\n",
      "\n",
      "VARIANT 32 ASSESSMENT:\n",
      "-------------------------\n",
      "Genomic Location: Chr 11:5237157\n",
      "Genetic Change: C → G\n",
      "Genotype: 0/0\n",
      "Classification: Benign\n",
      "Variant Name: wild_type\n",
      "Risk Score: 0.00\n",
      "Risk Level: MINIMAL\n",
      "Interpretation: Low genetic risk - minimal clinical concern\n",
      "Severity Category: Minimal Risk\n",
      "Clinical Description: No sickle cell disease\n",
      "Management Recommendation: No intervention needed\n",
      "--------------------------------------------------\n",
      "\n",
      "VARIANT 33 ASSESSMENT:\n",
      "-------------------------\n",
      "Genomic Location: Chr 11:5237176\n",
      "Genetic Change: C → T\n",
      "Genotype: 0/1\n",
      "Classification: Uncertain\n",
      "Variant Name: novel_variant\n",
      "Risk Score: 0.60\n",
      "Risk Level: MINIMAL\n",
      "Interpretation: Low genetic risk - minimal clinical concern\n",
      "Severity Category: Minimal Risk\n",
      "Clinical Description: No sickle cell disease\n",
      "Management Recommendation: No intervention needed\n",
      "--------------------------------------------------\n",
      "\n",
      "VARIANT 34 ASSESSMENT:\n",
      "-------------------------\n",
      "Genomic Location: Chr 11:5229314\n",
      "Genetic Change: T → C\n",
      "Genotype: 0/1\n",
      "Classification: Uncertain\n",
      "Variant Name: novel_variant\n",
      "Risk Score: 0.60\n",
      "Risk Level: MINIMAL\n",
      "Interpretation: Low genetic risk - minimal clinical concern\n",
      "Severity Category: Minimal Risk\n",
      "Clinical Description: No sickle cell disease\n",
      "Management Recommendation: No intervention needed\n",
      "--------------------------------------------------\n",
      "\n",
      "VARIANT 35 ASSESSMENT:\n",
      "-------------------------\n",
      "Genomic Location: Chr 11:5231054\n",
      "Genetic Change: T → C\n",
      "Genotype: 1/1\n",
      "Classification: Uncertain\n",
      "Variant Name: novel_variant\n",
      "Risk Score: 1.20\n",
      "Risk Level: MINIMAL\n",
      "Interpretation: Low genetic risk - minimal clinical concern\n",
      "Severity Category: Minimal Risk\n",
      "Clinical Description: No sickle cell disease\n",
      "Management Recommendation: No intervention needed\n",
      "--------------------------------------------------\n",
      "\n",
      "VARIANT 36 ASSESSMENT:\n",
      "-------------------------\n",
      "Genomic Location: Chr 11:5245174\n",
      "Genetic Change: T → A\n",
      "Genotype: 1/1\n",
      "Classification: Uncertain\n",
      "Variant Name: novel_variant\n",
      "Risk Score: 1.20\n",
      "Risk Level: MINIMAL\n",
      "Interpretation: Low genetic risk - minimal clinical concern\n",
      "Severity Category: Minimal Risk\n",
      "Clinical Description: No sickle cell disease\n",
      "Management Recommendation: No intervention needed\n",
      "--------------------------------------------------\n",
      "\n",
      "VARIANT 37 ASSESSMENT:\n",
      "-------------------------\n",
      "Genomic Location: Chr 11:5223109\n",
      "Genetic Change: C → G\n",
      "Genotype: 1/1\n",
      "Classification: Uncertain\n",
      "Variant Name: novel_variant\n",
      "Risk Score: 1.20\n",
      "Risk Level: MINIMAL\n",
      "Interpretation: Low genetic risk - minimal clinical concern\n",
      "Severity Category: Minimal Risk\n",
      "Clinical Description: No sickle cell disease\n",
      "Management Recommendation: No intervention needed\n",
      "--------------------------------------------------\n",
      "\n",
      "VARIANT 38 ASSESSMENT:\n",
      "-------------------------\n",
      "Genomic Location: Chr 11:5236980\n",
      "Genetic Change: A → G\n",
      "Genotype: 0/0\n",
      "Classification: Benign\n",
      "Variant Name: wild_type\n",
      "Risk Score: 0.00\n",
      "Risk Level: MINIMAL\n",
      "Interpretation: Low genetic risk - minimal clinical concern\n",
      "Severity Category: Minimal Risk\n",
      "Clinical Description: No sickle cell disease\n",
      "Management Recommendation: No intervention needed\n",
      "--------------------------------------------------\n",
      "\n",
      "VARIANT 39 ASSESSMENT:\n",
      "-------------------------\n",
      "Genomic Location: Chr 11:5222232\n",
      "Genetic Change: T → G\n",
      "Genotype: 0/1\n",
      "Classification: Uncertain\n",
      "Variant Name: novel_variant\n",
      "Risk Score: 0.60\n",
      "Risk Level: MINIMAL\n",
      "Interpretation: Low genetic risk - minimal clinical concern\n",
      "Severity Category: Minimal Risk\n",
      "Clinical Description: No sickle cell disease\n",
      "Management Recommendation: No intervention needed\n",
      "--------------------------------------------------\n",
      "\n",
      "VARIANT 40 ASSESSMENT:\n",
      "-------------------------\n",
      "Genomic Location: Chr 11:5223512\n",
      "Genetic Change: T → G\n",
      "Genotype: 1/1\n",
      "Classification: Uncertain\n",
      "Variant Name: novel_variant\n",
      "Risk Score: 1.20\n",
      "Risk Level: MINIMAL\n",
      "Interpretation: Low genetic risk - minimal clinical concern\n",
      "Severity Category: Minimal Risk\n",
      "Clinical Description: No sickle cell disease\n",
      "Management Recommendation: No intervention needed\n",
      "--------------------------------------------------\n",
      "\n",
      "VARIANT 41 ASSESSMENT:\n",
      "-------------------------\n",
      "Genomic Location: Chr 11:5248596\n",
      "Genetic Change: G → T\n",
      "Genotype: 1/1\n",
      "Classification: Uncertain\n",
      "Variant Name: novel_variant\n",
      "Risk Score: 1.20\n",
      "Risk Level: MINIMAL\n",
      "Interpretation: Low genetic risk - minimal clinical concern\n",
      "Severity Category: Minimal Risk\n",
      "Clinical Description: No sickle cell disease\n",
      "Management Recommendation: No intervention needed\n",
      "--------------------------------------------------\n",
      "\n",
      "VARIANT 42 ASSESSMENT:\n",
      "-------------------------\n",
      "Genomic Location: Chr 11:5243584\n",
      "Genetic Change: C → T\n",
      "Genotype: 1/1\n",
      "Classification: Uncertain\n",
      "Variant Name: novel_variant\n",
      "Risk Score: 1.20\n",
      "Risk Level: MINIMAL\n",
      "Interpretation: Low genetic risk - minimal clinical concern\n",
      "Severity Category: Minimal Risk\n",
      "Clinical Description: No sickle cell disease\n",
      "Management Recommendation: No intervention needed\n",
      "--------------------------------------------------\n",
      "\n",
      "VARIANT 43 ASSESSMENT:\n",
      "-------------------------\n",
      "Genomic Location: Chr 11:5238434\n",
      "Genetic Change: T → G\n",
      "Genotype: 1/1\n",
      "Classification: Uncertain\n",
      "Variant Name: novel_variant\n",
      "Risk Score: 1.20\n",
      "Risk Level: MINIMAL\n",
      "Interpretation: Low genetic risk - minimal clinical concern\n",
      "Severity Category: Minimal Risk\n",
      "Clinical Description: No sickle cell disease\n",
      "Management Recommendation: No intervention needed\n",
      "--------------------------------------------------\n",
      "\n",
      "VARIANT 44 ASSESSMENT:\n",
      "-------------------------\n",
      "Genomic Location: Chr 11:5237392\n",
      "Genetic Change: A → T\n",
      "Genotype: 0/0\n",
      "Classification: Benign\n",
      "Variant Name: wild_type\n",
      "Risk Score: 0.00\n",
      "Risk Level: MINIMAL\n",
      "Interpretation: Low genetic risk - minimal clinical concern\n",
      "Severity Category: Minimal Risk\n",
      "Clinical Description: No sickle cell disease\n",
      "Management Recommendation: No intervention needed\n",
      "--------------------------------------------------\n",
      "\n",
      "VARIANT 45 ASSESSMENT:\n",
      "-------------------------\n",
      "Genomic Location: Chr 11:5237271\n",
      "Genetic Change: A → C\n",
      "Genotype: 1/1\n",
      "Classification: Uncertain\n",
      "Variant Name: novel_variant\n",
      "Risk Score: 1.20\n",
      "Risk Level: MINIMAL\n",
      "Interpretation: Low genetic risk - minimal clinical concern\n",
      "Severity Category: Minimal Risk\n",
      "Clinical Description: No sickle cell disease\n",
      "Management Recommendation: No intervention needed\n",
      "--------------------------------------------------\n",
      "\n",
      "VARIANT 46 ASSESSMENT:\n",
      "-------------------------\n",
      "Genomic Location: Chr 11:5235433\n",
      "Genetic Change: T → C\n",
      "Genotype: 0/0\n",
      "Classification: Benign\n",
      "Variant Name: wild_type\n",
      "Risk Score: 0.00\n",
      "Risk Level: MINIMAL\n",
      "Interpretation: Low genetic risk - minimal clinical concern\n",
      "Severity Category: Minimal Risk\n",
      "Clinical Description: No sickle cell disease\n",
      "Management Recommendation: No intervention needed\n",
      "--------------------------------------------------\n",
      "\n",
      "VARIANT 47 ASSESSMENT:\n",
      "-------------------------\n",
      "Genomic Location: Chr 11:5220373\n",
      "Genetic Change: C → T\n",
      "Genotype: 1/1\n",
      "Classification: Uncertain\n",
      "Variant Name: novel_variant\n",
      "Risk Score: 1.20\n",
      "Risk Level: MINIMAL\n",
      "Interpretation: Low genetic risk - minimal clinical concern\n",
      "Severity Category: Minimal Risk\n",
      "Clinical Description: No sickle cell disease\n",
      "Management Recommendation: No intervention needed\n",
      "--------------------------------------------------\n",
      "\n",
      "VARIANT 48 ASSESSMENT:\n",
      "-------------------------\n",
      "Genomic Location: Chr 11:5229731\n",
      "Genetic Change: C → G\n",
      "Genotype: 0/0\n",
      "Classification: Benign\n",
      "Variant Name: wild_type\n",
      "Risk Score: 0.00\n",
      "Risk Level: MINIMAL\n",
      "Interpretation: Low genetic risk - minimal clinical concern\n",
      "Severity Category: Minimal Risk\n",
      "Clinical Description: No sickle cell disease\n",
      "Management Recommendation: No intervention needed\n",
      "--------------------------------------------------\n",
      "\n",
      "VARIANT 49 ASSESSMENT:\n",
      "-------------------------\n",
      "Genomic Location: Chr 11:5248577\n",
      "Genetic Change: T → A\n",
      "Genotype: 0/1\n",
      "Classification: Uncertain\n",
      "Variant Name: novel_variant\n",
      "Risk Score: 0.60\n",
      "Risk Level: MINIMAL\n",
      "Interpretation: Low genetic risk - minimal clinical concern\n",
      "Severity Category: Minimal Risk\n",
      "Clinical Description: No sickle cell disease\n",
      "Management Recommendation: No intervention needed\n",
      "--------------------------------------------------\n",
      "\n",
      "VARIANT 50 ASSESSMENT:\n",
      "-------------------------\n",
      "Genomic Location: Chr 11:5245995\n",
      "Genetic Change: C → T\n",
      "Genotype: 0/1\n",
      "Classification: Uncertain\n",
      "Variant Name: novel_variant\n",
      "Risk Score: 0.60\n",
      "Risk Level: MINIMAL\n",
      "Interpretation: Low genetic risk - minimal clinical concern\n",
      "Severity Category: Minimal Risk\n",
      "Clinical Description: No sickle cell disease\n",
      "Management Recommendation: No intervention needed\n",
      "--------------------------------------------------\n",
      "\n",
      "VARIANT 51 ASSESSMENT:\n",
      "-------------------------\n",
      "Genomic Location: Chr 11:5227495\n",
      "Genetic Change: G → C\n",
      "Genotype: 0/0\n",
      "Classification: Benign\n",
      "Variant Name: wild_type\n",
      "Risk Score: 0.00\n",
      "Risk Level: MINIMAL\n",
      "Interpretation: Low genetic risk - minimal clinical concern\n",
      "Severity Category: Minimal Risk\n",
      "Clinical Description: No sickle cell disease\n",
      "Management Recommendation: No intervention needed\n",
      "--------------------------------------------------\n",
      "\n",
      "VARIANT 52 ASSESSMENT:\n",
      "-------------------------\n",
      "Genomic Location: Chr 11:5226602\n",
      "Genetic Change: T → C\n",
      "Genotype: 1/1\n",
      "Classification: Uncertain\n",
      "Variant Name: novel_variant\n",
      "Risk Score: 1.20\n",
      "Risk Level: MINIMAL\n",
      "Interpretation: Low genetic risk - minimal clinical concern\n",
      "Severity Category: Minimal Risk\n",
      "Clinical Description: No sickle cell disease\n",
      "Management Recommendation: No intervention needed\n",
      "--------------------------------------------------\n",
      "\n",
      "VARIANT 53 ASSESSMENT:\n",
      "-------------------------\n",
      "Genomic Location: Chr 11:5230114\n",
      "Genetic Change: G → T\n",
      "Genotype: 0/1\n",
      "Classification: Uncertain\n",
      "Variant Name: novel_variant\n",
      "Risk Score: 0.60\n",
      "Risk Level: MINIMAL\n",
      "Interpretation: Low genetic risk - minimal clinical concern\n",
      "Severity Category: Minimal Risk\n",
      "Clinical Description: No sickle cell disease\n",
      "Management Recommendation: No intervention needed\n",
      "--------------------------------------------------\n",
      "\n",
      "VARIANT 54 ASSESSMENT:\n",
      "-------------------------\n",
      "Genomic Location: Chr 11:5248944\n",
      "Genetic Change: T → G\n",
      "Genotype: 0/1\n",
      "Classification: Uncertain\n",
      "Variant Name: novel_variant\n",
      "Risk Score: 0.60\n",
      "Risk Level: MINIMAL\n",
      "Interpretation: Low genetic risk - minimal clinical concern\n",
      "Severity Category: Minimal Risk\n",
      "Clinical Description: No sickle cell disease\n",
      "Management Recommendation: No intervention needed\n",
      "--------------------------------------------------\n",
      "\n",
      "VARIANT 55 ASSESSMENT:\n",
      "-------------------------\n",
      "Genomic Location: Chr 11:5245231\n",
      "Genetic Change: T → A\n",
      "Genotype: 0/1\n",
      "Classification: Uncertain\n",
      "Variant Name: novel_variant\n",
      "Risk Score: 0.60\n",
      "Risk Level: MINIMAL\n",
      "Interpretation: Low genetic risk - minimal clinical concern\n",
      "Severity Category: Minimal Risk\n",
      "Clinical Description: No sickle cell disease\n",
      "Management Recommendation: No intervention needed\n",
      "--------------------------------------------------\n",
      "\n",
      "VARIANT 56 ASSESSMENT:\n",
      "-------------------------\n",
      "Genomic Location: Chr 11:5244473\n",
      "Genetic Change: C → A\n",
      "Genotype: 1/1\n",
      "Classification: Uncertain\n",
      "Variant Name: novel_variant\n",
      "Risk Score: 1.20\n",
      "Risk Level: MINIMAL\n",
      "Interpretation: Low genetic risk - minimal clinical concern\n",
      "Severity Category: Minimal Risk\n",
      "Clinical Description: No sickle cell disease\n",
      "Management Recommendation: No intervention needed\n",
      "--------------------------------------------------\n",
      "\n",
      "VARIANT 57 ASSESSMENT:\n",
      "-------------------------\n",
      "Genomic Location: Chr 11:5234436\n",
      "Genetic Change: C → T\n",
      "Genotype: 0/0\n",
      "Classification: Benign\n",
      "Variant Name: wild_type\n",
      "Risk Score: 0.00\n",
      "Risk Level: MINIMAL\n",
      "Interpretation: Low genetic risk - minimal clinical concern\n",
      "Severity Category: Minimal Risk\n",
      "Clinical Description: No sickle cell disease\n",
      "Management Recommendation: No intervention needed\n",
      "--------------------------------------------------\n",
      "\n",
      "VARIANT 58 ASSESSMENT:\n",
      "-------------------------\n",
      "Genomic Location: Chr 11:5226756\n",
      "Genetic Change: C → T\n",
      "Genotype: 0/1\n",
      "Classification: Uncertain\n",
      "Variant Name: novel_variant\n",
      "Risk Score: 0.60\n",
      "Risk Level: MINIMAL\n",
      "Interpretation: Low genetic risk - minimal clinical concern\n",
      "Severity Category: Minimal Risk\n",
      "Clinical Description: No sickle cell disease\n",
      "Management Recommendation: No intervention needed\n",
      "--------------------------------------------------\n",
      "\n",
      "VARIANT 59 ASSESSMENT:\n",
      "-------------------------\n",
      "Genomic Location: Chr 11:5233692\n",
      "Genetic Change: A → T\n",
      "Genotype: 1/1\n",
      "Classification: Uncertain\n",
      "Variant Name: novel_variant\n",
      "Risk Score: 1.20\n",
      "Risk Level: MINIMAL\n",
      "Interpretation: Low genetic risk - minimal clinical concern\n",
      "Severity Category: Minimal Risk\n",
      "Clinical Description: No sickle cell disease\n",
      "Management Recommendation: No intervention needed\n",
      "--------------------------------------------------\n",
      "\n",
      "VARIANT 60 ASSESSMENT:\n",
      "-------------------------\n",
      "Genomic Location: Chr 11:5222375\n",
      "Genetic Change: C → T\n",
      "Genotype: 0/1\n",
      "Classification: Uncertain\n",
      "Variant Name: novel_variant\n",
      "Risk Score: 0.60\n",
      "Risk Level: MINIMAL\n",
      "Interpretation: Low genetic risk - minimal clinical concern\n",
      "Severity Category: Minimal Risk\n",
      "Clinical Description: No sickle cell disease\n",
      "Management Recommendation: No intervention needed\n",
      "--------------------------------------------------\n",
      "\n",
      "VARIANT 61 ASSESSMENT:\n",
      "-------------------------\n",
      "Genomic Location: Chr 11:5241116\n",
      "Genetic Change: A → T\n",
      "Genotype: 0/1\n",
      "Classification: Uncertain\n",
      "Variant Name: novel_variant\n",
      "Risk Score: 0.60\n",
      "Risk Level: MINIMAL\n",
      "Interpretation: Low genetic risk - minimal clinical concern\n",
      "Severity Category: Minimal Risk\n",
      "Clinical Description: No sickle cell disease\n",
      "Management Recommendation: No intervention needed\n",
      "--------------------------------------------------\n",
      "\n",
      "VARIANT 62 ASSESSMENT:\n",
      "-------------------------\n",
      "Genomic Location: Chr 11:5245440\n",
      "Genetic Change: C → G\n",
      "Genotype: 1/1\n",
      "Classification: Uncertain\n",
      "Variant Name: novel_variant\n",
      "Risk Score: 1.20\n",
      "Risk Level: MINIMAL\n",
      "Interpretation: Low genetic risk - minimal clinical concern\n",
      "Severity Category: Minimal Risk\n",
      "Clinical Description: No sickle cell disease\n",
      "Management Recommendation: No intervention needed\n",
      "--------------------------------------------------\n",
      "\n",
      "VARIANT 63 ASSESSMENT:\n",
      "-------------------------\n",
      "Genomic Location: Chr 11:5221635\n",
      "Genetic Change: C → T\n",
      "Genotype: 1/1\n",
      "Classification: Uncertain\n",
      "Variant Name: novel_variant\n",
      "Risk Score: 1.20\n",
      "Risk Level: MINIMAL\n",
      "Interpretation: Low genetic risk - minimal clinical concern\n",
      "Severity Category: Minimal Risk\n",
      "Clinical Description: No sickle cell disease\n",
      "Management Recommendation: No intervention needed\n",
      "--------------------------------------------------\n",
      "\n",
      "VARIANT 64 ASSESSMENT:\n",
      "-------------------------\n",
      "Genomic Location: Chr 11:5247039\n",
      "Genetic Change: T → A\n",
      "Genotype: 0/1\n",
      "Classification: Uncertain\n",
      "Variant Name: novel_variant\n",
      "Risk Score: 0.60\n",
      "Risk Level: MINIMAL\n",
      "Interpretation: Low genetic risk - minimal clinical concern\n",
      "Severity Category: Minimal Risk\n",
      "Clinical Description: No sickle cell disease\n",
      "Management Recommendation: No intervention needed\n",
      "--------------------------------------------------\n",
      "\n",
      "VARIANT 65 ASSESSMENT:\n",
      "-------------------------\n",
      "Genomic Location: Chr 11:5236958\n",
      "Genetic Change: C → A\n",
      "Genotype: 0/1\n",
      "Classification: Uncertain\n",
      "Variant Name: novel_variant\n",
      "Risk Score: 0.60\n",
      "Risk Level: MINIMAL\n",
      "Interpretation: Low genetic risk - minimal clinical concern\n",
      "Severity Category: Minimal Risk\n",
      "Clinical Description: No sickle cell disease\n",
      "Management Recommendation: No intervention needed\n",
      "--------------------------------------------------\n",
      "\n",
      "VARIANT 66 ASSESSMENT:\n",
      "-------------------------\n",
      "Genomic Location: Chr 11:5241071\n",
      "Genetic Change: T → G\n",
      "Genotype: 1/1\n",
      "Classification: Uncertain\n",
      "Variant Name: novel_variant\n",
      "Risk Score: 1.20\n",
      "Risk Level: MINIMAL\n",
      "Interpretation: Low genetic risk - minimal clinical concern\n",
      "Severity Category: Minimal Risk\n",
      "Clinical Description: No sickle cell disease\n",
      "Management Recommendation: No intervention needed\n",
      "--------------------------------------------------\n",
      "\n",
      "VARIANT 67 ASSESSMENT:\n",
      "-------------------------\n",
      "Genomic Location: Chr 11:5227463\n",
      "Genetic Change: T → G\n",
      "Genotype: 0/1\n",
      "Classification: Uncertain\n",
      "Variant Name: novel_variant\n",
      "Risk Score: 0.60\n",
      "Risk Level: MINIMAL\n",
      "Interpretation: Low genetic risk - minimal clinical concern\n",
      "Severity Category: Minimal Risk\n",
      "Clinical Description: No sickle cell disease\n",
      "Management Recommendation: No intervention needed\n",
      "--------------------------------------------------\n",
      "\n",
      "VARIANT 68 ASSESSMENT:\n",
      "-------------------------\n",
      "Genomic Location: Chr 11:5240913\n",
      "Genetic Change: G → C\n",
      "Genotype: 0/1\n",
      "Classification: Uncertain\n",
      "Variant Name: novel_variant\n",
      "Risk Score: 0.60\n",
      "Risk Level: MINIMAL\n",
      "Interpretation: Low genetic risk - minimal clinical concern\n",
      "Severity Category: Minimal Risk\n",
      "Clinical Description: No sickle cell disease\n",
      "Management Recommendation: No intervention needed\n",
      "--------------------------------------------------\n",
      "\n",
      "VARIANT 69 ASSESSMENT:\n",
      "-------------------------\n",
      "Genomic Location: Chr 11:5233798\n",
      "Genetic Change: G → A\n",
      "Genotype: 1/1\n",
      "Classification: Uncertain\n",
      "Variant Name: novel_variant\n",
      "Risk Score: 1.20\n",
      "Risk Level: MINIMAL\n",
      "Interpretation: Low genetic risk - minimal clinical concern\n",
      "Severity Category: Minimal Risk\n",
      "Clinical Description: No sickle cell disease\n",
      "Management Recommendation: No intervention needed\n",
      "--------------------------------------------------\n",
      "\n",
      "VARIANT 70 ASSESSMENT:\n",
      "-------------------------\n",
      "Genomic Location: Chr 11:5232647\n",
      "Genetic Change: T → C\n",
      "Genotype: 0/1\n",
      "Classification: Uncertain\n",
      "Variant Name: novel_variant\n",
      "Risk Score: 0.60\n",
      "Risk Level: MINIMAL\n",
      "Interpretation: Low genetic risk - minimal clinical concern\n",
      "Severity Category: Minimal Risk\n",
      "Clinical Description: No sickle cell disease\n",
      "Management Recommendation: No intervention needed\n",
      "--------------------------------------------------\n",
      "\n",
      "VARIANT 71 ASSESSMENT:\n",
      "-------------------------\n",
      "Genomic Location: Chr 11:5223030\n",
      "Genetic Change: C → T\n",
      "Genotype: 1/1\n",
      "Classification: Uncertain\n",
      "Variant Name: novel_variant\n",
      "Risk Score: 1.20\n",
      "Risk Level: MINIMAL\n",
      "Interpretation: Low genetic risk - minimal clinical concern\n",
      "Severity Category: Minimal Risk\n",
      "Clinical Description: No sickle cell disease\n",
      "Management Recommendation: No intervention needed\n",
      "--------------------------------------------------\n",
      "\n",
      "VARIANT 72 ASSESSMENT:\n",
      "-------------------------\n",
      "Genomic Location: Chr 11:5233360\n",
      "Genetic Change: A → C\n",
      "Genotype: 1/1\n",
      "Classification: Uncertain\n",
      "Variant Name: novel_variant\n",
      "Risk Score: 1.20\n",
      "Risk Level: MINIMAL\n",
      "Interpretation: Low genetic risk - minimal clinical concern\n",
      "Severity Category: Minimal Risk\n",
      "Clinical Description: No sickle cell disease\n",
      "Management Recommendation: No intervention needed\n",
      "--------------------------------------------------\n",
      "\n",
      "VARIANT 73 ASSESSMENT:\n",
      "-------------------------\n",
      "Genomic Location: Chr 11:5229734\n",
      "Genetic Change: G → A\n",
      "Genotype: 0/1\n",
      "Classification: Uncertain\n",
      "Variant Name: novel_variant\n",
      "Risk Score: 0.60\n",
      "Risk Level: MINIMAL\n",
      "Interpretation: Low genetic risk - minimal clinical concern\n",
      "Severity Category: Minimal Risk\n",
      "Clinical Description: No sickle cell disease\n",
      "Management Recommendation: No intervention needed\n",
      "--------------------------------------------------\n",
      "\n",
      "VARIANT 74 ASSESSMENT:\n",
      "-------------------------\n",
      "Genomic Location: Chr 11:5240771\n",
      "Genetic Change: C → G\n",
      "Genotype: 0/1\n",
      "Classification: Uncertain\n",
      "Variant Name: novel_variant\n",
      "Risk Score: 0.60\n",
      "Risk Level: MINIMAL\n",
      "Interpretation: Low genetic risk - minimal clinical concern\n",
      "Severity Category: Minimal Risk\n",
      "Clinical Description: No sickle cell disease\n",
      "Management Recommendation: No intervention needed\n",
      "--------------------------------------------------\n",
      "\n",
      "VARIANT 75 ASSESSMENT:\n",
      "-------------------------\n",
      "Genomic Location: Chr 11:5221495\n",
      "Genetic Change: A → C\n",
      "Genotype: 0/1\n",
      "Classification: Uncertain\n",
      "Variant Name: novel_variant\n",
      "Risk Score: 0.60\n",
      "Risk Level: MINIMAL\n",
      "Interpretation: Low genetic risk - minimal clinical concern\n",
      "Severity Category: Minimal Risk\n",
      "Clinical Description: No sickle cell disease\n",
      "Management Recommendation: No intervention needed\n",
      "--------------------------------------------------\n",
      "\n",
      "VARIANT 76 ASSESSMENT:\n",
      "-------------------------\n",
      "Genomic Location: Chr 11:5223214\n",
      "Genetic Change: T → C\n",
      "Genotype: 0/1\n",
      "Classification: Uncertain\n",
      "Variant Name: novel_variant\n",
      "Risk Score: 0.60\n",
      "Risk Level: MINIMAL\n",
      "Interpretation: Low genetic risk - minimal clinical concern\n",
      "Severity Category: Minimal Risk\n",
      "Clinical Description: No sickle cell disease\n",
      "Management Recommendation: No intervention needed\n",
      "--------------------------------------------------\n",
      "\n",
      "VARIANT 77 ASSESSMENT:\n",
      "-------------------------\n",
      "Genomic Location: Chr 11:5237091\n",
      "Genetic Change: A → T\n",
      "Genotype: 1/1\n",
      "Classification: Uncertain\n",
      "Variant Name: novel_variant\n",
      "Risk Score: 1.20\n",
      "Risk Level: MINIMAL\n",
      "Interpretation: Low genetic risk - minimal clinical concern\n",
      "Severity Category: Minimal Risk\n",
      "Clinical Description: No sickle cell disease\n",
      "Management Recommendation: No intervention needed\n",
      "--------------------------------------------------\n",
      "\n",
      "VARIANT 78 ASSESSMENT:\n",
      "-------------------------\n",
      "Genomic Location: Chr 11:5249107\n",
      "Genetic Change: A → T\n",
      "Genotype: 1/1\n",
      "Classification: Uncertain\n",
      "Variant Name: novel_variant\n",
      "Risk Score: 1.20\n",
      "Risk Level: MINIMAL\n",
      "Interpretation: Low genetic risk - minimal clinical concern\n",
      "Severity Category: Minimal Risk\n",
      "Clinical Description: No sickle cell disease\n",
      "Management Recommendation: No intervention needed\n",
      "--------------------------------------------------\n",
      "\n",
      "VARIANT 79 ASSESSMENT:\n",
      "-------------------------\n",
      "Genomic Location: Chr 11:5225574\n",
      "Genetic Change: A → T\n",
      "Genotype: 0/0\n",
      "Classification: Benign\n",
      "Variant Name: wild_type\n",
      "Risk Score: 0.00\n",
      "Risk Level: MINIMAL\n",
      "Interpretation: Low genetic risk - minimal clinical concern\n",
      "Severity Category: Minimal Risk\n",
      "Clinical Description: No sickle cell disease\n",
      "Management Recommendation: No intervention needed\n",
      "--------------------------------------------------\n",
      "\n",
      "VARIANT 80 ASSESSMENT:\n",
      "-------------------------\n",
      "Genomic Location: Chr 11:5244985\n",
      "Genetic Change: T → G\n",
      "Genotype: 1/1\n",
      "Classification: Uncertain\n",
      "Variant Name: novel_variant\n",
      "Risk Score: 1.20\n",
      "Risk Level: MINIMAL\n",
      "Interpretation: Low genetic risk - minimal clinical concern\n",
      "Severity Category: Minimal Risk\n",
      "Clinical Description: No sickle cell disease\n",
      "Management Recommendation: No intervention needed\n",
      "--------------------------------------------------\n",
      "\n",
      "VARIANT 81 ASSESSMENT:\n",
      "-------------------------\n",
      "Genomic Location: Chr 11:5232689\n",
      "Genetic Change: A → G\n",
      "Genotype: 0/1\n",
      "Classification: Uncertain\n",
      "Variant Name: novel_variant\n",
      "Risk Score: 0.60\n",
      "Risk Level: MINIMAL\n",
      "Interpretation: Low genetic risk - minimal clinical concern\n",
      "Severity Category: Minimal Risk\n",
      "Clinical Description: No sickle cell disease\n",
      "Management Recommendation: No intervention needed\n",
      "--------------------------------------------------\n",
      "\n",
      "VARIANT 82 ASSESSMENT:\n",
      "-------------------------\n",
      "Genomic Location: Chr 11:5239024\n",
      "Genetic Change: A → G\n",
      "Genotype: 1/1\n",
      "Classification: Uncertain\n",
      "Variant Name: novel_variant\n",
      "Risk Score: 1.20\n",
      "Risk Level: MINIMAL\n",
      "Interpretation: Low genetic risk - minimal clinical concern\n",
      "Severity Category: Minimal Risk\n",
      "Clinical Description: No sickle cell disease\n",
      "Management Recommendation: No intervention needed\n",
      "--------------------------------------------------\n",
      "\n",
      "VARIANT 83 ASSESSMENT:\n",
      "-------------------------\n",
      "Genomic Location: Chr 11:5241198\n",
      "Genetic Change: T → C\n",
      "Genotype: 0/0\n",
      "Classification: Benign\n",
      "Variant Name: wild_type\n",
      "Risk Score: 0.00\n",
      "Risk Level: MINIMAL\n",
      "Interpretation: Low genetic risk - minimal clinical concern\n",
      "Severity Category: Minimal Risk\n",
      "Clinical Description: No sickle cell disease\n",
      "Management Recommendation: No intervention needed\n",
      "--------------------------------------------------\n",
      "\n",
      "VARIANT 84 ASSESSMENT:\n",
      "-------------------------\n",
      "Genomic Location: Chr 11:5222132\n",
      "Genetic Change: A → T\n",
      "Genotype: 0/0\n",
      "Classification: Benign\n",
      "Variant Name: wild_type\n",
      "Risk Score: 0.00\n",
      "Risk Level: MINIMAL\n",
      "Interpretation: Low genetic risk - minimal clinical concern\n",
      "Severity Category: Minimal Risk\n",
      "Clinical Description: No sickle cell disease\n",
      "Management Recommendation: No intervention needed\n",
      "--------------------------------------------------\n",
      "\n",
      "VARIANT 85 ASSESSMENT:\n",
      "-------------------------\n",
      "Genomic Location: Chr 11:5221535\n",
      "Genetic Change: G → C\n",
      "Genotype: 0/0\n",
      "Classification: Benign\n",
      "Variant Name: wild_type\n",
      "Risk Score: 0.00\n",
      "Risk Level: MINIMAL\n",
      "Interpretation: Low genetic risk - minimal clinical concern\n",
      "Severity Category: Minimal Risk\n",
      "Clinical Description: No sickle cell disease\n",
      "Management Recommendation: No intervention needed\n",
      "--------------------------------------------------\n",
      "\n",
      "VARIANT 86 ASSESSMENT:\n",
      "-------------------------\n",
      "Genomic Location: Chr 11:5243109\n",
      "Genetic Change: C → A\n",
      "Genotype: 0/0\n",
      "Classification: Benign\n",
      "Variant Name: wild_type\n",
      "Risk Score: 0.00\n",
      "Risk Level: MINIMAL\n",
      "Interpretation: Low genetic risk - minimal clinical concern\n",
      "Severity Category: Minimal Risk\n",
      "Clinical Description: No sickle cell disease\n",
      "Management Recommendation: No intervention needed\n",
      "--------------------------------------------------\n",
      "\n",
      "VARIANT 87 ASSESSMENT:\n",
      "-------------------------\n",
      "Genomic Location: Chr 11:5222777\n",
      "Genetic Change: T → C\n",
      "Genotype: 0/0\n",
      "Classification: Benign\n",
      "Variant Name: wild_type\n",
      "Risk Score: 0.00\n",
      "Risk Level: MINIMAL\n",
      "Interpretation: Low genetic risk - minimal clinical concern\n",
      "Severity Category: Minimal Risk\n",
      "Clinical Description: No sickle cell disease\n",
      "Management Recommendation: No intervention needed\n",
      "--------------------------------------------------\n",
      "\n",
      "VARIANT 88 ASSESSMENT:\n",
      "-------------------------\n",
      "Genomic Location: Chr 11:5238426\n",
      "Genetic Change: T → A\n",
      "Genotype: 1/1\n",
      "Classification: Uncertain\n",
      "Variant Name: novel_variant\n",
      "Risk Score: 1.20\n",
      "Risk Level: MINIMAL\n",
      "Interpretation: Low genetic risk - minimal clinical concern\n",
      "Severity Category: Minimal Risk\n",
      "Clinical Description: No sickle cell disease\n",
      "Management Recommendation: No intervention needed\n",
      "--------------------------------------------------\n",
      "\n",
      "VARIANT 89 ASSESSMENT:\n",
      "-------------------------\n",
      "Genomic Location: Chr 11:5226409\n",
      "Genetic Change: A → T\n",
      "Genotype: 1/1\n",
      "Classification: Uncertain\n",
      "Variant Name: novel_variant\n",
      "Risk Score: 1.20\n",
      "Risk Level: MINIMAL\n",
      "Interpretation: Low genetic risk - minimal clinical concern\n",
      "Severity Category: Minimal Risk\n",
      "Clinical Description: No sickle cell disease\n",
      "Management Recommendation: No intervention needed\n",
      "--------------------------------------------------\n",
      "\n",
      "VARIANT 90 ASSESSMENT:\n",
      "-------------------------\n",
      "Genomic Location: Chr 11:5230667\n",
      "Genetic Change: A → C\n",
      "Genotype: 0/0\n",
      "Classification: Benign\n",
      "Variant Name: wild_type\n",
      "Risk Score: 0.00\n",
      "Risk Level: MINIMAL\n",
      "Interpretation: Low genetic risk - minimal clinical concern\n",
      "Severity Category: Minimal Risk\n",
      "Clinical Description: No sickle cell disease\n",
      "Management Recommendation: No intervention needed\n",
      "--------------------------------------------------\n",
      "\n",
      "VARIANT 91 ASSESSMENT:\n",
      "-------------------------\n",
      "Genomic Location: Chr 11:5249288\n",
      "Genetic Change: A → T\n",
      "Genotype: 1/1\n",
      "Classification: Uncertain\n",
      "Variant Name: novel_variant\n",
      "Risk Score: 1.20\n",
      "Risk Level: MINIMAL\n",
      "Interpretation: Low genetic risk - minimal clinical concern\n",
      "Severity Category: Minimal Risk\n",
      "Clinical Description: No sickle cell disease\n",
      "Management Recommendation: No intervention needed\n",
      "--------------------------------------------------\n",
      "\n",
      "VARIANT 92 ASSESSMENT:\n",
      "-------------------------\n",
      "Genomic Location: Chr 11:5224295\n",
      "Genetic Change: C → A\n",
      "Genotype: 0/1\n",
      "Classification: Uncertain\n",
      "Variant Name: novel_variant\n",
      "Risk Score: 0.60\n",
      "Risk Level: MINIMAL\n",
      "Interpretation: Low genetic risk - minimal clinical concern\n",
      "Severity Category: Minimal Risk\n",
      "Clinical Description: No sickle cell disease\n",
      "Management Recommendation: No intervention needed\n",
      "--------------------------------------------------\n",
      "\n",
      "VARIANT 93 ASSESSMENT:\n",
      "-------------------------\n",
      "Genomic Location: Chr 11:5249686\n",
      "Genetic Change: T → C\n",
      "Genotype: 1/1\n",
      "Classification: Uncertain\n",
      "Variant Name: novel_variant\n",
      "Risk Score: 1.20\n",
      "Risk Level: MINIMAL\n",
      "Interpretation: Low genetic risk - minimal clinical concern\n",
      "Severity Category: Minimal Risk\n",
      "Clinical Description: No sickle cell disease\n",
      "Management Recommendation: No intervention needed\n",
      "--------------------------------------------------\n",
      "\n",
      "VARIANT 94 ASSESSMENT:\n",
      "-------------------------\n",
      "Genomic Location: Chr 11:5228228\n",
      "Genetic Change: C → G\n",
      "Genotype: 1/1\n",
      "Classification: Uncertain\n",
      "Variant Name: novel_variant\n",
      "Risk Score: 1.20\n",
      "Risk Level: MINIMAL\n",
      "Interpretation: Low genetic risk - minimal clinical concern\n",
      "Severity Category: Minimal Risk\n",
      "Clinical Description: No sickle cell disease\n",
      "Management Recommendation: No intervention needed\n",
      "--------------------------------------------------\n",
      "\n",
      "VARIANT 95 ASSESSMENT:\n",
      "-------------------------\n",
      "Genomic Location: Chr 11:5244178\n",
      "Genetic Change: T → A\n",
      "Genotype: 1/1\n",
      "Classification: Uncertain\n",
      "Variant Name: novel_variant\n",
      "Risk Score: 1.20\n",
      "Risk Level: MINIMAL\n",
      "Interpretation: Low genetic risk - minimal clinical concern\n",
      "Severity Category: Minimal Risk\n",
      "Clinical Description: No sickle cell disease\n",
      "Management Recommendation: No intervention needed\n",
      "--------------------------------------------------\n",
      "\n",
      "VARIANT 96 ASSESSMENT:\n",
      "-------------------------\n",
      "Genomic Location: Chr 11:5223052\n",
      "Genetic Change: G → C\n",
      "Genotype: 0/1\n",
      "Classification: Uncertain\n",
      "Variant Name: novel_variant\n",
      "Risk Score: 0.60\n",
      "Risk Level: MINIMAL\n",
      "Interpretation: Low genetic risk - minimal clinical concern\n",
      "Severity Category: Minimal Risk\n",
      "Clinical Description: No sickle cell disease\n",
      "Management Recommendation: No intervention needed\n",
      "--------------------------------------------------\n",
      "\n",
      "VARIANT 97 ASSESSMENT:\n",
      "-------------------------\n",
      "Genomic Location: Chr 11:5224870\n",
      "Genetic Change: C → A\n",
      "Genotype: 1/1\n",
      "Classification: Uncertain\n",
      "Variant Name: novel_variant\n",
      "Risk Score: 1.20\n",
      "Risk Level: MINIMAL\n",
      "Interpretation: Low genetic risk - minimal clinical concern\n",
      "Severity Category: Minimal Risk\n",
      "Clinical Description: No sickle cell disease\n",
      "Management Recommendation: No intervention needed\n",
      "--------------------------------------------------\n",
      "\n",
      "VARIANT 98 ASSESSMENT:\n",
      "-------------------------\n",
      "Genomic Location: Chr 11:5234212\n",
      "Genetic Change: T → G\n",
      "Genotype: 1/1\n",
      "Classification: Uncertain\n",
      "Variant Name: novel_variant\n",
      "Risk Score: 1.20\n",
      "Risk Level: MINIMAL\n",
      "Interpretation: Low genetic risk - minimal clinical concern\n",
      "Severity Category: Minimal Risk\n",
      "Clinical Description: No sickle cell disease\n",
      "Management Recommendation: No intervention needed\n",
      "--------------------------------------------------\n",
      "\n",
      "VARIANT 99 ASSESSMENT:\n",
      "-------------------------\n",
      "Genomic Location: Chr 11:5242721\n",
      "Genetic Change: A → C\n",
      "Genotype: 0/0\n",
      "Classification: Benign\n",
      "Variant Name: wild_type\n",
      "Risk Score: 0.00\n",
      "Risk Level: MINIMAL\n",
      "Interpretation: Low genetic risk - minimal clinical concern\n",
      "Severity Category: Minimal Risk\n",
      "Clinical Description: No sickle cell disease\n",
      "Management Recommendation: No intervention needed\n",
      "--------------------------------------------------\n",
      "\n",
      "VARIANT 100 ASSESSMENT:\n",
      "-------------------------\n",
      "Genomic Location: Chr 11:5222330\n",
      "Genetic Change: T → C\n",
      "Genotype: 1/1\n",
      "Classification: Uncertain\n",
      "Variant Name: novel_variant\n",
      "Risk Score: 1.20\n",
      "Risk Level: MINIMAL\n",
      "Interpretation: Low genetic risk - minimal clinical concern\n",
      "Severity Category: Minimal Risk\n",
      "Clinical Description: No sickle cell disease\n",
      "Management Recommendation: No intervention needed\n",
      "--------------------------------------------------\n",
      "\n",
      "Detailed assessment completed for 100 variants.\n",
      "Analysis provides comprehensive genetic risk profile.\n"
     ]
    }
   ],
   "source": [
    "# Detailed variant-by-variant clinical analysis\n",
    "print(\"DETAILED VARIANT-BY-VARIANT CLINICAL ASSESSMENT\")\n",
    "print(\"=\" * 55)\n",
    "\n",
    "for idx, (_, variant) in enumerate(results.iterrows(), 1):\n",
    "    print(f\"\\nVARIANT {idx} ASSESSMENT:\")\n",
    "    print(\"-\" * 25)\n",
    "    \n",
    "    # Basic variant information\n",
    "    print(f\"Genomic Location: Chr {variant['chromosome']}:{variant['position']}\")\n",
    "    print(f\"Genetic Change: {variant['ref_allele']} → {variant['alt_allele']}\")\n",
    "    print(f\"Genotype: {variant['genotype']}\")\n",
    "    \n",
    "    # Classification and naming\n",
    "    if 'variant_classification' in variant:\n",
    "        print(f\"Classification: {variant['variant_classification'].title()}\")\n",
    "    if 'variant_name' in variant:\n",
    "        print(f\"Variant Name: {variant['variant_name']}\")\n",
    "    \n",
    "    # Risk assessment\n",
    "    if 'risk_score' in variant:\n",
    "        risk_score = variant['risk_score']\n",
    "        print(f\"Risk Score: {risk_score:.2f}\")\n",
    "        \n",
    "        # Risk level and interpretation\n",
    "        if risk_score < 0:\n",
    "            risk_level = \"PROTECTIVE\"\n",
    "            interpretation = \"Beneficial genetic factor - may reduce disease risk\"\n",
    "        elif risk_score < 20:\n",
    "            risk_level = \"MINIMAL\"\n",
    "            interpretation = \"Low genetic risk - minimal clinical concern\"\n",
    "        elif risk_score < 40:\n",
    "            risk_level = \"CARRIER/MILD\"\n",
    "            interpretation = \"Carrier status or mild risk - monitoring recommended\"\n",
    "        elif risk_score < 70:\n",
    "            risk_level = \"MODERATE\"\n",
    "            interpretation = \"Moderate genetic risk - regular medical supervision\"\n",
    "        else:\n",
    "            risk_level = \"HIGH\"\n",
    "            interpretation = \"High genetic risk - specialised care required\"\n",
    "        \n",
    "        print(f\"Risk Level: {risk_level}\")\n",
    "        print(f\"Interpretation: {interpretation}\")\n",
    "    \n",
    "    # Clinical details\n",
    "    if 'severity_category' in variant:\n",
    "        severity = variant['severity_category'].replace('_', ' ').title()\n",
    "        print(f\"Severity Category: {severity}\")\n",
    "    \n",
    "    if 'severity_description' in variant:\n",
    "        print(f\"Clinical Description: {variant['severity_description']}\")\n",
    "    \n",
    "    if 'clinical_management' in variant:\n",
    "        print(f\"Management Recommendation: {variant['clinical_management']}\")\n",
    "    \n",
    "    # Special notes for specific variant types\n",
    "    if 'is_pathogenic' in variant and variant['is_pathogenic']:\n",
    "        print(f\"CLINICAL ALERT: Pathogenic variant identified\")\n",
    "        print(f\"Genetic counseling strongly recommended\")\n",
    "        print(f\"Family screening may be indicated\")\n",
    "    \n",
    "    if 'is_modifier' in variant and variant['is_modifier']:\n",
    "        print(f\"POSITIVE NOTE: Protective modifier variant\")\n",
    "        print(f\"May improve clinical outcomes\")\n",
    "        print(f\"Consider in treatment planning\")\n",
    "    \n",
    "    print(\"-\" * 50)\n",
    "\n",
    "print(f\"\\nDetailed assessment completed for {len(results)} variants.\")\n",
    "print(f\"Analysis provides comprehensive genetic risk profile.\")"
   ]
  },
  {
   "cell_type": "markdown",
   "metadata": {},
   "source": [
    "## 8. Exporting Results and Creating Reports\n",
    "\n",
    "Finally, let's export our analysis results in various formats for clinical use and further analysis."
   ]
  },
  {
   "cell_type": "code",
   "execution_count": 23,
   "metadata": {},
   "outputs": [
    {
     "name": "stdout",
     "output_type": "stream",
     "text": [
      "SETTING UP RESULT EXPORT\n",
      "===================================\n",
      "Created output directory: ..\\results\\tutorial_analysis_20250910_145315\n",
      "Created plots directory: ..\\results\\tutorial_analysis_20250910_145315\\visualisations\n",
      "Analysis timestamp: 20250910_145315\n",
      "\n",
      "Export Plan:\n",
      "1. Complete analysis results (CSV)\n",
      "2. Clinical summary report (TXT)\n",
      "3. Patient-friendly summary (TXT)\n",
      "4. Statistical summary (JSON)\n",
      "5. Visualisation plots (PNG)\n"
     ]
    }
   ],
   "source": [
    "# Set up export directory and file naming\n",
    "print(\"SETTING UP RESULT EXPORT\")\n",
    "print(\"=\" * 35)\n",
    "\n",
    "# Create output directory structure\n",
    "from datetime import datetime\n",
    "\n",
    "timestamp = datetime.now().strftime(\"%Y%m%d_%H%M%S\")\n",
    "output_base_dir = Path('../results')\n",
    "output_dir = output_base_dir / f'tutorial_analysis_{timestamp}'\n",
    "plots_dir = output_dir / 'visualisations'\n",
    "\n",
    "# Create directories\n",
    "output_dir.mkdir(parents=True, exist_ok=True)\n",
    "plots_dir.mkdir(parents=True, exist_ok=True)\n",
    "\n",
    "print(f\"Created output directory: {output_dir}\")\n",
    "print(f\"Created plots directory: {plots_dir}\")\n",
    "print(f\"Analysis timestamp: {timestamp}\")\n",
    "\n",
    "print(\"\\nExport Plan:\")\n",
    "export_items = [\n",
    "    \"Complete analysis results (CSV)\",\n",
    "    \"Clinical summary report (TXT)\",\n",
    "    \"Patient-friendly summary (TXT)\",\n",
    "    \"Statistical summary (JSON)\",\n",
    "    \"Visualisation plots (PNG)\"\n",
    "]\n",
    "\n",
    "for i, item in enumerate(export_items, 1):\n",
    "    print(f\"{i}. {item}\")"
   ]
  },
  {
   "cell_type": "code",
   "execution_count": 24,
   "metadata": {},
   "outputs": [
    {
     "name": "stdout",
     "output_type": "stream",
     "text": [
      "Exporting Detailed Analysis Results...\n",
      "Complete results saved: complete_variant_analysis.csv\n",
      "Clinical summary saved: clinical_summary_report.txt\n",
      "Patient summary saved: patient_friendly_summary.txt\n"
     ]
    }
   ],
   "source": [
    "# Export detailed analysis results\n",
    "print(\"Exporting Detailed Analysis Results...\")\n",
    "\n",
    "# 1. Complete analysis results as CSV\n",
    "results_csv_path = output_dir / 'complete_variant_analysis.csv'\n",
    "results.to_csv(results_csv_path, index=False)\n",
    "print(f\"Complete results saved: {results_csv_path.name}\")\n",
    "\n",
    "# 2. Clinical summary for healthcare providers\n",
    "clinical_summary_path = output_dir / 'clinical_summary_report.txt'\n",
    "with open(clinical_summary_path, 'w', encoding='utf-8') as f:\n",
    "    f.write(\"SickleScope Genetic Variant Analysis - Clinical Summary Report\\n\")\n",
    "    f.write(\"=\" * 65 + \"\\n\\n\")\n",
    "    \n",
    "    f.write(f\"Analysis Date: {datetime.now().strftime('%Y-%m-%d %H:%M:%S')}\\n\")\n",
    "    f.write(f\"Total Variants Analysed: {len(results)}\\n\\n\")\n",
    "    \n",
    "    # Summary statistics\n",
    "    if visualiser:\n",
    "        summary_stats = visualiser.generate_summary_statistics(results)\n",
    "        f.write(\"STATISTICAL SUMMARY:\\n\")\n",
    "        f.write(\"-\" * 25 + \"\\n\")\n",
    "        for key, value in summary_stats.items():\n",
    "            clean_key = key.replace('_', ' ').title()\n",
    "            f.write(f\"{clean_key}: {value}\\n\")\n",
    "        f.write(\"\\n\")\n",
    "    \n",
    "    # Risk stratification\n",
    "    if 'risk_score' in results.columns:\n",
    "        f.write(\"RISK STRATIFICATION:\\n\")\n",
    "        f.write(\"-\" * 20 + \"\\n\")\n",
    "        \n",
    "        risk_ranges = [\n",
    "            ('High Risk (>70)', len(results[results['risk_score'] > 70])),\n",
    "            ('Moderate Risk (40-70)', len(results[(results['risk_score'] >= 40) & (results['risk_score'] <= 70)])),\n",
    "            ('Carrier Status (20-40)', len(results[(results['risk_score'] >= 20) & (results['risk_score'] < 40)])),\n",
    "            ('Minimal Risk (0-20)', len(results[(results['risk_score'] >= 0) & (results['risk_score'] < 20)])),\n",
    "            ('Protective Factors (<0)', len(results[results['risk_score'] < 0]))\n",
    "        ]\n",
    "        \n",
    "        for category, count in risk_ranges:\n",
    "            percentage = (count / len(results)) * 100\n",
    "            f.write(f\"{category}: {count} variants ({percentage:.1f}%)\\n\")\n",
    "        f.write(\"\\n\")\n",
    "    \n",
    "    # Clinical recommendations\n",
    "    if 'clinical_management' in results.columns:\n",
    "        f.write(\"CLINICAL MANAGEMENT RECOMMENDATIONS:\\n\")\n",
    "        f.write(\"-\" * 35 + \"\\n\")\n",
    "        management_counts = results['clinical_management'].value_counts()\n",
    "        for management, count in management_counts.items():\n",
    "            f.write(f\"{management}: {count} variant(s)\\n\")\n",
    "        f.write(\"\\n\")\n",
    "    \n",
    "    f.write(\"IMPORTANT DISCLAIMER:\\n\")\n",
    "    f.write(\"-\" * 20 + \"\\n\")\n",
    "    f.write(\"This analysis is for research and educational purposes only.\\n\")\n",
    "    f.write(\"Clinical decisions should always involve qualified healthcare professionals.\\n\")\n",
    "    f.write(\"Genetic counseling is recommended for significant findings.\\n\")\n",
    "\n",
    "print(f\"Clinical summary saved: {clinical_summary_path.name}\")\n",
    "\n",
    "# 3. Patient-friendly summary\n",
    "patient_summary_path = output_dir / 'patient_friendly_summary.txt'\n",
    "with open(patient_summary_path, 'w', encoding='utf-8') as f:\n",
    "    f.write(\"Your Genetic Variant Analysis Results - Easy-to-Understand Summary\\n\")\n",
    "    f.write(\"=\" * 70 + \"\\n\\n\")\n",
    "    \n",
    "    f.write(\"What This Test Looked For:\\n\")\n",
    "    f.write(\"-\" * 25 + \"\\n\")\n",
    "    f.write(\"This analysis examined your genetic variants (DNA changes) related to\\n\")\n",
    "    f.write(\"sickle cell disease and other blood disorders. We looked at specific\\n\")\n",
    "    f.write(\"areas of your DNA to assess your genetic risk profile.\\n\\n\")\n",
    "    \n",
    "    f.write(f\"Summary of Your Results ({len(results)} variants analysed):\\n\")\n",
    "    f.write(\"-\" * 40 + \"\\n\")\n",
    "    \n",
    "    if 'risk_score' in results.columns:\n",
    "        max_risk = results['risk_score'].max()\n",
    "        mean_risk = results['risk_score'].mean()\n",
    "        \n",
    "        if max_risk > 70:\n",
    "            f.write(\"HIGH PRIORITY: Some variants suggest increased genetic risk.\\n\")\n",
    "            f.write(\"Follow up with your healthcare provider is important.\\n\")\n",
    "            f.write(\"Genetic counseling is strongly recommended.\\n\\n\")\n",
    "        elif max_risk > 40:\n",
    "            f.write(\"MODERATE PRIORITY: Some variants suggest mild to moderate risk.\\n\")\n",
    "            f.write(\"Discuss results with your doctor at your next visit.\\n\")\n",
    "            f.write(\"Consider genetic counseling if planning a family.\\n\\n\")\n",
    "        else:\n",
    "            f.write(\"GOOD NEWS: Your genetic risk profile appears favorable.\\n\")\n",
    "            f.write(\"No immediate concerns identified.\\n\")\n",
    "            f.write(\"Continue regular healthcare as recommended by your doctor.\\n\\n\")\n",
    "        \n",
    "        f.write(f\"Your highest risk score: {max_risk:.1f} out of 100\\n\")\n",
    "        f.write(f\"Your average risk score: {mean_risk:.1f} out of 100\\n\\n\")\n",
    "    \n",
    "    # Protective factors\n",
    "    if 'risk_score' in results.columns:\n",
    "        protective_count = len(results[results['risk_score'] < 0])\n",
    "        if protective_count > 0:\n",
    "            f.write(f\"POSITIVE FINDING: {protective_count} protective genetic factor(s) found!\\n\")\n",
    "            f.write(\"These may help reduce your risk of certain complications.\\n\\n\")\n",
    "    \n",
    "    f.write(\"What Should You Do Next?\\n\")\n",
    "    f.write(\"-\" * 25 + \"\\n\")\n",
    "    f.write(\"1. Share these results with your healthcare provider\\n\")\n",
    "    f.write(\"2. Ask questions about anything you don't understand\\n\")\n",
    "    f.write(\"3. Consider genetic counseling, especially if planning a family\\n\")\n",
    "    f.write(\"4. Keep these results for your medical records\\n\\n\")\n",
    "    \n",
    "    f.write(\"Remember: Having genetic variants doesn't always mean you will develop disease.\\n\")\n",
    "    f.write(\"Many factors affect your health, including lifestyle and environmental factors.\\n\")\n",
    "\n",
    "print(f\"Patient summary saved: {patient_summary_path.name}\")"
   ]
  },
  {
   "cell_type": "code",
   "execution_count": 25,
   "metadata": {},
   "outputs": [
    {
     "name": "stdout",
     "output_type": "stream",
     "text": [
      "Exporting Statistical Summary...\n",
      "JSON statistics saved: analysis_statistics.json\n",
      "Clinical CSV saved: clinical_focused_results.csv\n",
      "\n",
      "Export Summary:\n",
      "Output directory: ..\\results\\tutorial_analysis_20250910_145315\n",
      "Files created: 6\n",
      "Total size: 41.5 KB\n"
     ]
    }
   ],
   "source": [
    "# Export statistical summary as JSON\n",
    "print(\"Exporting Statistical Summary...\")\n",
    "\n",
    "import json\n",
    "\n",
    "# Prepare comprehensive statistics\n",
    "stats_summary = {\n",
    "    \"analysis_info\": {\n",
    "        \"timestamp\": datetime.now().isoformat(),\n",
    "        \"total_variants\": len(results),\n",
    "        \"analysis_version\": \"SickleScope v1.0\"\n",
    "    }\n",
    "}\n",
    "\n",
    "# Add basic statistics if available\n",
    "if visualiser:\n",
    "    basic_stats = visualiser.generate_summary_statistics(results)\n",
    "    stats_summary[\"variant_statistics\"] = basic_stats\n",
    "\n",
    "# Add classification breakdown\n",
    "if 'variant_classification' in results.columns:\n",
    "    classification_counts = results['variant_classification'].value_counts()\n",
    "    stats_summary[\"classification_breakdown\"] = classification_counts.to_dict()\n",
    "\n",
    "# Add risk score distribution\n",
    "if 'risk_score' in results.columns:\n",
    "    risk_stats = {\n",
    "        \"mean\": float(results['risk_score'].mean()),\n",
    "        \"median\": float(results['risk_score'].median()),\n",
    "        \"std\": float(results['risk_score'].std()),\n",
    "        \"min\": float(results['risk_score'].min()),\n",
    "        \"max\": float(results['risk_score'].max()),\n",
    "        \"risk_distribution\": {\n",
    "            \"protective_factors\": int(len(results[results['risk_score'] < 0])),\n",
    "            \"minimal_risk\": int(len(results[(results['risk_score'] >= 0) & (results['risk_score'] < 20)])),\n",
    "            \"carrier_status\": int(len(results[(results['risk_score'] >= 20) & (results['risk_score'] < 40)])),\n",
    "            \"moderate_risk\": int(len(results[(results['risk_score'] >= 40) & (results['risk_score'] < 70)])),\n",
    "            \"high_risk\": int(len(results[results['risk_score'] >= 70]))\n",
    "        }\n",
    "    }\n",
    "    stats_summary[\"risk_analysis\"] = risk_stats\n",
    "\n",
    "# Add genotype distribution\n",
    "if 'genotype' in results.columns:\n",
    "    genotype_counts = results['genotype'].value_counts()\n",
    "    stats_summary[\"genotype_distribution\"] = genotype_counts.to_dict()\n",
    "\n",
    "# Save JSON file\n",
    "json_stats_path = output_dir / 'analysis_statistics.json'\n",
    "with open(json_stats_path, 'w', encoding='utf-8') as f:\n",
    "    json.dump(stats_summary, f, indent=2, ensure_ascii=False)\n",
    "\n",
    "print(f\"JSON statistics saved: {json_stats_path.name}\")\n",
    "\n",
    "# 4. Export clinical-focused CSV for healthcare providers\n",
    "clinical_csv_path = output_dir / 'clinical_focused_results.csv'\n",
    "clinical_columns = [\n",
    "    'chromosome', 'position', 'ref_allele', 'alt_allele', 'genotype',\n",
    "    'variant_name', 'variant_classification', 'risk_score',\n",
    "    'severity_category', 'severity_description', 'clinical_management'\n",
    "]\n",
    "\n",
    "# Select only available columns\n",
    "available_clinical_columns = [col for col in clinical_columns if col in results.columns]\n",
    "clinical_df = results[available_clinical_columns].copy()\n",
    "\n",
    "# Add interpretive columns\n",
    "if 'risk_score' in clinical_df.columns:\n",
    "    clinical_df['risk_level'] = clinical_df['risk_score'].apply(lambda x: \n",
    "        'Protective' if x < 0 else\n",
    "        'Minimal' if x < 20 else\n",
    "        'Carrier' if x < 40 else\n",
    "        'Moderate' if x < 70 else\n",
    "        'High'\n",
    "    )\n",
    "\n",
    "clinical_df.to_csv(clinical_csv_path, index=False)\n",
    "print(f\"Clinical CSV saved: {clinical_csv_path.name}\")\n",
    "\n",
    "print(f\"\\nExport Summary:\")\n",
    "print(f\"Output directory: {output_dir}\")\n",
    "print(f\"Files created: {len(list(output_dir.glob('*')))}\")\n",
    "print(f\"Total size: {sum(f.stat().st_size for f in output_dir.rglob('*') if f.is_file()) / 1024:.1f} KB\")"
   ]
  },
  {
   "cell_type": "markdown",
   "metadata": {},
   "source": [
    "## Tutorial Completion Summary\n",
    "\n",
    "**Congratulations!** You have successfully completed the comprehensive SickleScope tutorial!\n",
    "\n",
    "### What We Accomplished:\n",
    "\n",
    "**1. Data Management & Validation**\n",
    "- Loaded and validated genetic variant data\n",
    "- Understood data format requirements and genotype notation\n",
    "- Performed quality control checks\n",
    "\n",
    "**2. Comprehensive Genetic Analysis**\n",
    "- Classified variants using evidence-based algorithms\n",
    "- Calculated risk scores with weighted clinical factors\n",
    "- Identified pathogenic, benign, and protective variants\n",
    "\n",
    "**3. Clinical Interpretation**\n",
    "- Generated severity assessments and risk stratification\n",
    "- Created clinical management recommendations\n",
    "- Provided patient-friendly result interpretations\n",
    "\n",
    "**4. Advanced Visualisation**\n",
    "- Created comprehensive analysis dashboards\n",
    "- Generated individual risk assessment gauges\n",
    "- Performed correlation analysis and statistical summaries\n",
    "- Built interactive visualisations with real-time exploration\n",
    "\n",
    "**5. Interactive Data Exploration**\n",
    "- Developed dynamic dashboards with hover details\n",
    "- Implemented zoom, pan, and filtering capabilities\n",
    "- Created multi-component visualisations combining risk scores, variant classifications, and genomic positions\n",
    "- Enabled real-time data exploration with interactive legends and tooltips\n",
    "\n",
    "**6. Professional Reporting**\n",
    "- Exported results in multiple formats (CSV, JSON, TXT)\n",
    "- Generated clinical and patient-friendly reports\n",
    "- Created publication-ready visualisations\n",
    "- Produced interactive HTML outputs for stakeholder engagement\n",
    "\n",
    "### Key Learning Points:\n",
    "\n",
    "- **Risk Scoring Algorithm**: Understanding the 60/20/10/10 weighting system for HBB variants, BCL11A, HBS1L-MYB, and other modifiers\n",
    "- **Clinical Significance**: How genotype (0/0, 0/1, 1/1) affects risk score multipliers\n",
    "- **Evidence-Based Classification**: Using ClinVar, OMIM, and population genetic databases\n",
    "- **Protective Factors**: Identifying variants that may reduce disease severity\n",
    "- **Clinical Applications**: Translating genetic findings into actionable medical recommendations\n",
    "\n",
    "### Next Steps:\n",
    "\n",
    "1. **Try Your Own Data**: Use SickleScope with your own genetic variant datasets\n",
    "2. **Explore Advanced Notebooks**: Check out `examples.ipynb` and `advanced.ipynb`\n",
    "3. **Command Line Usage**: Learn batch processing with `python -m sickle_scope.cli`\n",
    "\n",
    "### Additional Resources:\n",
    "\n",
    "- **Documentation**: `README.md` for complete package documentation\n",
    "- **Source Code**: Explore `sickle_scope/` directory for implementation details\n",
    "- **Test Data**: Use `tests/sample_data/` for additional examples\n",
    "- **Clinical Guidelines**: Consult sickle cell disease treatment guidelines for clinical applications\n",
    "\n",
    "### Important Reminders:\n",
    "\n",
    "- This analysis is for research and educational purposes\n",
    "- Always involve qualified healthcare professionals for clinical decisions\n",
    "- Genetic counselling is recommended for significant findings\n",
    "\n",
    "---\n",
    "\n",
    "**Thank you for completing the SickleScope tutorial!**"
   ]
  }
 ],
 "metadata": {
  "kernelspec": {
   "display_name": "Python 3",
   "language": "python",
   "name": "python3"
  },
  "language_info": {
   "codemirror_mode": {
    "name": "ipython",
    "version": 3
   },
   "file_extension": ".py",
   "mimetype": "text/x-python",
   "name": "python",
   "nbconvert_exporter": "python",
   "pygments_lexer": "ipython3",
   "version": "3.13.7"
  }
 },
 "nbformat": 4,
 "nbformat_minor": 4
}
